{
 "cells": [
  {
   "cell_type": "code",
   "execution_count": 1,
   "metadata": {},
   "outputs": [
    {
     "data": {
      "text/html": [
       "<div>\n",
       "<style scoped>\n",
       "    .dataframe tbody tr th:only-of-type {\n",
       "        vertical-align: middle;\n",
       "    }\n",
       "\n",
       "    .dataframe tbody tr th {\n",
       "        vertical-align: top;\n",
       "    }\n",
       "\n",
       "    .dataframe thead th {\n",
       "        text-align: right;\n",
       "    }\n",
       "</style>\n",
       "<table border=\"1\" class=\"dataframe\">\n",
       "  <thead>\n",
       "    <tr style=\"text-align: right;\">\n",
       "      <th></th>\n",
       "      <th>emne_id</th>\n",
       "      <th>emne_navn</th>\n",
       "      <th>emne_navn_eng</th>\n",
       "      <th>studiepoeng</th>\n",
       "      <th>emne_utbytte</th>\n",
       "      <th>emne_innhold</th>\n",
       "      <th>faculty_code</th>\n",
       "      <th>contains_description</th>\n",
       "    </tr>\n",
       "  </thead>\n",
       "  <tbody>\n",
       "    <tr>\n",
       "      <th>0</th>\n",
       "      <td>BE-002</td>\n",
       "      <td>Forkurs i bedriftsøkonomi for EMBA-studenter</td>\n",
       "      <td>Forkurs i bedriftsøkonomi for EMBA-studenter</td>\n",
       "      <td>0.0</td>\n",
       "      <td>['Etter fullført emne skal studenten:', ['ha g...</td>\n",
       "      <td>['Emnet tilbys som et valgfritt forkurs til st...</td>\n",
       "      <td>HH</td>\n",
       "      <td>True</td>\n",
       "    </tr>\n",
       "    <tr>\n",
       "      <th>1</th>\n",
       "      <td>BE-111</td>\n",
       "      <td>Innføring i finansregnskap</td>\n",
       "      <td>Introduction to Financial Accounting</td>\n",
       "      <td>7.5</td>\n",
       "      <td>['Etter å ha fullført dette emnet skal student...</td>\n",
       "      <td>['Emnet gir en grunnleggende innføring i finan...</td>\n",
       "      <td>HH</td>\n",
       "      <td>True</td>\n",
       "    </tr>\n",
       "  </tbody>\n",
       "</table>\n",
       "</div>"
      ],
      "text/plain": [
       "  emne_id                                     emne_navn  \\\n",
       "0  BE-002  Forkurs i bedriftsøkonomi for EMBA-studenter   \n",
       "1  BE-111                    Innføring i finansregnskap   \n",
       "\n",
       "                                  emne_navn_eng  studiepoeng  \\\n",
       "0  Forkurs i bedriftsøkonomi for EMBA-studenter          0.0   \n",
       "1          Introduction to Financial Accounting          7.5   \n",
       "\n",
       "                                        emne_utbytte  \\\n",
       "0  ['Etter fullført emne skal studenten:', ['ha g...   \n",
       "1  ['Etter å ha fullført dette emnet skal student...   \n",
       "\n",
       "                                        emne_innhold faculty_code  \\\n",
       "0  ['Emnet tilbys som et valgfritt forkurs til st...           HH   \n",
       "1  ['Emnet gir en grunnleggende innføring i finan...           HH   \n",
       "\n",
       "   contains_description  \n",
       "0                  True  \n",
       "1                  True  "
      ]
     },
     "execution_count": 1,
     "metadata": {},
     "output_type": "execute_result"
    }
   ],
   "source": [
    "import os\n",
    "import pandas as pd\n",
    "from ast import literal_eval\n",
    "\n",
    "SUBJECT_FOLDER = \"data/course_data_stripped.csv\"\n",
    "course_df = pd.read_csv(SUBJECT_FOLDER, sep=\";\")\n",
    "course_df.head(2)"
   ]
  },
  {
   "cell_type": "code",
   "execution_count": null,
   "metadata": {},
   "outputs": [],
   "source": [
    "# We'll do some initial preprocessing of the data.\n",
    "# Since we're loading data from csv, we'll need to convert the string representation of lists back to lists.\n",
    "course_df[\"emne_innhold\"] = course_df[\"emne_innhold\"].apply(literal_eval)\n",
    "course_df[\"emne_utbytte\"] = course_df[\"emne_utbytte\"].apply(literal_eval)\n",
    "\n",
    "# Some of the courses have neglected to provide a course description. We'll remove these courses from the dataset.\n",
    "course_df[\"contains_description\"] = course_df[\"emne_innhold\"].apply(lambda x : len(x) > 0)\n",
    "course_df = course_df[course_df[\"contains_description\"]].copy()\n",
    "course_df = course_df.drop(columns=[\"contains_description\"])\n",
    "\n",
    "# We'll need to convert the course content into strings to be able to embed them.\n",
    "# The structure I decided to use here is somewhat arbitrary\n",
    "def construct_full_course_description(row):\n",
    "    return f\"Course Code: {row['emne_id']}\\n \\\n",
    "    Course Name: {row['emne_navn_eng']}\\n\\n \\\n",
    "    Course Outcomes: \\n {row['emne_utbytte']}\\n\\n \\\n",
    "    Course Content: \\n {row['emne_innhold']} \\\n",
    "    \"\n",
    "\n",
    "content_to_embed = course_df.apply(construct_full_course_description, axis=1).values"
   ]
  },
  {
   "cell_type": "code",
   "execution_count": null,
   "metadata": {},
   "outputs": [
    {
     "data": {
      "application/vnd.jupyter.widget-view+json": {
       "model_id": "db889798ab86493fb6cf8b847ebbda33",
       "version_major": 2,
       "version_minor": 0
      },
      "text/plain": [
       "  0%|          | 0/9 [00:00<?, ?it/s]"
      ]
     },
     "metadata": {},
     "output_type": "display_data"
    },
    {
     "name": "stdout",
     "output_type": "stream",
     "text": [
      "Total tokens: 578492 for a total of 1144 embeddings\n"
     ]
    }
   ],
   "source": [
    "import voyageai\n",
    "from tqdm.notebook import tqdm\n",
    "\n",
    "# Remember to replace the placeholder string with your Voyage AI API key\n",
    "VOYAGE_AI_API_KEY = \"placeholder-string\"\n",
    "if VOYAGE_AI_API_KEY == \"placeholder-string\":\n",
    "    raise ValueError(\"Please provide a Voyage AI API key\")\n",
    "\n",
    "voyageai.api_key = VOYAGE_AI_API_KEY\n",
    "vo = voyageai.Client()\n",
    "\n",
    "# Maximum batch size of 128 per request, we'll need to split the data into batches\n",
    "BATCH_SIZE = 128\n",
    "number_of_batches = len(content_to_embed) // BATCH_SIZE + 1\n",
    "embeddings = []\n",
    "total_tokens = 0\n",
    "for i in tqdm(range(number_of_batches)):\n",
    "    start_index = i * BATCH_SIZE\n",
    "    end_index = min((i + 1) * BATCH_SIZE, len(content_to_embed))\n",
    "    batch_content = content_to_embed[start_index:end_index]\n",
    "    batch_embeddings = vo.embed(list(batch_content), model=\"voyage-3\")\n",
    "    embeddings.extend(batch_embeddings.embeddings)\n",
    "    total_tokens += batch_embeddings.total_tokens\n",
    "\n",
    "# Voyage AI provides a solid interface overview of how many tokens have been used on your account so far.\n",
    "# At the time of writing they provide 2 million tokens for free.\n",
    "print(f\"Total tokens: {total_tokens} for a total of {len(embeddings)} embeddings\")\n",
    "course_df[\"embedding\"] = embeddings"
   ]
  },
  {
   "cell_type": "code",
   "execution_count": null,
   "metadata": {},
   "outputs": [],
   "source": [
    "# Save the dataframe to disk in the form of a pickle file.\n",
    "DATAFRAME_PATH = \"data/course_data_embedded.pkl\"\n",
    "course_df.to_pickle(DATAFRAME_PATH)"
   ]
  }
 ],
 "metadata": {
  "kernelspec": {
   "display_name": "course_similarity",
   "language": "python",
   "name": "python3"
  },
  "language_info": {
   "codemirror_mode": {
    "name": "ipython",
    "version": 3
   },
   "file_extension": ".py",
   "mimetype": "text/x-python",
   "name": "python",
   "nbconvert_exporter": "python",
   "pygments_lexer": "ipython3",
   "version": "3.10.15"
  }
 },
 "nbformat": 4,
 "nbformat_minor": 2
}
