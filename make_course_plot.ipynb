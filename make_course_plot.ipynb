{
 "cells": [
  {
   "cell_type": "code",
   "execution_count": 12,
   "metadata": {},
   "outputs": [
    {
     "data": {
      "text/html": [
       "<div>\n",
       "<style scoped>\n",
       "    .dataframe tbody tr th:only-of-type {\n",
       "        vertical-align: middle;\n",
       "    }\n",
       "\n",
       "    .dataframe tbody tr th {\n",
       "        vertical-align: top;\n",
       "    }\n",
       "\n",
       "    .dataframe thead th {\n",
       "        text-align: right;\n",
       "    }\n",
       "</style>\n",
       "<table border=\"1\" class=\"dataframe\">\n",
       "  <thead>\n",
       "    <tr style=\"text-align: right;\">\n",
       "      <th></th>\n",
       "      <th>emne_id</th>\n",
       "      <th>emne_navn</th>\n",
       "      <th>emne_navn_eng</th>\n",
       "      <th>studiepoeng</th>\n",
       "      <th>emne_utbytte</th>\n",
       "      <th>emne_innhold</th>\n",
       "      <th>faculty_code</th>\n",
       "      <th>embedding</th>\n",
       "    </tr>\n",
       "  </thead>\n",
       "  <tbody>\n",
       "    <tr>\n",
       "      <th>0</th>\n",
       "      <td>BE-002</td>\n",
       "      <td>Forkurs i bedriftsøkonomi for EMBA-studenter</td>\n",
       "      <td>Forkurs i bedriftsøkonomi for EMBA-studenter</td>\n",
       "      <td>0.0</td>\n",
       "      <td>[Etter fullført emne skal studenten:, [ha gene...</td>\n",
       "      <td>[Emnet tilbys som et valgfritt forkurs til stu...</td>\n",
       "      <td>HH</td>\n",
       "      <td>[-0.007871167734265327, -0.09496525675058365, ...</td>\n",
       "    </tr>\n",
       "    <tr>\n",
       "      <th>1</th>\n",
       "      <td>BE-111</td>\n",
       "      <td>Innføring i finansregnskap</td>\n",
       "      <td>Introduction to Financial Accounting</td>\n",
       "      <td>7.5</td>\n",
       "      <td>[Etter å ha fullført dette emnet skal studente...</td>\n",
       "      <td>[Emnet gir en grunnleggende innføring i finans...</td>\n",
       "      <td>HH</td>\n",
       "      <td>[0.005303630139678717, -0.07340927422046661, -...</td>\n",
       "    </tr>\n",
       "  </tbody>\n",
       "</table>\n",
       "</div>"
      ],
      "text/plain": [
       "  emne_id                                     emne_navn  \\\n",
       "0  BE-002  Forkurs i bedriftsøkonomi for EMBA-studenter   \n",
       "1  BE-111                    Innføring i finansregnskap   \n",
       "\n",
       "                                  emne_navn_eng  studiepoeng  \\\n",
       "0  Forkurs i bedriftsøkonomi for EMBA-studenter          0.0   \n",
       "1          Introduction to Financial Accounting          7.5   \n",
       "\n",
       "                                        emne_utbytte  \\\n",
       "0  [Etter fullført emne skal studenten:, [ha gene...   \n",
       "1  [Etter å ha fullført dette emnet skal studente...   \n",
       "\n",
       "                                        emne_innhold faculty_code  \\\n",
       "0  [Emnet tilbys som et valgfritt forkurs til stu...           HH   \n",
       "1  [Emnet gir en grunnleggende innføring i finans...           HH   \n",
       "\n",
       "                                           embedding  \n",
       "0  [-0.007871167734265327, -0.09496525675058365, ...  \n",
       "1  [0.005303630139678717, -0.07340927422046661, -...  "
      ]
     },
     "execution_count": 12,
     "metadata": {},
     "output_type": "execute_result"
    }
   ],
   "source": [
    "import pandas as pd\n",
    "\n",
    "DATAFRAME_PICKLE_PATH = \"data/course_data_embedded.pkl\"\n",
    "course_df = pd.read_pickle(DATAFRAME_PICKLE_PATH)\n",
    "course_df.head(2)"
   ]
  },
  {
   "cell_type": "code",
   "execution_count": null,
   "metadata": {},
   "outputs": [
    {
     "data": {
      "application/vnd.plotly.v1+json": {
       "config": {
        "plotlyServerURL": "https://plot.ly"
       },
       "data": [
        {
         "customdata": [
          [
           "BE-002 - Forkurs i bedriftsøkonomi for EMBA-studenter",
           "School of Business and Law"
          ],
          [
           "BE-111 - Introduction to Financial Accounting",
           "School of Business and Law"
          ],
          [
           "BE-209 - Financial Accounting and reporting",
           "School of Business and Law"
          ],
          [
           "BE-320 - ESG Metrics",
           "School of Business and Law"
          ],
          [
           "BE-501 - Master's Thesis in Business Administration",
           "School of Business and Law"
          ],
          [
           "BE-508 - Master's Thesis in Accounting and Auditing",
           "School of Business and Law"
          ],
          [
           "BE-509 - Master’s Thesis in International Business",
           "School of Business and Law"
          ],
          [
           "BE-905 - Financial management in decision-making",
           "School of Business and Law"
          ],
          [
           "BE-906 - Principal accounting rules and business law",
           "School of Business and Law"
          ],
          [
           "BE-911 - Basic business economics",
           "School of Business and Law"
          ],
          [
           "BE-912 - Sustainability and profitable businesses",
           "School of Business and Law"
          ],
          [
           "BE-915 - ESG-rapportering",
           "School of Business and Law"
          ],
          [
           "BE-916 - Bærekraftsrapportering (ESG) og nye rammebetingelser",
           "School of Business and Law"
          ],
          [
           "IND415 - Development and Organizational Learning",
           "School of Business and Law"
          ],
          [
           "IND417 - Corporate Finance and Economics ",
           "School of Business and Law"
          ],
          [
           "IND418 - Continuous Improvement and Lean",
           "School of Business and Law"
          ],
          [
           "IND513 - Strategic managerial accounting",
           "School of Business and Law"
          ],
          [
           "IND514 - Project Business and Governance",
           "School of Business and Law"
          ],
          [
           "IND591 - Master Thesis",
           "School of Business and Law"
          ],
          [
           "IN-612 - Core Theories in Management",
           "School of Business and Law"
          ],
          [
           "IS-911 - Digitalisering og forretningsprosesser ",
           "School of Business and Law"
          ],
          [
           "JUR100 - Examen Facultatum",
           "School of Business and Law"
          ],
          [
           "JUR114 - Contract Law",
           "School of Business and Law"
          ],
          [
           "JUR206 - Tort Law",
           "School of Business and Law"
          ],
          [
           "JUR210 - The Rule of Law",
           "School of Business and Law"
          ],
          [
           "JUR301 - Administrative Law",
           "School of Business and Law"
          ],
          [
           "JUR400 - Law of Obligations and Property",
           "School of Business and Law"
          ],
          [
           "JUR401 - Legal Method and Ethics",
           "School of Business and Law"
          ],
          [
           "JUR404 - Competition Law",
           "School of Business and Law"
          ],
          [
           "JUR407 - Corporate Law",
           "School of Business and Law"
          ],
          [
           "JUR408 - Introduction to Tax Law",
           "School of Business and Law"
          ],
          [
           "JUR500 - Public Procurement Law",
           "School of Business and Law"
          ],
          [
           "JUR501 - Internship",
           "School of Business and Law"
          ],
          [
           "JUR503 - Master Thesis",
           "School of Business and Law"
          ],
          [
           "JU-207G - Individual labor law",
           "School of Business and Law"
          ],
          [
           "JU-207K - Individual labor law",
           "School of Business and Law"
          ],
          [
           "JU-208 - Skatterett 1",
           "School of Business and Law"
          ],
          [
           "JU-300 - Labour Legislation and Work Environment",
           "School of Business and Law"
          ],
          [
           "JU-307 - Barnerett",
           "School of Business and Law"
          ],
          [
           "JU-404 - Contract Law, including Contractual Matters in Public Sector",
           "School of Business and Law"
          ],
          [
           "JU-405 - Contract Law",
           "School of Business and Law"
          ],
          [
           "JU-406 - Corporate Law",
           "School of Business and Law"
          ],
          [
           "JU-407 - Tax Law",
           "School of Business and Law"
          ],
          [
           "JU-409 - Rettsanvendelse i barnevernsfaglig arbeid",
           "School of Business and Law"
          ],
          [
           "JU-901 - Debt counseling",
           "School of Business and Law"
          ],
          [
           "JU-907 - Labour and Contract Law",
           "School of Business and Law"
          ],
          [
           "JU-914 - Introduction to International and Offshore Contracts",
           "School of Business and Law"
          ],
          [
           "JU-916 - Debt collection 1: Collection law, breach of contract and lien",
           "School of Business and Law"
          ],
          [
           "JU-918 - Debt collection 3: enforcement, debt negotiation and bankruptcy",
           "School of Business and Law"
          ],
          [
           "JU-919 - Utdannings- og arbeidsrett",
           "School of Business and Law"
          ],
          [
           "JU-920 - Labor law",
           "School of Business and Law"
          ],
          [
           "ME-001 - Preliminary Course for Mathematics Applied in Business Administration",
           "School of Business and Law"
          ],
          [
           "ME-111 - Introduction to data analysis",
           "School of Business and Law"
          ],
          [
           "ME-424 - Philosophy of science and ethics",
           "School of Business and Law"
          ],
          [
           "ME-612 - Survey of Statistical Methods",
           "School of Business and Law"
          ],
          [
           "ME-613 - Qualitative Research Methods",
           "School of Business and Law"
          ],
          [
           "ME-632 - PhD Structural Equation Modelling in R",
           "School of Business and Law"
          ],
          [
           "ME-633 - Bibliometric literature analysis",
           "School of Business and Law"
          ],
          [
           "MF-208 - Praksis i arbeidslivet ",
           "School of Business and Law"
          ],
          [
           "MF-902 - Customer relationships and revenue management",
           "School of Business and Law"
          ],
          [
           "MF-903 - Marketing Management ",
           "School of Business and Law"
          ],
          [
           "MF-904 - Digital markedsføring og kommunikasjon",
           "School of Business and Law"
          ],
          [
           "ORG109 - Organisation Theory",
           "School of Business and Law"
          ],
          [
           "ORG213 - Work Environment Development",
           "School of Business and Law"
          ],
          [
           "ORG214 - Change Management",
           "School of Business and Law"
          ],
          [
           "ORG223 - Bemanning og rekruttering",
           "School of Business and Law"
          ],
          [
           "ORG228 - Introduction to HR",
           "School of Business and Law"
          ],
          [
           "ORG308 - Human Resources Development",
           "School of Business and Law"
          ],
          [
           "ORG431 - Project Leadership in Organisations ",
           "School of Business and Law"
          ],
          [
           "ORG433 - Projects in an Organisation",
           "School of Business and Law"
          ],
          [
           "ORG452 - Internship in Nordic Enterprises in High-Growth Economies",
           "School of Business and Law"
          ],
          [
           "ORG454 - Innovation Theory",
           "School of Business and Law"
          ],
          [
           "ORG502 - Innovation management and entrepreneurship",
           "School of Business and Law"
          ],
          [
           "ORG503 - Innovation in Public Sector",
           "School of Business and Law"
          ],
          [
           "ORG504 - Knowledge Development",
           "School of Business and Law"
          ],
          [
           "ORG600 - Geography of Innovation",
           "School of Business and Law"
          ],
          [
           "ORG9000 - Effektive ledergrupper",
           "School of Business and Law"
          ],
          [
           "ORG9004 - Group coaching",
           "School of Business and Law"
          ],
          [
           "ORG9006 - Styrearbeid og eierstyring",
           "School of Business and Law"
          ],
          [
           "ORG9007 - Project management in theory and practice",
           "School of Business and Law"
          ],
          [
           "ORG9008 - Transformational Leadership and Organizational Development",
           "School of Business and Law"
          ],
          [
           "ORG9009 - Transformational Leadership in Industry",
           "School of Business and Law"
          ],
          [
           "ORG931 - Project Management",
           "School of Business and Law"
          ],
          [
           "ORG932 - Industrial Supply Management",
           "School of Business and Law"
          ],
          [
           "ORG948 - Operations- and Inventory Management",
           "School of Business and Law"
          ],
          [
           "ORG954 - Master's thesis in MBA",
           "School of Business and Law"
          ],
          [
           "ORG957 - Introduksjon til bærekraftig industri",
           "School of Business and Law"
          ],
          [
           "ORG958 - Bærekraftig industri",
           "School of Business and Law"
          ],
          [
           "ORG959 - Project organisation and management",
           "School of Business and Law"
          ],
          [
           "ORG961 - Innovation Management",
           "School of Business and Law"
          ],
          [
           "ORG968 - Entrepreneurship in practice",
           "School of Business and Law"
          ],
          [
           "ORG969 - Human Resource in Organizations",
           "School of Business and Law"
          ],
          [
           "ORG973 - Leadership of diversity, culture and organization",
           "School of Business and Law"
          ],
          [
           "ORG975 - Management in practice",
           "School of Business and Law"
          ],
          [
           "ORG976 - Change Management and Organisational Change",
           "School of Business and Law"
          ],
          [
           "ORG977 - Lederrollen i teori og praksis",
           "School of Business and Law"
          ],
          [
           "ORG978 - Project Management\t\t",
           "School of Business and Law"
          ],
          [
           "ORG979 - Self-management and coaching",
           "School of Business and Law"
          ],
          [
           "ORG981 - Organizational theory and change",
           "School of Business and Law"
          ],
          [
           "ORG985 - Innovation and new business models",
           "School of Business and Law"
          ],
          [
           "ORG991 - Individuell mentoring og veiledning",
           "School of Business and Law"
          ],
          [
           "ORG993 - Change agent - practical leadership program in change management",
           "School of Business and Law"
          ],
          [
           "ORG997 - Transformation management: technology, Transformation management: technology, sustainability and industry",
           "School of Business and Law"
          ],
          [
           "ORG998 - Conflict understanding and conflict management in the workplace I",
           "School of Business and Law"
          ],
          [
           "ORG999 - Co-creating organisations",
           "School of Business and Law"
          ],
          [
           "RE-400 - Auditing: Theory and Method",
           "School of Business and Law"
          ],
          [
           "RE-401 - Auditing Concentration Course",
           "School of Business and Law"
          ],
          [
           "SE-112 - Principles of Economics",
           "School of Business and Law"
          ],
          [
           "SE-114 - Grunnleggende samfunnsøkonomi for statsvitere",
           "School of Business and Law"
          ],
          [
           "SE-306 - Issues in Microeconomics",
           "School of Business and Law"
          ],
          [
           "SV-504 - Innovation politics",
           "School of Business and Law"
          ],
          [
           "TFL126 - Ethics, Sustainability and Corporate Social Responsibility",
           "School of Business and Law"
          ],
          [
           "TFL127 - Ethics, Sustainability and Corporate Social Responsibility",
           "School of Business and Law"
          ],
          [
           "TFL937 -  Entrepreneurship - concept development and implementation",
           "School of Business and Law"
          ],
          [
           "TFL938 -  Entrepreneurship - concept development and implementation for PT education",
           "School of Business and Law"
          ],
          [
           "TFL940 - Process-oriented and principle-based leadership",
           "School of Business and Law"
          ],
          [
           "TFL942 - From vision to sustainable cultural change",
           "School of Business and Law"
          ]
         ],
         "hovertemplate": "<b>Course:</b> %{customdata[0]}<br><b>Faculty:</b> %{customdata[1]}<br><extra></extra>",
         "legendgroup": "School of Business and Law",
         "marker": {
          "color": "rgb(141,211,199)",
          "size": 8,
          "symbol": "circle"
         },
         "mode": "markers",
         "name": "School of Business and Law",
         "showlegend": true,
         "type": "scattergl",
         "x": [
          0.8605034351348877,
          2.251113176345825,
          2.831007242202759,
          5.268951416015625,
          -27.993242263793945,
          -28.171340942382812,
          -28.318065643310547,
          1.1090174913406372,
          2.286757707595825,
          1.3542078733444214,
          5.106673240661621,
          5.67569637298584,
          5.848274230957031,
          13.434069633483887,
          2.006033420562744,
          -4.266690731048584,
          2.8642523288726807,
          3.6067705154418945,
          -23.74686050415039,
          12.196415901184082,
          -23.15301513671875,
          11.673663139343262,
          12.575737953186035,
          12.561261177062988,
          11.390113830566406,
          13.545443534851074,
          9.821168899536133,
          11.408613204956055,
          10.508671760559082,
          7.733724117279053,
          8.001680374145508,
          11.133035659790039,
          11.38466739654541,
          -26.567432403564453,
          17.119840621948242,
          17.101240158081055,
          7.865665435791016,
          16.19215965270996,
          27.593677520751953,
          12.99070930480957,
          13.042374610900879,
          7.791867733001709,
          8.195693016052246,
          27.601869583129883,
          17.244596481323242,
          15.025970458984375,
          12.946648597717285,
          16.021198272705078,
          16.50615692138672,
          15.166040420532227,
          15.781866073608398,
          -52.465152740478516,
          -11.465219497680664,
          -6.536290168762207,
          -10.313518524169922,
          -7.674983978271484,
          -8.68452262878418,
          -8.225563049316406,
          7.468451976776123,
          3.0572142601013184,
          3.3067421913146973,
          -19.040571212768555,
          11.964393615722656,
          17.73900604248047,
          14.407092094421387,
          14.440673828125,
          12.231664657592773,
          13.505096435546875,
          6.739915370941162,
          6.652744293212891,
          4.613520622253418,
          7.585004806518555,
          6.828869819641113,
          8.379549980163574,
          9.812485694885254,
          6.7530317306518555,
          15.912032127380371,
          26.059818267822266,
          10.392765045166016,
          5.228221893310547,
          11.753658294677734,
          11.730063438415527,
          6.439276218414307,
          7.31616735458374,
          7.211963653564453,
          -22.374326705932617,
          9.317276954650879,
          9.4091157913208,
          6.4610700607299805,
          7.290849208831787,
          4.367332458496094,
          13.208053588867188,
          14.608415603637695,
          15.523781776428223,
          14.127890586853027,
          15.791572570800781,
          5.644105911254883,
          17.001548767089844,
          13.334685325622559,
          7.049785137176514,
          26.50349998474121,
          15.123794555664062,
          12.593413352966309,
          11.932021141052246,
          9.486205101013184,
          -1.8857758045196533,
          -1.8502684831619263,
          2.8079166412353516,
          2.8349623680114746,
          2.5885021686553955,
          7.910717010498047,
          0.260857492685318,
          0.2659521996974945,
          1.3510338068008423,
          1.4692764282226562,
          9.793988227844238,
          10.292635917663574
         ],
         "xaxis": "x",
         "y": [
          31.629758834838867,
          33.45625305175781,
          33.39967727661133,
          31.432758331298828,
          15.226293563842773,
          15.684986114501953,
          14.89060115814209,
          32.40320587158203,
          33.76401138305664,
          32.687904357910156,
          29.4443359375,
          31.571765899658203,
          31.585412979125977,
          18.81674575805664,
          30.79778289794922,
          24.31557273864746,
          29.852285385131836,
          28.48714828491211,
          12.609485626220703,
          17.763648986816406,
          -10.172677040100098,
          36.71269607543945,
          39.24017333984375,
          37.502750396728516,
          37.16246032714844,
          35.750770568847656,
          38.28058624267578,
          34.960384368896484,
          37.79216384887695,
          39.39844512939453,
          36.37624740600586,
          39.76746368408203,
          34.49609375,
          16.30914878845215,
          37.17593002319336,
          37.17931365966797,
          36.15217208862305,
          37.64609909057617,
          6.37539005279541,
          39.901920318603516,
          39.87810516357422,
          39.38111114501953,
          36.87008285522461,
          6.490838050842285,
          41.018211364746094,
          38.439823150634766,
          41.697669982910156,
          40.639739990234375,
          40.85110855102539,
          35.63090133666992,
          37.24532699584961,
          -1.7998273372650146,
          16.6375732421875,
          2.635831594467163,
          14.75443172454834,
          8.904596328735352,
          19.542346954345703,
          10.400389671325684,
          6.773447036743164,
          12.393163681030273,
          12.121833801269531,
          -13.36917495727539,
          19.74999237060547,
          25.86142349243164,
          21.530059814453125,
          24.043315887451172,
          22.48614501953125,
          23.382522583007812,
          21.359386444091797,
          21.344480514526367,
          4.311919689178467,
          17.109121322631836,
          17.689699172973633,
          13.29660701751709,
          16.79022216796875,
          16.13904571533203,
          20.086746215820312,
          -2.3945064544677734,
          20.81857681274414,
          23.072542190551758,
          25.7304744720459,
          25.7474308013916,
          22.950132369995117,
          25.110279083251953,
          25.104103088378906,
          10.24936580657959,
          27.848176956176758,
          27.732927322387695,
          22.43265151977539,
          17.72671127319336,
          18.48128890991211,
          22.869741439819336,
          19.210514068603516,
          18.401609420776367,
          21.26439666748047,
          18.247880935668945,
          22.610397338867188,
          18.879112243652344,
          20.871395111083984,
          18.421051025390625,
          -2.916229248046875,
          20.838642120361328,
          26.11499786376953,
          21.22648811340332,
          19.37123680114746,
          36.3803825378418,
          36.37874984741211,
          37.94394302368164,
          37.808143615722656,
          38.988704681396484,
          15.846757888793945,
          26.71843147277832,
          26.715124130249023,
          18.959306716918945,
          18.89495849609375,
          23.28082275390625,
          23.468847274780273
         ],
         "yaxis": "y"
        },
        {
         "customdata": [
          [
           "ERN122 - Food, Health and Nutrition",
           "Health and Sport Science"
          ],
          [
           "ERN123 - Food, Health and Sustainability in the Kindergarten",
           "Health and Sport Science"
          ],
          [
           "ERN124 - Food and meal pedagogics",
           "Health and Sport Science"
          ],
          [
           "ERN125 - Food, Health and Identity",
           "Health and Sport Science"
          ],
          [
           "ERN128 - Food and Nutrition",
           "Health and Sport Science"
          ],
          [
           "ERN129 - Food and Teaching",
           "Health and Sport Science"
          ],
          [
           "ERN132 - Food science and practical cooking",
           "Health and Sport Science"
          ],
          [
           "ERN135 - Mediterranean Diet and Sustainability",
           "Health and Sport Science"
          ],
          [
           "ERN137 - Introduction to community-oriented nutrition work",
           "Health and Sport Science"
          ],
          [
           "ERN138 - Food, nutrients and dietary recommendations",
           "Health and Sport Science"
          ],
          [
           "ERN212 - Nutrition-related diseases and conditions",
           "Health and Sport Science"
          ],
          [
           "ERN213 - Systematic nutrition work in the local community",
           "Health and Sport Science"
          ],
          [
           "ERN400 - Food and Culture in a Social perspective",
           "Health and Sport Science"
          ],
          [
           "ERN402 - Food and Health in a Health Promoting perspective",
           "Health and Sport Science"
          ],
          [
           "ERN403 - Food and Culture in a Social Perspective",
           "Health and Sport Science"
          ],
          [
           "ERN404 - Food and Health in a health promoting perspective",
           "Health and Sport Science"
          ],
          [
           "ERN501 - Philosophy of Science and Method for the Researching Teacher in Food and Health",
           "Health and Sport Science"
          ],
          [
           "ERN502 - Philosophy of Science and Method for the Researching Teacher in Food and Health",
           "Health and Sport Science"
          ],
          [
           "ERN902 - Mat og ernæring",
           "Health and Sport Science"
          ],
          [
           "ERN907 - Entrepreneurship enterprises in school",
           "Health and Sport Science"
          ],
          [
           "ERN908 - Food and identity",
           "Health and Sport Science"
          ],
          [
           "ERN912 - Entreprenørskap og tverrfaglig undervisning",
           "Health and Sport Science"
          ],
          [
           "ERN913 - Mat og måltid i barnehagen for barnehagelærere",
           "Health and Sport Science"
          ],
          [
           "ERN914 - Gluten-free food at school",
           "Health and Sport Science"
          ],
          [
           "ERN915 - Health and life skills in Food and health",
           "Health and Sport Science"
          ],
          [
           "EX-605 - Philosophy of Science in Health and Sport Sciences",
           "Health and Sport Science"
          ],
          [
           "EX-606 - Researching Health and Sport Sciences: Philosophical and Methodological Foundations",
           "Health and Sport Science"
          ],
          [
           "FRI100 - Outdoor Activities Theory",
           "Health and Sport Science"
          ],
          [
           "FRI110 - Outdoor Education 1 - Forest, Sea and Coastline",
           "Health and Sport Science"
          ],
          [
           "FRI200 - Oudoor Activities. How to Use Nature in Children's Learning and Development",
           "Health and Sport Science"
          ],
          [
           "HEL100 - Public Health - Definitions and Ethical Principles",
           "Health and Sport Science"
          ],
          [
           "HEL102 - Public health challenges",
           "Health and Sport Science"
          ],
          [
           "HEL203 - Public Health work in practice",
           "Health and Sport Science"
          ],
          [
           "HEL418 - Organization and innovation in health services",
           "Health and Sport Science"
          ],
          [
           "HEL419 - Living with chronic disease",
           "Health and Sport Science"
          ],
          [
           "HEL424 - Public Health Work: a Structural Approach",
           "Health and Sport Science"
          ],
          [
           "HEL601 - Concluding professional specialisation",
           "Health and Sport Science"
          ],
          [
           "HEL602 - Physical Function, Exercise and Health",
           "Health and Sport Science"
          ],
          [
           "HEL604 - Special topics",
           "Health and Sport Science"
          ],
          [
           "HEL605 - Phenomenological approch to mental health",
           "Health and Sport Science"
          ],
          [
           "HEL607 - Innovation and Improvement in Community Health Care Services´ Research Possibilities and Challenges",
           "Health and Sport Science"
          ],
          [
           "HEL608 - Dialogical and collaborative practices - ontology, epistemology and methodology",
           "Health and Sport Science"
          ],
          [
           "HEL610 - Developmental Origins of Health and Disease",
           "Health and Sport Science"
          ],
          [
           "HEL613 - Evidence Based Physical Activity",
           "Health and Sport Science"
          ],
          [
           "HEL615 - The psychology of team performance in sport:  The coach, the athlete, and the group",
           "Health and Sport Science"
          ],
          [
           "HEL616 - Quality of Life Research",
           "Health and Sport Science"
          ],
          [
           "HEL617 - Technology in sport: Making decisions in a time of data overload",
           "Health and Sport Science"
          ],
          [
           "HEL619 - The Science of Behavior",
           "Health and Sport Science"
          ],
          [
           "HEL621 - Evidence-based Practice: Critical Perspectives",
           "Health and Sport Science"
          ],
          [
           "HEL904 - Cannabis use - prevention and treatment",
           "Health and Sport Science"
          ],
          [
           "HEL905 - Health and care",
           "Health and Sport Science"
          ],
          [
           "HEL908 - Å fremme fysisk aktivitet ved kreft",
           "Health and Sport Science"
          ],
          [
           "HEL909 - Veiledning og tilrettelegging for fysisk aktivitet hos individer med astma",
           "Health and Sport Science"
          ],
          [
           "HEL910 - Forståelse av demens og rammefaktorer som påvirker demensomsorgen",
           "Health and Sport Science"
          ],
          [
           "HEL911 - Utøvelse og metoder i utredning og omsorg for personer med demens",
           "Health and Sport Science"
          ],
          [
           "HEL912 - Innovasjon og tjenesteutvikling i demensomsorgen",
           "Health and Sport Science"
          ],
          [
           "HSI414 - Reseach Methods in Social Sciences. Project 1",
           "Health and Sport Science"
          ],
          [
           "HSI415 - Understanding Technology",
           "Health and Sport Science"
          ],
          [
           "HSI417 - Practice in Research Methods. Project 2",
           "Health and Sport Science"
          ],
          [
           "HSI418 - Theory of Science, Ethics in Research, and Research Design",
           "Health and Sport Science"
          ],
          [
           "HSI500 - Master's Project",
           "Health and Sport Science"
          ],
          [
           "HSI501 - Master's Project",
           "Health and Sport Science"
          ],
          [
           "HSI900 - Introduction to welfare technology",
           "Health and Sport Science"
          ],
          [
           "IDR132 - Physical Education- Didactics part 1",
           "Health and Sport Science"
          ],
          [
           "IDR134 - Physical education and the joy of movement",
           "Health and Sport Science"
          ],
          [
           "IDR136 - Physical education and the joy of movement",
           "Health and Sport Science"
          ],
          [
           "IDR137 - Physical Education and Pupil Diversity",
           "Health and Sport Science"
          ],
          [
           "IDR138 - Exercise Physiology",
           "Health and Sport Science"
          ],
          [
           "IDR139 - Motor development and learning",
           "Health and Sport Science"
          ],
          [
           "IDR140 - Physical Education - Didactics ",
           "Health and Sport Science"
          ],
          [
           "IDR141 - Exercise science and practical activities",
           "Health and Sport Science"
          ],
          [
           "IDR206 - Physical Activity and Health",
           "Health and Sport Science"
          ],
          [
           "IDR210 - Specialisation in Sports Activities - Different Perspectives on Learning",
           "Health and Sport Science"
          ],
          [
           "IDR211 - Issues related to performance in Sports",
           "Health and Sport Science"
          ],
          [
           "IDR220 - Internship in Sport Science",
           "Health and Sport Science"
          ],
          [
           "IDR416 - The Body in Society",
           "Health and Sport Science"
          ],
          [
           "IDR417 - Educational Psychology in Physical Education",
           "Health and Sport Science"
          ],
          [
           "IDR419 - Educational Psychology in Physical Education",
           "Health and Sport Science"
          ],
          [
           "IDR420 - Perspectives from the Sociology of knowledge in Physical Education",
           "Health and Sport Science"
          ],
          [
           "IDR423 - Development, Learning and Achievement in sport",
           "Health and Sport Science"
          ],
          [
           "IDR425 - Specialization assignment for one-subject students - Physical Education",
           "Health and Sport Science"
          ],
          [
           "IDR426 - Internship in Sport Science",
           "Health and Sport Science"
          ],
          [
           "IDR508 - Philosophy of Science and Research Methods for Teachers, Physical Education",
           "Health and Sport Science"
          ],
          [
           "IDR510 - Philosophy of Science and Research Methods for Teachers, Physical Education",
           "Health and Sport Science"
          ],
          [
           "IDR512 - Practical methodology and project description",
           "Health and Sport Science"
          ],
          [
           "IDR513 - Master's Thesis in Sports Science",
           "Health and Sport Science"
          ],
          [
           "IDR934 - Children and Movement 1",
           "Health and Sport Science"
          ],
          [
           "IDR935 - Barn og bevegelse 2",
           "Health and Sport Science"
          ],
          [
           "IDR936 - Foundations of Physical Education",
           "Health and Sport Science"
          ],
          [
           "IDR937 - Personal trainer/Training supervisor 1",
           "Health and Sport Science"
          ],
          [
           "IDR941 - Barn og bevegelse 4",
           "Health and Sport Science"
          ],
          [
           "IDR943 - Barn og bevegelse 6",
           "Health and Sport Science"
          ],
          [
           "IDR944 - Laboratoriebasert testing av utholdenhet",
           "Health and Sport Science"
          ],
          [
           "IDR945 - Testing og vurdering av helserelatert form",
           "Health and Sport Science"
          ],
          [
           "IDR947 - Sports nutrition 1",
           "Health and Sport Science"
          ],
          [
           "IDR948 - Sports nutrition 2",
           "Health and Sport Science"
          ],
          [
           "IDR949 - Svømme- og livredningsferdigheter utendørs ",
           "Health and Sport Science"
          ],
          [
           "IDR951 - Svømme- og livredningsferdigheter i skolen",
           "Health and Sport Science"
          ],
          [
           "IDR952 - Barn og bevegelse 8 – Uteaktivitet og naturferdsel",
           "Health and Sport Science"
          ],
          [
           "IDR953 - Naturbasert terapeutisk arbeid",
           "Health and Sport Science"
          ],
          [
           "IDR954 - General Introduction to Excercise",
           "Health and Sport Science"
          ],
          [
           "IDR958 - Behavior change 2 - Analysis of exercise habits",
           "Health and Sport Science"
          ],
          [
           "IDR960 - Children and movement 7 - Inclusion in physical education ",
           "Health and Sport Science"
          ],
          [
           "IDR962 - Outdoor school",
           "Health and Sport Science"
          ],
          [
           "ME-200 - Introduction to Scientific Method and Statistics",
           "Health and Sport Science"
          ],
          [
           "ME-421 - Theory of Science",
           "Health and Sport Science"
          ],
          [
           "ME-422 - Research Methods, Design and Analysis",
           "Health and Sport Science"
          ],
          [
           "ME-435G - Philosophy of science",
           "Health and Sport Science"
          ],
          [
           "ME-435K - Philosophy of science",
           "Health and Sport Science"
          ],
          [
           "ME-504 - Master thesis in psychosocial health ",
           "Health and Sport Science"
          ],
          [
           "ME-516 - Master's Thesis in Public Health Science",
           "Health and Sport Science"
          ],
          [
           "ME-517 - Master's Thesis in Sports Science",
           "Health and Sport Science"
          ],
          [
           "ME-519 - Master's Thesis in Specialised Nursing Major in Anaesthesia-, Intensive Care-, Theatre-, Paediatric- og Cancer Nursing",
           "Health and Sport Science"
          ],
          [
           "ME-520 - Master's thesis in clinical health sciences",
           "Health and Sport Science"
          ],
          [
           "ME-617 - Systematic Reviews and Evidence Synthesis",
           "Health and Sport Science"
          ],
          [
           "ME-618 - Qualitative Research Methods",
           "Health and Sport Science"
          ],
          [
           "ME-619 - Quantitative Research Methods and Regression Analysis",
           "Health and Sport Science"
          ],
          [
           "ME-624 - Research Dissemination in Health and Sport Sciences: Scientific presenting and practice",
           "Health and Sport Science"
          ],
          [
           "ME-626 - General Quantitative Research Methods",
           "Health and Sport Science"
          ],
          [
           "ME-627 - Logistic Regression Analysis",
           "Health and Sport Science"
          ],
          [
           "ME-628 - Regression Models Illustrated Through Linear Regression Analysis",
           "Health and Sport Science"
          ],
          [
           "ME-629 - Analysis and Design of Studies with Repeated Measures",
           "Health and Sport Science"
          ],
          [
           "ME-630 - Survival Analysis",
           "Health and Sport Science"
          ],
          [
           "ME-634 - Phenomenological lifeworld perspective, methodology and analysis",
           "Health and Sport Science"
          ],
          [
           "ME-636 - Epidemiology: Concepts and Methodological Approaches",
           "Health and Sport Science"
          ],
          [
           "ME-902 - Grunnleggende statistikk og plankunnskap",
           "Health and Sport Science"
          ],
          [
           "NHB100D - Nature, health, and movement",
           "Health and Sport Science"
          ],
          [
           "NHB100G - Nature, health, and movement",
           "Health and Sport Science"
          ],
          [
           "NHB100K - Nature Health Movement",
           "Health and Sport Science"
          ],
          [
           "NHB102G - Nature Health Movement",
           "Health and Sport Science"
          ],
          [
           "NHB102K - Nature Health Movement",
           "Health and Sport Science"
          ],
          [
           "PED973 - Mentoring and tutoring, individual level focus",
           "Health and Sport Science"
          ],
          [
           "PED973D - Mentoring and tutoring, individual level focus",
           "Health and Sport Science"
          ],
          [
           "PED974 - Veiledningspedagogikk - fokus individ- og gruppenivå",
           "Health and Sport Science"
          ],
          [
           "PSY424 - Psychosocial health",
           "Health and Sport Science"
          ],
          [
           "PSY427 - Introduction to milieu therapy and professional leadership",
           "Health and Sport Science"
          ],
          [
           "PSY431 - Ethics, law and organization",
           "Health and Sport Science"
          ],
          [
           "PSY433 - Work with mental health -, substance use – and addiction related problems",
           "Health and Sport Science"
          ],
          [
           "PSY902 - Family therapy - philosophy, theories and methods",
           "Health and Sport Science"
          ],
          [
           "PSY903 - Family therapy - culture and ethics",
           "Health and Sport Science"
          ],
          [
           "PSY904 - Clinical studies - family therapy",
           "Health and Sport Science"
          ],
          [
           "PSY905 - Competence and Practice Development",
           "Health and Sport Science"
          ],
          [
           "PSY914 - Child and Adolescent Mental Health 2",
           "Health and Sport Science"
          ],
          [
           "PSY915 - Organisation and Interaction",
           "Health and Sport Science"
          ],
          [
           "PSY918 - Samhandling mellom dyr og mennesker i dyreassisterte intervensjoner",
           "Health and Sport Science"
          ],
          [
           "PSY919 - Utfordrende atferd og målretta miljøarbeid",
           "Health and Sport Science"
          ],
          [
           "PSY921 - Recovery and Co-operation in Social Networks",
           "Health and Sport Science"
          ],
          [
           "PSY922 - Mestringskurs for engstelige barn og ungdom",
           "Health and Sport Science"
          ],
          [
           "PSY927 - Sped- og småbarns psykiske helse - tidlig forebygging og kartlegging",
           "Health and Sport Science"
          ],
          [
           "SEX402 - Sexological Councelling 1",
           "Health and Sport Science"
          ],
          [
           "SEX404 - Basic Sexology 1",
           "Health and Sport Science"
          ],
          [
           "SEX900 - Sexology for health workers. Introduction course.",
           "Health and Sport Science"
          ],
          [
           "SEX901 - Kjønnsmangfold og seksuelt mangfold",
           "Health and Sport Science"
          ],
          [
           "SYP120D - Clinical studies in basic nursing",
           "Health and Sport Science"
          ],
          [
           "SYP120G - Clinical studies in basic nursing",
           "Health and Sport Science"
          ],
          [
           "SYP120K - Clinical studies in basic nursing",
           "Health and Sport Science"
          ],
          [
           "SYP220G - Skills and procedures",
           "Health and Sport Science"
          ],
          [
           "SYP220K - Skills and procedures",
           "Health and Sport Science"
          ],
          [
           "SYP221D - Clinical studies medicine - Acute, chronic and critical disease",
           "Health and Sport Science"
          ],
          [
           "SYP221G - Clinical studies medicine - Acute, chronic and critical disease",
           "Health and Sport Science"
          ],
          [
           "SYP221K - Clinical studies medicine - Acute, chronic and critical disease",
           "Health and Sport Science"
          ],
          [
           "SYP222D - Clinical studies surgery - Acute, chronic and critical disease",
           "Health and Sport Science"
          ],
          [
           "SYP222G - Clinical studies surgery - Acute, chronic and critical disease",
           "Health and Sport Science"
          ],
          [
           "SYP222K - Clinical studies surgery - Acute, chronic and critical disease",
           "Health and Sport Science"
          ],
          [
           "SYP223D - Clinical studies in community health services - Acute, chronic and critical disease",
           "Health and Sport Science"
          ],
          [
           "SYP223G - Clinical studies in community health services - Acute, chronic and critical disease",
           "Health and Sport Science"
          ],
          [
           "SYP223K - Clinical studies in community health services - Acute, chronic and critical disease",
           "Health and Sport Science"
          ],
          [
           "SYP224D - Clinical studies in mental health care - Acute, chronic and critical disease",
           "Health and Sport Science"
          ],
          [
           "SYP224G - Clinical studies in mental health care - Acute, chronic and critical disease",
           "Health and Sport Science"
          ],
          [
           "SYP224K - Clinical studies in mental health care - Acute, chronic and critical disease",
           "Health and Sport Science"
          ],
          [
           "SYP321D - Clinical studies medicine - Complex patient conditions",
           "Health and Sport Science"
          ],
          [
           "SYP321G - Clinical studies medicine - Complex patient conditions",
           "Health and Sport Science"
          ],
          [
           "SYP321K - Clinical studies medicine - Complex patient conditions",
           "Health and Sport Science"
          ],
          [
           "SYP322D - Clinical studies surgery - Complex patient conditions",
           "Health and Sport Science"
          ],
          [
           "SYP322G - Clinical studies surgery - Complex patient conditions",
           "Health and Sport Science"
          ],
          [
           "SYP322K - Clinical studies surgery - Complex patient conditions",
           "Health and Sport Science"
          ],
          [
           "SYP323D - Clinical studies in community health services - Complex patient conditions",
           "Health and Sport Science"
          ],
          [
           "SYP323G - Clinical studies in community health services - Complex patient conditions",
           "Health and Sport Science"
          ],
          [
           "SYP323K - Clinical studies in community health services - Complex patient conditions",
           "Health and Sport Science"
          ],
          [
           "SYP324D - Clinical studies in mental health care - Complex patient conditions",
           "Health and Sport Science"
          ],
          [
           "SYP324G - Clinical studies in mental health care - Complex patient conditions",
           "Health and Sport Science"
          ],
          [
           "SYP324K - Clinical studies in mental health care - Complex patient conditions",
           "Health and Sport Science"
          ],
          [
           "SYP420 - Clinical Studies in Intensive Care Nursing 2",
           "Health and Sport Science"
          ],
          [
           "SYP422 - Clinical studies in pediatric nursing llI",
           "Health and Sport Science"
          ],
          [
           "SYP423 - Clinical studies in pediatric nursing ll",
           "Health and Sport Science"
          ],
          [
           "SYP424 - Clinical Studies in Theatre Nursing 2",
           "Health and Sport Science"
          ],
          [
           "SYP425 - Clinical Studies in Intensive Care Nursing 3",
           "Health and Sport Science"
          ],
          [
           "SYP427 - Clinical studies in anesthetic nursing l",
           "Health and Sport Science"
          ],
          [
           "SYP428 - Clinical studies in intensive care l",
           "Health and Sport Science"
          ],
          [
           "SYP429 - Clinical Studies in Theatre Nursing 1",
           "Health and Sport Science"
          ],
          [
           "SYP430 - Clinical studies in pediatric nursing I",
           "Health and Sport Science"
          ],
          [
           "SYP431 - Clinical studies in anesthesia nursing ll",
           "Health and Sport Science"
          ],
          [
           "SY-120G - Foundations of Nursing",
           "Health and Sport Science"
          ],
          [
           "SY-120K - Foundations of nursing",
           "Health and Sport Science"
          ],
          [
           "SY-121G - Human anatomy, physiology and biochemistry",
           "Health and Sport Science"
          ],
          [
           "SY-121K - Human anatomy, physiology and biochemistry",
           "Health and Sport Science"
          ],
          [
           "SY-124 - Anatomy, physiology and biochemistry",
           "Health and Sport Science"
          ],
          [
           "SY-220G - Nursing in various diseases - work methods",
           "Health and Sport Science"
          ],
          [
           "SY-220K - Nursing in various diseases - Work methods and technology",
           "Health and Sport Science"
          ],
          [
           "SY-320G - Complexity and leadership",
           "Health and Sport Science"
          ],
          [
           "SY-320K - Complexity and leadership",
           "Health and Sport Science"
          ],
          [
           "SY-321 - Global health",
           "Health and Sport Science"
          ],
          [
           "SY-322 - Innovation in nursing",
           "Health and Sport Science"
          ],
          [
           "SY-421 - Theatre Nursing, Surgery, Pathophysiology and Intensive Care 1",
           "Health and Sport Science"
          ],
          [
           "SY-422 - Intensive Medicine and Intensive Care Nursing 1",
           "Health and Sport Science"
          ],
          [
           "SY-423 - Pediatrics, Neonatal Medicine and Paediatric Nursing 1",
           "Health and Sport Science"
          ],
          [
           "SY-424 - Anaesthesia and Anaesthesia Nursing Major - Part 1",
           "Health and Sport Science"
          ],
          [
           "SY-427 - Theatre Nursing, Surgery, Pathophysiology and Intensive Medicine 2",
           "Health and Sport Science"
          ],
          [
           "SY-429 - Sykdomslære og farmakologi",
           "Health and Sport Science"
          ],
          [
           "SY-430 - Vitenskapsteori",
           "Health and Sport Science"
          ],
          [
           "SY-431 - Sykepleie, helse og samfunn",
           "Health and Sport Science"
          ],
          [
           "SY-434 - Folkehelsearbeid",
           "Health and Sport Science"
          ],
          [
           "SY-436 - Kommunikasjon, relasjon og samhandling",
           "Health and Sport Science"
          ],
          [
           "SY-437 - Ledelse, tjenesteforbedring og innovasjon",
           "Health and Sport Science"
          ],
          [
           "SY-438 - Vitenskapsteori",
           "Health and Sport Science"
          ],
          [
           "SY-439 - Master's thesis",
           "Health and Sport Science"
          ],
          [
           "SY-441 - Children, youth and their families 1",
           "Health and Sport Science"
          ],
          [
           "SY-444 - Anesthesia nursing 1",
           "Health and Sport Science"
          ],
          [
           "SY-445 - Paediatrics, neonatal medicine and child nursing 1",
           "Health and Sport Science"
          ],
          [
           "SY-446 - Intensive care medicine and intensive care 1",
           "Health and Sport Science"
          ],
          [
           "SY-447 - Operative nursing, surgery, pathophysiology and intensive care medicine 1",
           "Health and Sport Science"
          ],
          [
           "SY-500 - Komplekse pasientsituasjoner og forløp",
           "Health and Sport Science"
          ],
          [
           "SY-502 - Masteroppgave i avansert klinisk allmennsykepleie",
           "Health and Sport Science"
          ],
          [
           "SY-917 - Palliative care - Holistic approach to symptoms and suffering",
           "Health and Sport Science"
          ],
          [
           "SY-918 - Palliative care - Work methods and professional development",
           "Health and Sport Science"
          ],
          [
           "SY-919 - Erfaringskompetanse i likepersonsarbeid ",
           "Health and Sport Science"
          ],
          [
           "SY-920 - Oppgis senere",
           "Health and Sport Science"
          ],
          [
           "SY-922 - Digital veilederutdanning for praksisveiledere i sykepleie",
           "Health and Sport Science"
          ],
          [
           "SY-923 - Folkehelsearbeid",
           "Health and Sport Science"
          ],
          [
           "SY-924 - Barn, unge og deres familier",
           "Health and Sport Science"
          ],
          [
           "SY-926 - Ledelse, tjenesteforbedring og innovasjon",
           "Health and Sport Science"
          ],
          [
           "SY-927 - Vitenskapsteori",
           "Health and Sport Science"
          ],
          [
           "SY-932 - Nutrition for vulnerable elderly people 2",
           "Health and Sport Science"
          ],
          [
           "TFL203 - Social entrepreneurship and innovation in nutrition work",
           "Health and Sport Science"
          ],
          [
           "VER110 - The development and ideology of the subject",
           "Health and Sport Science"
          ],
          [
           "VER110D - The development and ideology of the subject",
           "Health and Sport Science"
          ],
          [
           "VER111 - Disability and environmental therapeutic work",
           "Health and Sport Science"
          ],
          [
           "VER111D - Disability and environmental therapeutic work",
           "Health and Sport Science"
          ],
          [
           "VER211 - Practice Nursing and care",
           "Health and Sport Science"
          ],
          [
           "VER211D - Practice Nursing and care",
           "Health and Sport Science"
          ],
          [
           "VER215 - Topics in social studies",
           "Health and Sport Science"
          ],
          [
           "VER308 - Individual-oriented environmental practice",
           "Health and Sport Science"
          ],
          [
           "VER309 - Service design and delivery",
           "Health and Sport Science"
          ]
         ],
         "hovertemplate": "<b>Course:</b> %{customdata[0]}<br><b>Faculty:</b> %{customdata[1]}<br><extra></extra>",
         "legendgroup": "Health and Sport Science",
         "marker": {
          "color": "rgb(255,255,179)",
          "size": 8,
          "symbol": "circle"
         },
         "mode": "markers",
         "name": "Health and Sport Science",
         "showlegend": true,
         "type": "scattergl",
         "x": [
          39.18480682373047,
          37.05327606201172,
          35.7743034362793,
          37.856056213378906,
          38.50250244140625,
          37.81608963012695,
          40.34491729736328,
          41.493587493896484,
          38.023433685302734,
          40.75528335571289,
          40.67771530151367,
          36.99383544921875,
          36.4667854309082,
          39.49361038208008,
          36.44469451904297,
          39.4798698425293,
          -10.441951751708984,
          -10.44670295715332,
          39.587772369384766,
          1.0339759588241577,
          37.74025344848633,
          1.0124009847640991,
          35.950958251953125,
          38.766815185546875,
          38.511959075927734,
          -2.855929136276245,
          -2.8788225650787354,
          24.650957107543945,
          24.2553653717041,
          25.280733108520508,
          43.01287841796875,
          43.464927673339844,
          42.38922119140625,
          43.88071823120117,
          44.6519889831543,
          42.493865966796875,
          -16.60869789123535,
          38.3450813293457,
          -16.668424606323242,
          41.564544677734375,
          43.24854278564453,
          41.65245056152344,
          44.1014518737793,
          38.257057189941406,
          37.49496078491211,
          42.95900344848633,
          37.419578552246094,
          42.209877014160156,
          40.35329055786133,
          46.33848571777344,
          41.81904983520508,
          37.39257049560547,
          37.409141540527344,
          47.24732971191406,
          47.43312454223633,
          46.49599838256836,
          -16.161312103271484,
          -21.219438552856445,
          -16.188556671142578,
          -8.386012077331543,
          -20.22722053527832,
          -20.241863250732422,
          -20.79277992248535,
          29.16206169128418,
          29.488187789916992,
          29.483190536499023,
          28.64580535888672,
          32.505638122558594,
          27.266342163085938,
          29.20029640197754,
          30.65546226501465,
          35.38399887084961,
          29.31928253173828,
          33.509525299072266,
          26.679813385009766,
          31.32991600036621,
          31.691360473632812,
          31.69087028503418,
          31.419063568115234,
          33.09568786621094,
          -10.991681098937988,
          26.682775497436523,
          -9.581418991088867,
          -9.604347229003906,
          -10.616580963134766,
          -19.31040382385254,
          27.656845092773438,
          28.00524139404297,
          31.876619338989258,
          32.05207443237305,
          28.33112335205078,
          29.438194274902344,
          33.90570831298828,
          35.036556243896484,
          32.7858772277832,
          32.87043762207031,
          25.965524673461914,
          26.073396682739258,
          25.000776290893555,
          26.274169921875,
          32.350162506103516,
          33.7750129699707,
          27.988412857055664,
          25.780670166015625,
          -9.719651222229004,
          -4.851724147796631,
          -11.242810249328613,
          -5.50164270401001,
          -5.485185146331787,
          -20.666797637939453,
          -20.283666610717773,
          -19.29729652404785,
          -18.690631866455078,
          -19.70714569091797,
          -8.847572326660156,
          -7.350776672363281,
          -8.860186576843262,
          -3.362442970275879,
          -9.42711353302002,
          -6.54062557220459,
          -6.780167579650879,
          -8.612805366516113,
          -6.676126480102539,
          -6.554922103881836,
          -7.232694149017334,
          -10.793251037597656,
          32.521522521972656,
          32.06343078613281,
          32.45005798339844,
          31.360172271728516,
          31.437347412109375,
          26.906089782714844,
          27.077096939086914,
          26.158811569213867,
          36.32250213623047,
          40.050270080566406,
          37.77561569213867,
          35.63833236694336,
          39.359317779541016,
          39.46027374267578,
          39.45060729980469,
          34.265872955322266,
          36.99182891845703,
          38.174591064453125,
          38.561981201171875,
          40.156700134277344,
          36.089900970458984,
          37.623416900634766,
          36.35939407348633,
          39.402565002441406,
          39.55803298950195,
          40.410274505615234,
          40.81000900268555,
          62.969852447509766,
          62.964107513427734,
          63.28181838989258,
          64.6567611694336,
          64.66486358642578,
          58.767059326171875,
          58.594600677490234,
          57.95034408569336,
          60.32612991333008,
          59.77201843261719,
          60.05188751220703,
          59.3203125,
          58.62562561035156,
          58.576473236083984,
          57.51107406616211,
          57.350624084472656,
          57.05034255981445,
          60.483516693115234,
          59.85020446777344,
          59.753780364990234,
          61.060081481933594,
          60.23335647583008,
          60.85469055175781,
          59.09270095825195,
          58.261390686035156,
          58.89065170288086,
          59.189090728759766,
          58.11196517944336,
          58.55984878540039,
          61.238216400146484,
          55.22618103027344,
          55.39875793457031,
          61.062740325927734,
          61.6512336730957,
          58.70598220825195,
          60.90715408325195,
          60.703060150146484,
          54.86079406738281,
          58.31072235107422,
          53.94947814941406,
          53.952335357666016,
          49.65802001953125,
          49.91627502441406,
          50.062713623046875,
          54.75062561035156,
          54.71018981933594,
          55.417850494384766,
          55.443904876708984,
          53.787052154541016,
          53.03724670410156,
          59.45979309082031,
          58.98199462890625,
          56.679168701171875,
          58.20969772338867,
          61.09645462036133,
          57.47028350830078,
          -4.731762409210205,
          54.16159439086914,
          44.42539596557617,
          46.462318420410156,
          51.682586669921875,
          -3.616131067276001,
          -19.42913818359375,
          51.82512664794922,
          58.4139404296875,
          55.553123474121094,
          60.11325454711914,
          60.55582046508789,
          55.749114990234375,
          -19.014902114868164,
          50.80051803588867,
          50.72761535644531,
          48.26731491088867,
          48.08907699584961,
          26.1898193359375,
          44.2857551574707,
          51.703956604003906,
          51.67924118041992,
          -3.5108351707458496,
          41.256465911865234,
          -0.041414838284254074,
          43.2142219543457,
          43.175010681152344,
          42.943115234375,
          42.90256881713867,
          46.49241638183594,
          46.51240921020508,
          44.51785659790039,
          44.1428337097168,
          44.97022247314453
         ],
         "xaxis": "x",
         "y": [
          -17.206506729125977,
          -18.634748458862305,
          -17.579679489135742,
          -16.039838790893555,
          -17.54659652709961,
          -17.486209869384766,
          -18.267555236816406,
          -16.523515701293945,
          -13.44038200378418,
          -17.576980590820312,
          -14.49533462524414,
          -13.703227043151855,
          -15.418298721313477,
          -15.817858695983887,
          -15.346837997436523,
          -15.77939510345459,
          -1.1965223550796509,
          -1.175035834312439,
          -18.066072463989258,
          21.152549743652344,
          -16.032569885253906,
          21.302692413330078,
          -17.677188873291016,
          -19.73606300354004,
          -14.94837760925293,
          6.321269989013672,
          6.329556465148926,
          14.14139175415039,
          14.195146560668945,
          14.694366455078125,
          14.23048210144043,
          13.752867698669434,
          14.24245834350586,
          16.559415817260742,
          16.246885299682617,
          12.742548942565918,
          22.908472061157227,
          22.615684509277344,
          23.13855743408203,
          19.75904655456543,
          17.61409568786621,
          18.23788070678711,
          20.933088302612305,
          22.744565963745117,
          19.65744972229004,
          19.317169189453125,
          19.67449188232422,
          22.16034698486328,
          17.633384704589844,
          15.032736778259277,
          12.70046615600586,
          24.649961471557617,
          24.91413688659668,
          16.477540969848633,
          16.58397674560547,
          17.38141441345215,
          8.606260299682617,
          -5.348964691162109,
          8.610457420349121,
          4.528004169464111,
          17.315317153930664,
          17.536148071289062,
          -5.401220798492432,
          16.706979751586914,
          19.289247512817383,
          19.30425262451172,
          19.018856048583984,
          23.181522369384766,
          22.31191062927246,
          16.77544593811035,
          22.87266731262207,
          23.4739990234375,
          23.301795959472656,
          21.108856201171875,
          28.57895278930664,
          17.57535743713379,
          19.119468688964844,
          19.093502044677734,
          17.55201530456543,
          20.0219783782959,
          -5.847859859466553,
          28.57767677307129,
          0.9003469347953796,
          0.9133930802345276,
          1.2411890029907227,
          10.483126640319824,
          21.957704544067383,
          21.605552673339844,
          23.479581832885742,
          24.840160369873047,
          22.676603317260742,
          20.860429763793945,
          22.291593551635742,
          23.191225051879883,
          27.117111206054688,
          27.15932273864746,
          18.37555694580078,
          18.530704498291016,
          16.441862106323242,
          13.974822044372559,
          23.724853515625,
          24.833269119262695,
          19.90184783935547,
          15.647597312927246,
          5.8791375160217285,
          2.8472745418548584,
          5.997906684875488,
          1.7559682130813599,
          1.7866222858428955,
          13.610204696655273,
          12.08678913116455,
          10.504840850830078,
          14.118602752685547,
          14.343242645263672,
          11.521292686462402,
          8.083683013916016,
          14.236257553100586,
          7.710926532745361,
          13.730103492736816,
          15.815732955932617,
          15.844070434570312,
          14.653475761413574,
          16.306852340698242,
          7.80364990234375,
          12.25477123260498,
          16.727079391479492,
          -21.46765899658203,
          -21.465900421142578,
          -20.937536239624023,
          -20.506446838378906,
          -20.43890380859375,
          -4.812136173248291,
          -4.796175479888916,
          -5.037469387054443,
          5.278210639953613,
          6.3546061515808105,
          6.970611572265625,
          7.668220043182373,
          2.3600192070007324,
          2.271185874938965,
          1.6088517904281616,
          7.022728443145752,
          3.361792802810669,
          6.940826892852783,
          5.2728681564331055,
          4.56140661239624,
          8.152447700500488,
          3.267939567565918,
          2.449439764022827,
          -2.720381021499634,
          -2.811375379562378,
          -2.7626938819885254,
          -2.6176230907440186,
          7.662126541137695,
          8.182449340820312,
          7.883204936981201,
          9.157135009765625,
          9.151812553405762,
          6.538483619689941,
          7.230835437774658,
          6.789362907409668,
          7.778109550476074,
          7.380509376525879,
          6.806799411773682,
          8.532440185546875,
          8.711380958557129,
          8.09502124786377,
          8.8002290725708,
          7.763827800750732,
          8.255383491516113,
          12.523881912231445,
          11.580514907836914,
          12.242292404174805,
          11.55592155456543,
          10.593265533447266,
          10.850774765014648,
          10.783976554870605,
          11.128239631652832,
          11.538961410522461,
          13.225364685058594,
          12.3489351272583,
          12.850521087646484,
          3.285193920135498,
          1.43231201171875,
          1.3430308103561401,
          0.03474727272987366,
          3.5382239818573,
          0.09417228400707245,
          3.667853355407715,
          -0.07649999856948853,
          1.9569499492645264,
          0.022998813539743423,
          9.649375915527344,
          9.682195663452148,
          -4.805666923522949,
          -4.789854526519775,
          -5.050797462463379,
          6.781797885894775,
          6.759692192077637,
          13.453166961669922,
          13.438436508178711,
          13.926810264587402,
          6.321716785430908,
          1.8140448331832886,
          2.8621344566345215,
          2.747591495513916,
          1.6062227487564087,
          1.1961371898651123,
          4.080280303955078,
          3.4447290897369385,
          11.325817108154297,
          12.128931999206543,
          11.015947341918945,
          7.281698703765869,
          2.567103385925293,
          15.223501205444336,
          2.8023321628570557,
          0.9145218729972839,
          2.730393409729004,
          3.134427785873413,
          1.249079942703247,
          11.86234188079834,
          15.51988697052002,
          12.126837730407715,
          12.093510627746582,
          10.44587230682373,
          10.83767318725586,
          -8.152043342590332,
          12.236385345458984,
          2.88368821144104,
          7.280819416046143,
          2.556453227996826,
          -13.83664608001709,
          18.3426513671875,
          7.037431716918945,
          7.044037818908691,
          4.930734157562256,
          4.9241719245910645,
          5.308067321777344,
          5.295386791229248,
          6.75172758102417,
          5.156996726989746,
          7.06452751159668
         ],
         "yaxis": "y"
        },
        {
         "customdata": [
          [
           "BUL100D - Childrenaposs development, play and learning",
           "Humanities and Education"
          ],
          [
           "BUL100G - Childrenaposs development, play and learning",
           "Humanities and Education"
          ],
          [
           "BUL100K - Childrenaposs development, play and learning",
           "Humanities and Education"
          ],
          [
           "BUL102G - Childrenaposs development, play and learning 1",
           "Humanities and Education"
          ],
          [
           "BUL102K - Childrenaposs development, play and learning 1",
           "Humanities and Education"
          ],
          [
           "EN-139 - Business English",
           "Humanities and Education"
          ],
          [
           "EN-148 - Didactics of English, part 1 (level 8-13)",
           "Humanities and Education"
          ],
          [
           "EN-151 - Didactics of English, part 1",
           "Humanities and Education"
          ],
          [
           "EN-153 - English Literature, Culture and Didactics 1",
           "Humanities and Education"
          ],
          [
           "EN-159 - English Language, Literature, Culture and Didactics in Context",
           "Humanities and Education"
          ],
          [
           "EN-444 - English Literature, Culture and Learning",
           "Humanities and Education"
          ],
          [
           "EN-447 - English Language and Learning",
           "Humanities and Education"
          ],
          [
           "EN-453 - Teknologi og litteratur",
           "Humanities and Education"
          ],
          [
           "EN-454 - Research Methods for Language, Linguistics and Translation",
           "Humanities and Education"
          ],
          [
           "EN-474 - Specialization assignment for one-subject students – English",
           "Humanities and Education"
          ],
          [
           "EN-504 - Theory and Methods for the Researching Teacher, English",
           "Humanities and Education"
          ],
          [
           "ET-401 - Professional Ethics",
           "Humanities and Education"
          ],
          [
           "EX-100 - Exam Philosophicum",
           "Humanities and Education"
          ],
          [
           "EX-102 - Examen Facultatum, Humanities",
           "Humanities and Education"
          ],
          [
           "EX-105 - Examen Facultatum - Educational variant",
           "Humanities and Education"
          ],
          [
           "FIL100 - Epistemology and Philosophy of Science",
           "Humanities and Education"
          ],
          [
           "FIL103 - History of Philosophy",
           "Humanities and Education"
          ],
          [
           "FIL104 - Logic and Argumention",
           "Humanities and Education"
          ],
          [
           "FIL200 - Game Theory and Philosophy",
           "Humanities and Education"
          ],
          [
           "FIL203 - Applied Philosophy: Current Issues",
           "Humanities and Education"
          ],
          [
           "FIL401 - Teknologiens filosofi",
           "Humanities and Education"
          ],
          [
           "FIL402 - Teknologiens etikk",
           "Humanities and Education"
          ],
          [
           "FIL600 - Philosophy of Technology",
           "Humanities and Education"
          ],
          [
           "FIL902 - Filosofi i kirken",
           "Humanities and Education"
          ],
          [
           "FIL903 - Etikk i arbeidslivet ",
           "Humanities and Education"
          ],
          [
           "FIL904 - Kritisk tenkning ",
           "Humanities and Education"
          ],
          [
           "FIL906 - Kritisk tenkning ",
           "Humanities and Education"
          ],
          [
           "FIL907 - Kunstig intelligens, menneske og samfunn",
           "Humanities and Education"
          ],
          [
           "FR-126 - Didactics of French, part 1 (level 8-13)",
           "Humanities and Education"
          ],
          [
           "FR-127 - Didactics of French",
           "Humanities and Education"
          ],
          [
           "FR-131 - Fransk språk 1",
           "Humanities and Education"
          ],
          [
           "FR-132 - Fransk litteratur 1 ",
           "Humanities and Education"
          ],
          [
           "FR-133 - Praktisk fransk og kulturkunnskap 1 ",
           "Humanities and Education"
          ],
          [
           "FR-403 - Specialization assignment for one-subject students – French",
           "Humanities and Education"
          ],
          [
           "HI-100 - Global History",
           "Humanities and Education"
          ],
          [
           "HI-110 - Europe and Norway 800-1750",
           "Humanities and Education"
          ],
          [
           "HI-124 - Kriminalitet, kjønn og samfunn i Norge ca. 1500-1700",
           "Humanities and Education"
          ],
          [
           "HI-131 - Didactics of History, part 1 (level 8-13)",
           "Humanities and Education"
          ],
          [
           "HI-134 - Didadics of History, part 1",
           "Humanities and Education"
          ],
          [
           "HI-223 - International Organization in Historical Perspective",
           "Humanities and Education"
          ],
          [
           "HI-226 - Reproduction in History: Bodies, Power and Gender",
           "Humanities and Education"
          ],
          [
           "HI-409 - Theory and Method of History",
           "Humanities and Education"
          ],
          [
           "HI-411 - Thesis Seminar",
           "Humanities and Education"
          ],
          [
           "HI-416 - Teknologiens historie",
           "Humanities and Education"
          ],
          [
           "HI-417 - Specialization assignment for one-subject students - History",
           "Humanities and Education"
          ],
          [
           "HI-500 - Masteraposs Thesis",
           "Humanities and Education"
          ],
          [
           "HI-501 - Masteraposs Thesis",
           "Humanities and Education"
          ],
          [
           "HI-600 - History as science: basic questions",
           "Humanities and Education"
          ],
          [
           "HI-601 - History-related text - and reading competence",
           "Humanities and Education"
          ],
          [
           "HP-603 - Ethnographic research",
           "Humanities and Education"
          ],
          [
           "KOM110 - Sound and Video ",
           "Humanities and Education"
          ],
          [
           "KOM111 - Media and Society",
           "Humanities and Education"
          ],
          [
           "KOM114 - Text and Image",
           "Humanities and Education"
          ],
          [
           "KOM205 - Journalism and press-related PR",
           "Humanities and Education"
          ],
          [
           "KOM208 - Bacheloraposs Thesis",
           "Humanities and Education"
          ],
          [
           "KOM209 - Introduction to Media and Communication Research Methods",
           "Humanities and Education"
          ],
          [
           "KOM400 - Rhetoric in Communication Society",
           "Humanities and Education"
          ],
          [
           "KOM402 - Internship",
           "Humanities and Education"
          ],
          [
           "KOM403 - Communication, media development and new public spheres",
           "Humanities and Education"
          ],
          [
           "KOM406 - Strategisk kommunikasjon og nye offentligheter",
           "Humanities and Education"
          ],
          [
           "KOM501 - Masteraposs Thesis",
           "Humanities and Education"
          ],
          [
           "KOM900 - Mediehåndtering og journalistikk ",
           "Humanities and Education"
          ],
          [
           "LAT100 - Introduction into Latin",
           "Humanities and Education"
          ],
          [
           "LFT104 - Acts of narration: Textual Analysis and Production",
           "Humanities and Education"
          ],
          [
           "LFT107 - Å analysere litteratur",
           "Humanities and Education"
          ],
          [
           "LFT108 - Å lese klassikere",
           "Humanities and Education"
          ],
          [
           "LFT110 - Film production and film narrative",
           "Humanities and Education"
          ],
          [
           "LFT202 - Film in theoretical perspective",
           "Humanities and Education"
          ],
          [
           "LFT208 - Artistic management",
           "Humanities and Education"
          ],
          [
           "LIT606 - Ecocritical Theory: Literature, Culture and Environment ",
           "Humanities and Education"
          ],
          [
           "LIT607 - Litteratur og helse",
           "Humanities and Education"
          ],
          [
           "ME-434 - Metode",
           "Humanities and Education"
          ],
          [
           "NOU163 - Analysing Literature - for International Students",
           "Humanities and Education"
          ],
          [
           "NOU164 - Reading the Classics - for International Students",
           "Humanities and Education"
          ],
          [
           "NOU166 - Norwegian Grammar - for International Students",
           "Humanities and Education"
          ],
          [
           "NOU209 - Literary Theory and Textual Analysis for International Students",
           "Humanities and Education"
          ],
          [
           "NOU213 - Nordic Languages for Exchange Students",
           "Humanities and Education"
          ],
          [
           "NOU218 - Languages in Nordic countries - for International Students",
           "Humanities and Education"
          ],
          [
           "NOU401 - Specialization in Nordic 1: Language - for Non-Norwegian Students",
           "Humanities and Education"
          ],
          [
           "NOU403 - Specialization in Nordic 1: Literature - for Non-Norwegian Students",
           "Humanities and Education"
          ],
          [
           "NOU416 - Literary theory - for International Students",
           "Humanities and Education"
          ],
          [
           "NOU417 - Linguistic theory - for International Students",
           "Humanities and Education"
          ],
          [
           "NOU418 - Specialization in Nordic 3: Language - for International Students",
           "Humanities and Education"
          ],
          [
           "NOU419 - Specialization in Nordic 3: Literature - for International Students",
           "Humanities and Education"
          ],
          [
           "NO-133G - Norwegian for International Students",
           "Humanities and Education"
          ],
          [
           "NO-133K - Norwegian for International Students",
           "Humanities and Education"
          ],
          [
           "NO-152 - Didactics of Norwegian, part 1 (level 8-13)",
           "Humanities and Education"
          ],
          [
           "NO-153 - Didactics of Norwegian, part 1 ",
           "Humanities and Education"
          ],
          [
           "NO-163 - Analysing Literature",
           "Humanities and Education"
          ],
          [
           "NO-164 - Reading the Classics",
           "Humanities and Education"
          ],
          [
           "NO-166 - Norwegian Grammer",
           "Humanities and Education"
          ],
          [
           "NO-209 - Literary Theory and Text Analysis",
           "Humanities and Education"
          ],
          [
           "NO-214 - Language, literature and new media in pre-school",
           "Humanities and Education"
          ],
          [
           "NO-216 - Norwegian language, literature and culture",
           "Humanities and Education"
          ],
          [
           "NO-218 - Languages in Nordic countries",
           "Humanities and Education"
          ],
          [
           "NO-420 - Developing reading, writing and oral skills in the initial training",
           "Humanities and Education"
          ],
          [
           "NO-421 - Norwegian language and text incl. Professional communication, Terminology",
           "Humanities and Education"
          ],
          [
           "NO-422 - Specialization assignment for one-subject students - Norwegian",
           "Humanities and Education"
          ],
          [
           "NO-506 - Theory of Science and Method for the Teacher Researcher, Norwegian",
           "Humanities and Education"
          ],
          [
           "NO-507 - Theory of Science and Method for the Teacher Researcher, Norwegian",
           "Humanities and Education"
          ],
          [
           "NO-910 - Norwegian 2-A",
           "Humanities and Education"
          ],
          [
           "NO-915 - Norwegian 1-A",
           "Humanities and Education"
          ],
          [
           "NO-918 - Reading, writing and oral skills in early school years (1-7) ",
           "Humanities and Education"
          ],
          [
           "NO-920 - Opplæring i norsk som andrespråk for voksenopplæring ",
           "Humanities and Education"
          ],
          [
           "OF-406 - Foundational issues in Translation Studies",
           "Humanities and Education"
          ],
          [
           "OF-407 - Specialised translation: technical and medical texts",
           "Humanities and Education"
          ],
          [
           "OF-410 - Domain specific translation:  public sector, business and legal texts",
           "Humanities and Education"
          ],
          [
           "OF-500 - Master’s thesis",
           "Humanities and Education"
          ],
          [
           "OF-903 - Fundamentals of Community Translation",
           "Humanities and Education"
          ],
          [
           "OF-904 - Specialised Translation in Immigration, Labour and Welfare Settings",
           "Humanities and Education"
          ],
          [
           "OF-905 - Sight Translation",
           "Humanities and Education"
          ],
          [
           "PED128 - Learning and training",
           "Humanities and Education"
          ],
          [
           "PED148 - The individual and society",
           "Humanities and Education"
          ],
          [
           "PED151 - Introduction in Special Needs Education",
           "Humanities and Education"
          ],
          [
           "PED155 - Pedagogy (level 8-13)",
           "Humanities and Education"
          ],
          [
           "PED156 - Education and pupil knowledge",
           "Humanities and Education"
          ],
          [
           "PED157 - Education and pupil knowledge",
           "Humanities and Education"
          ],
          [
           "PED158 - Education",
           "Humanities and Education"
          ],
          [
           "PED160 - Pupils academic, social and personal development and learning in a diverse classroom",
           "Humanities and Education"
          ],
          [
           "PED161 - The role of the cross-cultural teacher",
           "Humanities and Education"
          ],
          [
           "PED162 - The cross-cultural teacher’s adaptations for student’s learning and development in a diverse classroom",
           "Humanities and Education"
          ],
          [
           "PED229 - Educational professionalism",
           "Humanities and Education"
          ],
          [
           "PED239 - Habilitation and rehabilition",
           "Humanities and Education"
          ],
          [
           "PED241 - The cross-cultural teacher, school, and society",
           "Humanities and Education"
          ],
          [
           "PED315 - Individual counseling - theory and practice",
           "Humanities and Education"
          ],
          [
           "PED317 - Educational professional development",
           "Humanities and Education"
          ],
          [
           "PED322 - Early Childhood Education",
           "Humanities and Education"
          ],
          [
           "PED327 - The pupil, the teacher and the school",
           "Humanities and Education"
          ],
          [
           "PED328 - The school, the training establishment and the society",
           "Humanities and Education"
          ],
          [
           "PED332 - The pupil, the teacher and the school",
           "Humanities and Education"
          ],
          [
           "PED335 - Interaction and behavioural problems",
           "Humanities and Education"
          ],
          [
           "PED422 - Pedagogy and Education in Society",
           "Humanities and Education"
          ],
          [
           "PED423 - Childhood, socialisation and institution cultures",
           "Humanities and Education"
          ],
          [
           "PED424 - Inclusive Special Education",
           "Humanities and Education"
          ],
          [
           "PED425 - Socioemotional vulnerability",
           "Humanities and Education"
          ],
          [
           "PED427 - The school in a pluralistic society",
           "Humanities and Education"
          ],
          [
           "PED429 - The school in a pluralistic society",
           "Humanities and Education"
          ],
          [
           "PED523 - Advisement and Counselling.",
           "Humanities and Education"
          ],
          [
           "PED528 - Education and professional theory",
           "Humanities and Education"
          ],
          [
           "PED529 - Education and management",
           "Humanities and Education"
          ],
          [
           "PED530 - Practice",
           "Humanities and Education"
          ],
          [
           "PED531 - Innovation and leadership in special education",
           "Humanities and Education"
          ],
          [
           "PED533 - Philosophy of Science and Methodology for the researching teacher, Special Education for teachers",
           "Humanities and Education"
          ],
          [
           "PED534 - Barnehagens læringsmiljø",
           "Humanities and Education"
          ],
          [
           "PED535 - Veiledningspedagogikk for praksislærere i barnehagelærerutdanningen",
           "Humanities and Education"
          ],
          [
           "PED600 - Education  as a Scientific Discipline",
           "Humanities and Education"
          ],
          [
           "PED603 - Capacity for educational assessment",
           "Humanities and Education"
          ],
          [
           "PED604 - Special needs education",
           "Humanities and Education"
          ],
          [
           "PED605 - Professions and Professional relations",
           "Humanities and Education"
          ],
          [
           "PED609 - he legitimacy of pedagogy in the light of contemporary challenges to democratic participation",
           "Humanities and Education"
          ],
          [
           "PED610 - Using R and Structural Equation Modeling in Educational Research ",
           "Humanities and Education"
          ],
          [
           "PED611 - General didactics, school and society",
           "Humanities and Education"
          ],
          [
           "PED612 - Participatory research: Action and change",
           "Humanities and Education"
          ],
          [
           "PED613 - Participatory research: Action and change",
           "Humanities and Education"
          ],
          [
           "PED9000 - Special Education and Universal Design for Learning 1",
           "Humanities and Education"
          ],
          [
           "PED9002 - Vocational specialization for vocational teachers 1. Integrated vocational education and training in schools and workpla",
           "Humanities and Education"
          ],
          [
           "PED961 - Praktisk ledelse for mellomledere",
           "Humanities and Education"
          ],
          [
           "PED972 - Skolebasert veiledningspedagogikk for praksislærere og veiledere for nyutdannede",
           "Humanities and Education"
          ],
          [
           "PED976 - Veilederutdanning for praksislærere i barnehage",
           "Humanities and Education"
          ],
          [
           "PED982 - Veiledningspedagogikk 1 for praksislærere i skolen",
           "Humanities and Education"
          ],
          [
           "PED992 - Veilederutdanning grunnemne. Veiledningsteori og metode",
           "Humanities and Education"
          ],
          [
           "PED999 - Pedagogisk ledelse av skolebaserte læringsprosesser ",
           "Humanities and Education"
          ],
          [
           "REL114 - Introduction to Christianity, Religion, Worldviews and Ethics ( 1 )",
           "Humanities and Education"
          ],
          [
           "REL116 - Religion in modern time Norway",
           "Humanities and Education"
          ],
          [
           "REL117 - Judaism, Christianity and Humanism",
           "Humanities and Education"
          ],
          [
           "REL118 - Hinduism, Buddhism and Islam",
           "Humanities and Education"
          ],
          [
           "REL120 - Didactics of Religion and Ethics, part 1  (level 8-13)",
           "Humanities and Education"
          ],
          [
           "REL122 - Didactics of Religion part 1",
           "Humanities and Education"
          ],
          [
           "REL125 - Introduction to Christianity, Religion, Lifeviews and Ethics 1",
           "Humanities and Education"
          ],
          [
           "REL129 - Introduction to Christianity, Religion, Lifeviews and Ethics 1",
           "Humanities and Education"
          ],
          [
           "REL130 - Introduction to Christianity, Religion, Lifeviews and Ethics 2",
           "Humanities and Education"
          ],
          [
           "REL206 - Globale trender på religionsfeltet: radikalisering, vold og populisme",
           "Humanities and Education"
          ],
          [
           "REL207 - The struggle for true Christianity: authority and power of definition",
           "Humanities and Education"
          ],
          [
           "REL411 - Religion and Society 1: Religion in Norway",
           "Humanities and Education"
          ],
          [
           "REL412 - Theory and Method",
           "Humanities and Education"
          ],
          [
           "REL414 - Applied Ethics",
           "Humanities and Education"
          ],
          [
           "REL419 - Religious Texts: Narratives and Interpretations",
           "Humanities and Education"
          ],
          [
           "REL420 - Religion and Society 1: Religion in Norway",
           "Humanities and Education"
          ],
          [
           "REL422 - Specialization assignment for one-subject students - Religion",
           "Humanities and Education"
          ],
          [
           "REL500 - Masteraposs Thesis ",
           "Humanities and Education"
          ],
          [
           "REL501 - Masteraposs Thesis",
           "Humanities and Education"
          ],
          [
           "REL503 - Theory and Metod for the Researching Teacher",
           "Humanities and Education"
          ],
          [
           "REL601 - Social ethics",
           "Humanities and Education"
          ],
          [
           "REL607 - Research as a Moral Praxis: Social Ethics for Researchers",
           "Humanities and Education"
          ],
          [
           "REL902 - Values - enrichment or burden. Ethics in Kindergarden",
           "Humanities and Education"
          ],
          [
           "SK-904 - Skolebiblioteket i fagfornyelsen ",
           "Humanities and Education"
          ],
          [
           "SPA110 - Didactics of Spanish, part 1 (level 8-13)",
           "Humanities and Education"
          ],
          [
           "SPA111 - Didactics of Spanish",
           "Humanities and Education"
          ],
          [
           "SPA115 - Spanish Language 1",
           "Humanities and Education"
          ],
          [
           "SPA116 - Literature and Culture 1",
           "Humanities and Education"
          ],
          [
           "SPA403 - Specialization assignment for one-subject students – Spanish",
           "Humanities and Education"
          ],
          [
           "SRE201 - Religion, sustainability and everyday life",
           "Humanities and Education"
          ],
          [
           "TMS500 - Masteroppgave",
           "Humanities and Education"
          ],
          [
           "TY-121 - German literature, history and culture",
           "Humanities and Education"
          ],
          [
           "TY-125 - German language 1",
           "Humanities and Education"
          ],
          [
           "TY-129 - Didactics of German, part 1 (level 8-13)",
           "Humanities and Education"
          ],
          [
           "TY-130 - Didactics of German",
           "Humanities and Education"
          ],
          [
           "TY-403 - Specialization assignment for one-subject students – German",
           "Humanities and Education"
          ]
         ],
         "hovertemplate": "<b>Course:</b> %{customdata[0]}<br><b>Faculty:</b> %{customdata[1]}<br><extra></extra>",
         "legendgroup": "Humanities and Education",
         "marker": {
          "color": "rgb(190,186,218)",
          "size": 8,
          "symbol": "circle"
         },
         "mode": "markers",
         "name": "Humanities and Education",
         "showlegend": true,
         "type": "scattergl",
         "x": [
          28.898635864257812,
          28.393983840942383,
          28.303041458129883,
          27.502431869506836,
          27.476896286010742,
          0.3788962662220001,
          8.682215690612793,
          8.581826210021973,
          7.29370641708374,
          7.183661937713623,
          6.324080467224121,
          6.400043487548828,
          -3.284888744354248,
          -15.375191688537598,
          -11.605186462402344,
          -13.603090286254883,
          2.9331283569335938,
          -3.677337884902954,
          -2.8926920890808105,
          13.899444580078125,
          -4.370357513427734,
          -2.81489634513855,
          -1.6532461643218994,
          -3.405893325805664,
          -2.687217950820923,
          -4.026440143585205,
          -4.226521015167236,
          -3.3814523220062256,
          -1.9470645189285278,
          -0.2557580769062042,
          0.13651949167251587,
          0.22186963260173798,
          -5.363526344299316,
          11.237908363342285,
          11.269351959228516,
          -1.4550474882125854,
          -2.462672472000122,
          -1.4974876642227173,
          -11.960089683532715,
          -0.24330264329910278,
          -0.710985004901886,
          -0.7651442885398865,
          5.3011155128479,
          5.231537818908691,
          1.688560962677002,
          0.5121566653251648,
          1.6630277633666992,
          -25.790775299072266,
          -2.3170390129089355,
          -13.406435012817383,
          -25.748374938964844,
          -25.743988037109375,
          1.8913451433181763,
          2.531250476837158,
          -7.407817840576172,
          -33.156864166259766,
          -15.328598976135254,
          -15.61878776550293,
          -14.13703727722168,
          -23.79936408996582,
          -11.034879684448242,
          -16.03725814819336,
          6.882660388946533,
          -16.285924911499023,
          -16.56808090209961,
          -24.723066329956055,
          -14.061744689941406,
          -1.0380535125732422,
          -12.558212280273438,
          -7.370489120483398,
          -5.028555870056152,
          -13.794413566589355,
          -13.930317878723145,
          -14.203902244567871,
          -9.707775115966797,
          -9.481793403625488,
          -12.984541893005371,
          -6.639166355133057,
          -4.401540279388428,
          -1.6257927417755127,
          -7.424516201019287,
          -2.8709352016448975,
          -1.9003549814224243,
          -4.294265270233154,
          -5.005379676818848,
          -6.568881034851074,
          -5.517631530761719,
          -4.34072208404541,
          -5.276476860046387,
          0.5646424293518066,
          0.5617928504943848,
          3.7687973976135254,
          3.7116947174072266,
          -6.760413646697998,
          -4.43948221206665,
          -1.6350531578063965,
          -7.550314426422119,
          26.218538284301758,
          -3.0410654544830322,
          -1.8133914470672607,
          4.165998935699463,
          -3.27362322807312,
          -11.826080322265625,
          -12.46660327911377,
          -12.48918342590332,
          2.1174490451812744,
          1.9461616277694702,
          4.299488067626953,
          2.2673189640045166,
          -7.167067050933838,
          -5.7286601066589355,
          -5.492889404296875,
          -24.542041778564453,
          -7.724967956542969,
          -6.813543796539307,
          -7.882340431213379,
          18.30751609802246,
          16.682165145874023,
          19.034231185913086,
          17.14818572998047,
          18.07416534423828,
          17.91874885559082,
          17.225618362426758,
          16.855594635009766,
          15.106118202209473,
          15.544139862060547,
          20.71105194091797,
          20.247522354125977,
          14.615044593811035,
          24.842727661132812,
          20.914684295654297,
          23.544361114501953,
          19.181900024414062,
          19.003036499023438,
          19.2157039642334,
          21.72315788269043,
          15.49747371673584,
          16.07624053955078,
          19.466556549072266,
          22.049034118652344,
          13.662216186523438,
          13.652064323425293,
          23.314319610595703,
          21.406309127807617,
          16.991228103637695,
          10.065640449523926,
          18.25712013244629,
          -10.477850914001465,
          24.593433380126953,
          25.06386375427246,
          14.785460472106934,
          18.73094367980957,
          19.391794204711914,
          14.656436920166016,
          13.023343086242676,
          -8.696011543273926,
          15.109148025512695,
          10.485774040222168,
          10.476983070373535,
          18.008512496948242,
          20.24993324279785,
          17.31101417541504,
          23.59733009338379,
          25.17595863342285,
          24.20387840270996,
          24.772445678710938,
          20.33601188659668,
          11.461081504821777,
          9.495192527770996,
          10.43286418914795,
          10.308645248413086,
          11.282255172729492,
          11.289344787597656,
          12.19764232635498,
          12.190999984741211,
          12.220146179199219,
          10.21470832824707,
          11.668543815612793,
          8.716486930847168,
          -13.718130111694336,
          2.8830759525299072,
          10.372106552124023,
          8.650952339172363,
          -10.701659202575684,
          -24.938859939575195,
          -24.967262268066406,
          -13.690744400024414,
          1.060981273651123,
          0.9124656915664673,
          27.006603240966797,
          25.528024673461914,
          12.787168502807617,
          12.84093189239502,
          1.2505336999893188,
          1.3724000453948975,
          -12.401926040649414,
          30.00486946105957,
          -24.89354705810547,
          -4.365407466888428,
          -3.162353515625,
          10.507128715515137,
          10.791353225708008,
          -11.249164581298828
         ],
         "xaxis": "x",
         "y": [
          -23.854629516601562,
          -23.82082176208496,
          -24.074501037597656,
          -23.00979232788086,
          -23.026857376098633,
          -18.461835861206055,
          -17.90219497680664,
          -17.971033096313477,
          -19.872339248657227,
          -19.38549041748047,
          -18.82807731628418,
          -18.514806747436523,
          -9.849308967590332,
          4.551804065704346,
          -7.185959339141846,
          0.9887018799781799,
          -1.2977159023284912,
          -0.6610618233680725,
          -0.6204756498336792,
          -4.629629135131836,
          -0.03477413207292557,
          -5.223141670227051,
          -3.5613062381744385,
          -3.823308229446411,
          -5.095524311065674,
          -8.343015670776367,
          -8.548561096191406,
          -8.035252571105957,
          -5.791772365570068,
          -4.744624614715576,
          -3.5621070861816406,
          -3.5507771968841553,
          -8.135868072509766,
          -19.108978271484375,
          -19.120180130004883,
          -31.894737243652344,
          -32.55620574951172,
          -32.302921295166016,
          -7.917972087860107,
          -13.589980125427246,
          -12.785009384155273,
          -12.418787002563477,
          -13.722853660583496,
          -13.675721168518066,
          -9.0097017288208,
          -10.889440536499023,
          -11.989373207092285,
          8.323607444763184,
          -10.423124313354492,
          -8.029374122619629,
          9.177124977111816,
          9.178739547729492,
          -11.757159233093262,
          -12.550567626953125,
          4.891436576843262,
          -21.160070419311523,
          -16.861717224121094,
          -18.302202224731445,
          -15.7864990234375,
          19.603717803955078,
          8.02497673034668,
          -17.558677673339844,
          5.37040901184082,
          -16.034095764160156,
          -16.046390533447266,
          12.113950729370117,
          -15.735411643981934,
          -30.005632400512695,
          -27.658981323242188,
          -29.3446102142334,
          -27.953588485717773,
          -27.515886306762695,
          -28.622100830078125,
          -28.297500610351562,
          -27.284311294555664,
          -27.862022399902344,
          5.471315383911133,
          -29.544038772583008,
          -27.447704315185547,
          -26.82101058959961,
          -26.4530029296875,
          -23.914112091064453,
          -24.082090377807617,
          -22.834867477416992,
          -23.0487060546875,
          -25.379413604736328,
          -24.87723731994629,
          -23.543914794921875,
          -23.37624740600586,
          -26.81525993347168,
          -26.823192596435547,
          -22.280864715576172,
          -22.311016082763672,
          -29.588367462158203,
          -27.520463943481445,
          -26.83751106262207,
          -26.567102432250977,
          -30.861207962036133,
          -25.206985473632812,
          -24.08074378967285,
          -24.95503807067871,
          -20.5532169342041,
          -6.59827184677124,
          1.0596349239349365,
          1.0594693422317505,
          -22.39137840270996,
          -22.315284729003906,
          -25.011943817138672,
          -24.074071884155273,
          -19.085376739501953,
          -18.45929718017578,
          -18.541505813598633,
          10.717595100402832,
          -17.646398544311523,
          -17.86309814453125,
          -17.880855560302734,
          -7.242433071136475,
          -6.494819164276123,
          -2.8013553619384766,
          -10.485798835754395,
          -12.46780014038086,
          -12.562987327575684,
          -10.356874465942383,
          -12.928261756896973,
          -13.769682884216309,
          -13.54200267791748,
          -6.540135860443115,
          -1.392703652381897,
          -13.64100456237793,
          -5.164490699768066,
          -8.490486145019531,
          -12.193130493164062,
          -10.326476097106934,
          -8.742679595947266,
          -10.453825950622559,
          -2.832510471343994,
          -6.511984348297119,
          -8.031660079956055,
          -2.752626657485962,
          -2.6783313751220703,
          -8.40493106842041,
          -8.366087913513184,
          -5.352206707000732,
          -6.418732643127441,
          15.666058540344238,
          3.0988030433654785,
          -1.0794416666030884,
          3.1931052207946777,
          -10.766532897949219,
          -9.199141502380371,
          -5.151472091674805,
          -5.502365589141846,
          -3.5063066482543945,
          -1.3771358728408813,
          -6.397125244140625,
          19.605636596679688,
          -5.540432453155518,
          -3.800920248031616,
          -3.795795202255249,
          -3.2533998489379883,
          -11.235306739807129,
          16.95259666442871,
          -8.500110626220703,
          -8.987789154052734,
          -8.403515815734863,
          -7.615201950073242,
          -8.783923149108887,
          -25.36753273010254,
          -28.980121612548828,
          -30.209482192993164,
          -30.226259231567383,
          -23.38222312927246,
          -23.53026008605957,
          -24.9182071685791,
          -24.958274841308594,
          -25.987926483154297,
          -28.313127517700195,
          -27.235811233520508,
          -28.1553897857666,
          3.4642107486724854,
          -1.263714075088501,
          -26.071813583374023,
          -28.124950408935547,
          -6.914525508880615,
          13.819456100463867,
          13.628026008605957,
          2.6417441368103027,
          0.386983186006546,
          0.615416407585144,
          -11.00537395477295,
          -31.972061157226562,
          -17.71302604675293,
          -17.717052459716797,
          -31.12498664855957,
          -31.172964096069336,
          -8.643930435180664,
          -16.838184356689453,
          14.931575775146484,
          -30.231504440307617,
          -30.42692756652832,
          -17.291854858398438,
          -17.44998550415039,
          -8.176155090332031
         ],
         "yaxis": "y"
        },
        {
         "customdata": [
          [
           "DR-131 - Inn i teateret",
           "Fine Arts"
          ],
          [
           "DR-206 - Drama and theatre in the Kindergarten",
           "Fine Arts"
          ],
          [
           "DR-904 - Improvisasjon i barnehagen – lek og ledelse",
           "Fine Arts"
          ],
          [
           "KF-100 - Creative and Experimental Processes",
           "Fine Arts"
          ],
          [
           "KF-102 - Between Art and Design",
           "Fine Arts"
          ],
          [
           "KF-104 - Site-Specific Art Expressions",
           "Fine Arts"
          ],
          [
           "KF-105 - Workshops and materials",
           "Fine Arts"
          ],
          [
           "KF-106 - Art history",
           "Fine Arts"
          ],
          [
           "KF-400 - Trans-disciplinary Arts Project",
           "Fine Arts"
          ],
          [
           "KF-405 - Lek, læring og barns meningsskaping",
           "Fine Arts"
          ],
          [
           "KF-406 - Concepts of Contemporary Art(s)",
           "Fine Arts"
          ],
          [
           "KF-407 - Art and Context",
           "Fine Arts"
          ],
          [
           "KF-408 - Interdisciplinary Artistic Work",
           "Fine Arts"
          ],
          [
           "KF-500 - Master's Thesis",
           "Fine Arts"
          ],
          [
           "KF-601 - Analytical theory and methods of popular music research",
           "Fine Arts"
          ],
          [
           "KF-602 - Art in context: Theory, methods and aesthetics",
           "Fine Arts"
          ],
          [
           "KF-604 - Music technology and production",
           "Fine Arts"
          ],
          [
           "KF-606 - Ethnomusicology and world music research ",
           "Fine Arts"
          ],
          [
           "KF-612 - Visual art in context",
           "Fine Arts"
          ],
          [
           "KF-613 - Music in context",
           "Fine Arts"
          ],
          [
           "KF-614 - Theater in context",
           "Fine Arts"
          ],
          [
           "KF-615 - Philosophy of science and research methods in the arts",
           "Fine Arts"
          ],
          [
           "KH-135 - Fagdidaktikk i kunst og håndverk, del 1",
           "Fine Arts"
          ],
          [
           "KH-139 - Innføring i skapende og eksperimenterende prosesser",
           "Fine Arts"
          ],
          [
           "KH-140 - Forskning og utvikling i kunst og håndverksdidaktikk",
           "Fine Arts"
          ],
          [
           "KH-141 - Stedsrelaterte uttrykk - Lesvos",
           "Fine Arts"
          ],
          [
           "KH-206 - Arts and Crafts in Kindergarten",
           "Fine Arts"
          ],
          [
           "KH-207 - Arts and Crafts",
           "Fine Arts"
          ],
          [
           "KH-208 - Arts and Crafts - Theory",
           "Fine Arts"
          ],
          [
           "KH-402 - Kunst og håndverk i samtiden",
           "Fine Arts"
          ],
          [
           "KH-404 - Kunst og håndverk i samtiden",
           "Fine Arts"
          ],
          [
           "KH-406 - Specialization assignment for one-subject students - Arts and crafts",
           "Fine Arts"
          ],
          [
           "KH-500 - Vitenskapsteori og metode for den forskende lærer, kunst og håndverk",
           "Fine Arts"
          ],
          [
           "KH-502 - Vitenskapsteori og metode for den forskende lærer, kunst og håndverk",
           "Fine Arts"
          ],
          [
           "KKK100D - Kunst, kultur og kreativitet",
           "Fine Arts"
          ],
          [
           "KKK100G - Art, culture and creativity",
           "Fine Arts"
          ],
          [
           "KKK100K - Art, culture and creativity",
           "Fine Arts"
          ],
          [
           "KKK200 - Creativity and artistic development work in Kindergarten",
           "Fine Arts"
          ],
          [
           "ME-432 - Music Research, Theory and Method",
           "Fine Arts"
          ],
          [
           "MUE102 - Electronic Music Theory",
           "Fine Arts"
          ],
          [
           "MUE103 - Electronic Music History",
           "Fine Arts"
          ],
          [
           "MUE104 - Composition and Arranging, Electronic Music",
           "Fine Arts"
          ],
          [
           "MUE106 - Live Remix",
           "Fine Arts"
          ],
          [
           "MUE107 - Mixing & Mastering",
           "Fine Arts"
          ],
          [
           "MUE109 - Musictechnology for performers",
           "Fine Arts"
          ],
          [
           "MUE110 - Individual Performance",
           "Fine Arts"
          ],
          [
           "MUK107 - Philosophy of Science, Aestetics and Analysis",
           "Fine Arts"
          ],
          [
           "MUK114 - Music History",
           "Fine Arts"
          ],
          [
           "MUK167 - Performance Skills",
           "Fine Arts"
          ],
          [
           "MUK168 - Instrumental Method 1",
           "Fine Arts"
          ],
          [
           "MUK169 - Composing/Arranging",
           "Fine Arts"
          ],
          [
           "MUK170 - Aural Training 2",
           "Fine Arts"
          ],
          [
           "MUK171 - Concert Production",
           "Fine Arts"
          ],
          [
           "MUK173 - Musical Communication",
           "Fine Arts"
          ],
          [
           "MUK174 - Main Instrument 1",
           "Fine Arts"
          ],
          [
           "MUK175 - Main Areas 1",
           "Fine Arts"
          ],
          [
           "MUK176 - Aural Training 1",
           "Fine Arts"
          ],
          [
           "MUK177 - Outreach and Dialog",
           "Fine Arts"
          ],
          [
           "MUK178 - Music Technology",
           "Fine Arts"
          ],
          [
           "MUK180 - Arranging/Composition",
           "Fine Arts"
          ],
          [
           "MUK203 - Main Instrument 2",
           "Fine Arts"
          ],
          [
           "MUK254 - Instrumental Method 2",
           "Fine Arts"
          ],
          [
           "MUK255 - Main Areas 2",
           "Fine Arts"
          ],
          [
           "MUK309 - Main Areas 3 ",
           "Fine Arts"
          ],
          [
           "MUK310 - Main Instrument 3  ",
           "Fine Arts"
          ],
          [
           "MUK313 - Main Instrument 3",
           "Fine Arts"
          ],
          [
           "MUK314 - Main Areas 3",
           "Fine Arts"
          ],
          [
           "MUK402 - Individual Performance and Ensemble I",
           "Fine Arts"
          ],
          [
           "MUK403 - Inidividual performance and ensemble III",
           "Fine Arts"
          ],
          [
           "MUK406 - Individual Artistry",
           "Fine Arts"
          ],
          [
           "MUK408 - Scientific Practice and Project Development",
           "Fine Arts"
          ],
          [
           "MUK409 - Ensemble singing I",
           "Fine Arts"
          ],
          [
           "MUK410 - Ensemble singing II",
           "Fine Arts"
          ],
          [
           "MUK501 - Master Thesis",
           "Fine Arts"
          ],
          [
           "MUK502 - Individual artistry and master’s project",
           "Fine Arts"
          ],
          [
           "MUR107 - Analytical Theory and Method in Popular Musicology",
           "Fine Arts"
          ],
          [
           "MUR114 - Music History",
           "Fine Arts"
          ],
          [
           "MUR118 - Music Technology for Electronic Music",
           "Fine Arts"
          ],
          [
           "MUR120 - Sound Design",
           "Fine Arts"
          ],
          [
           "MUR121 - Individual Performance 1",
           "Fine Arts"
          ],
          [
           "MUR122 - Individual Performance 1",
           "Fine Arts"
          ],
          [
           "MUR123 - Applied Music Theory",
           "Fine Arts"
          ],
          [
           "MUR124 - Music Technology",
           "Fine Arts"
          ],
          [
           "MUR125 - Individual Performance 2",
           "Fine Arts"
          ],
          [
           "MUR126 - Individual Performance 2",
           "Fine Arts"
          ],
          [
           "MUR127 - Ear Training",
           "Fine Arts"
          ],
          [
           "MUR128 - Composing and Arranging",
           "Fine Arts"
          ],
          [
           "MUR130 - Instrument II",
           "Fine Arts"
          ],
          [
           "MUR133 - Touring & Project Planning",
           "Fine Arts"
          ],
          [
           "MUR202 - Electronic Music Specialisation",
           "Fine Arts"
          ],
          [
           "MUR206 - Making Music",
           "Fine Arts"
          ],
          [
           "MUR207 - Producing Music",
           "Fine Arts"
          ],
          [
           "MUR208 - Performing Music",
           "Fine Arts"
          ],
          [
           "MUR312 - Individual Performance 4",
           "Fine Arts"
          ],
          [
           "MUR313 - Individual Performance 4",
           "Fine Arts"
          ],
          [
           "MUR402 - Idividual Performance and Interpretation l",
           "Fine Arts"
          ],
          [
           "MUR502 - Master's Thesis",
           "Fine Arts"
          ],
          [
           "MUR503 - Individual Performance and Interpretation lll",
           "Fine Arts"
          ],
          [
           "MU-145 - Musical Performance and Cultural Understanding I",
           "Fine Arts"
          ],
          [
           "MU-146 - Introduction to Music 1 ",
           "Fine Arts"
          ],
          [
           "MU-149 - History of Music",
           "Fine Arts"
          ],
          [
           "MU-150 - Music Technology",
           "Fine Arts"
          ],
          [
           "MU-151 - Core Subject Studies in Music 1",
           "Fine Arts"
          ],
          [
           "MU-152 - Composing and Arranging",
           "Fine Arts"
          ],
          [
           "MU-153 - Fagdidaktikk i musikk, del 1",
           "Fine Arts"
          ],
          [
           "MU-218 - Core Subject Studies in Music 2",
           "Fine Arts"
          ],
          [
           "MU-219 - Creativity and artistic development work in Kindergarten-with specialisation in Music",
           "Fine Arts"
          ],
          [
           "MU-302 - Main Instrument Specialisation",
           "Fine Arts"
          ],
          [
           "MU-400 - Music Business I",
           "Fine Arts"
          ],
          [
           "MU-409 - New Technologies",
           "Fine Arts"
          ],
          [
           "MU-410 - Specialization assignment for one-subject students - Music subject didactics",
           "Fine Arts"
          ],
          [
           "MU-906 - Musikkteknologi i undervisningen, del 1",
           "Fine Arts"
          ],
          [
           "MU-908 - Sang og musikk i undervisningen, del 1",
           "Fine Arts"
          ],
          [
           "MU-910 - Musikkundervisning på nettbrett",
           "Fine Arts"
          ],
          [
           "MU-911 - Musikk via nett: innføring i digitalt arbeid med musikk",
           "Fine Arts"
          ],
          [
           "MU-913 - Musikk, kultur og helse – Modul 1: Innføring",
           "Fine Arts"
          ],
          [
           "MU-914 - Musikk, kultur og helse – Modul 2: Praktisk arbeid",
           "Fine Arts"
          ],
          [
           "MU-915 - Musikk, kultur og helse – Modul 3: Samarbeidsformer",
           "Fine Arts"
          ],
          [
           "MU-916 - Instrumental metode og varierte undervisningsformer i kulturskolen",
           "Fine Arts"
          ],
          [
           "ORG994 - Prosjektledelse i kunst og scenefag ",
           "Fine Arts"
          ],
          [
           "PED134 - Pedagogics",
           "Fine Arts"
          ],
          [
           "PRA081 - Practice 3 Teaching in Culture Schools",
           "Fine Arts"
          ],
          [
           "TEA100 - Physical Theatre and Theatre Space",
           "Fine Arts"
          ],
          [
           "TEA102 - Experience - Theatre",
           "Fine Arts"
          ],
          [
           "TEA103 - Create - Theatre",
           "Fine Arts"
          ],
          [
           "TEA105 - Dramaturgy and Directing",
           "Fine Arts"
          ],
          [
           "TFL107 - Entrepreneurship for Art Students",
           "Fine Arts"
          ],
          [
           "TFL202 - MyMachine - design thinking, creativity and project",
           "Fine Arts"
          ]
         ],
         "hovertemplate": "<b>Course:</b> %{customdata[0]}<br><b>Faculty:</b> %{customdata[1]}<br><extra></extra>",
         "legendgroup": "Fine Arts",
         "marker": {
          "color": "rgb(251,128,114)",
          "size": 8,
          "symbol": "circle"
         },
         "mode": "markers",
         "name": "Fine Arts",
         "showlegend": true,
         "type": "scattergl",
         "x": [
          -19.277124404907227,
          -16.89499282836914,
          -16.77560806274414,
          -16.81712532043457,
          -18.05158233642578,
          -17.06024742126465,
          -17.013324737548828,
          -21.982454299926758,
          -19.649269104003906,
          -13.884282112121582,
          -20.214908599853516,
          -18.91497802734375,
          -19.640287399291992,
          -25.750457763671875,
          -22.363035202026367,
          -19.955379486083984,
          -36.07596969604492,
          -22.65129280090332,
          -19.864032745361328,
          -21.242008209228516,
          -20.383464813232422,
          -20.16550064086914,
          -12.542891502380371,
          -15.3126802444458,
          -14.69384479522705,
          -15.789034843444824,
          -14.821145057678223,
          -14.787270545959473,
          -13.880809783935547,
          -14.702962875366211,
          -14.66054916381836,
          -13.719542503356934,
          -14.269929885864258,
          -14.229641914367676,
          -12.917107582092285,
          -12.79702377319336,
          -13.0805025100708,
          -14.571606636047363,
          -21.801679611206055,
          -38.23982620239258,
          -38.686607360839844,
          -37.93145751953125,
          -40.23316192626953,
          -37.55693817138672,
          -39.352134704589844,
          -37.18637466430664,
          -22.642189025878906,
          -29.498809814453125,
          -31.65841293334961,
          -31.592823028564453,
          -36.951995849609375,
          -33.09123611450195,
          -28.082550048828125,
          -27.799922943115234,
          -34.563018798828125,
          -33.77703094482422,
          -33.044883728027344,
          -27.235057830810547,
          -34.59996795654297,
          -36.73427963256836,
          -34.9596061706543,
          -31.659725189208984,
          -33.54568862915039,
          -33.572994232177734,
          -34.643829345703125,
          -35.0023078918457,
          -33.649078369140625,
          -36.52973556518555,
          -35.987667083740234,
          -38.636817932128906,
          -13.844914436340332,
          -36.07118606567383,
          -36.156166076660156,
          -25.598581314086914,
          -38.950984954833984,
          -22.58154296875,
          -29.830659866333008,
          -36.478973388671875,
          -35.397491455078125,
          -38.304195404052734,
          -38.688011169433594,
          -33.92251205444336,
          -35.467491149902344,
          -38.08625793457031,
          -39.26245880126953,
          -33.71535110473633,
          -35.870323181152344,
          -35.68455123901367,
          -28.561731338500977,
          -37.32624816894531,
          -35.861656188964844,
          -36.405372619628906,
          -36.848838806152344,
          -38.96051025390625,
          -39.40067672729492,
          -37.85579299926758,
          -26.528104782104492,
          -38.01237106323242,
          -32.025245666503906,
          -31.578136444091797,
          -30.70923614501953,
          -34.679508209228516,
          -32.9670524597168,
          -35.711788177490234,
          -30.733680725097656,
          -33.81953048706055,
          -15.319182395935059,
          -34.72737121582031,
          -41.00844192504883,
          -40.9760627746582,
          -13.779247283935547,
          -32.659549713134766,
          -29.06214141845703,
          -31.8526611328125,
          -31.8055362701416,
          -27.574405670166016,
          -28.429805755615234,
          -27.741497039794922,
          -30.24690055847168,
          4.933765888214111,
          17.73649024963379,
          19.314807891845703,
          -20.01578712463379,
          -20.233810424804688,
          -19.822301864624023,
          -20.723310470581055,
          0.5316860675811768,
          -20.08054542541504
         ],
         "xaxis": "x",
         "y": [
          -42.475772857666016,
          -42.22370910644531,
          -42.850833892822266,
          -36.04175567626953,
          -35.8083381652832,
          -34.20151138305664,
          -35.93168258666992,
          -34.18572998046875,
          -34.7259407043457,
          -42.274417877197266,
          -33.82542037963867,
          -33.217002868652344,
          -34.36572265625,
          11.212584495544434,
          -28.405282974243164,
          -30.733964920043945,
          -26.99162483215332,
          -29.316082000732422,
          -30.931129455566406,
          -30.84383201599121,
          -31.403499603271484,
          -29.241413116455078,
          -35.558074951171875,
          -36.73239517211914,
          -2.3298850059509277,
          -33.540992736816406,
          -38.86188888549805,
          -38.52834701538086,
          -38.51533508300781,
          -35.009037017822266,
          -34.899234771728516,
          -5.8539137840271,
          -0.8255795836448669,
          -0.7779821157455444,
          -40.887996673583984,
          -40.52219009399414,
          -40.49428939819336,
          -40.433406829833984,
          -26.40808868408203,
          -30.101886749267578,
          -29.843841552734375,
          -31.02303695678711,
          -32.07145690917969,
          -27.58633041381836,
          -31.778287887573242,
          -37.2701416015625,
          -26.603788375854492,
          -32.34395980834961,
          -42.529685974121094,
          -39.352230072021484,
          -33.93373107910156,
          -34.6812858581543,
          -41.10249328613281,
          -40.821441650390625,
          -39.090919494628906,
          -39.10512924194336,
          -34.59339141845703,
          -40.38334274291992,
          -27.773956298828125,
          -33.70789337158203,
          -40.079132080078125,
          -39.472084045410156,
          -39.604515075683594,
          -41.24244689941406,
          -41.651695251464844,
          -41.569549560546875,
          -40.95804977416992,
          -40.73984146118164,
          -41.60944366455078,
          -41.79951095581055,
          10.770666122436523,
          -43.647762298583984,
          -43.77119827270508,
          12.424910545349121,
          -41.91282272338867,
          -27.166170120239258,
          -32.30569839477539,
          -29.230056762695312,
          -29.773523330688477,
          -36.33642578125,
          -36.387264251708984,
          -32.4085807800293,
          -28.463184356689453,
          -37.60008239746094,
          -37.181846618652344,
          -32.806678771972656,
          -32.79523468017578,
          -36.01182556152344,
          -42.54679870605469,
          -29.87127113342285,
          -32.08998107910156,
          -28.063383102416992,
          -38.65493392944336,
          -38.72555160522461,
          -38.54118728637695,
          -39.018245697021484,
          11.681037902832031,
          -39.542396545410156,
          -37.1113395690918,
          -32.08028030395508,
          -32.69750213623047,
          -28.433551788330078,
          -37.00843048095703,
          -33.868961334228516,
          -36.37100601196289,
          -37.254173278808594,
          -40.70399475097656,
          -37.66740036010742,
          -26.78108024597168,
          -26.648271560668945,
          -7.039041042327881,
          -29.45184898376465,
          -35.39593505859375,
          -28.797588348388672,
          -28.79593276977539,
          -36.93949508666992,
          -37.13648223876953,
          -37.418148040771484,
          -37.182403564453125,
          21.882339477539062,
          -9.30229663848877,
          -15.561758041381836,
          -43.026214599609375,
          -41.55393981933594,
          -42.08958435058594,
          -42.46146774291992,
          19.096757888793945,
          0.7906526923179626
         ],
         "yaxis": "y"
        },
        {
         "customdata": [
          [
           "PRA031G - Practice",
           "Teacher Education Unit"
          ],
          [
           "PRA031K - Practice",
           "Teacher Education Unit"
          ],
          [
           "PRA033G - Practice",
           "Teacher Education Unit"
          ],
          [
           "PRA033K - Practice",
           "Teacher Education Unit"
          ],
          [
           "PRA035 - Practice",
           "Teacher Education Unit"
          ],
          [
           "PRA041 - Practice ",
           "Teacher Education Unit"
          ],
          [
           "PRA044 - Practice",
           "Teacher Education Unit"
          ],
          [
           "PRA045 - Practice",
           "Teacher Education Unit"
          ],
          [
           "PRA046 - Practice",
           "Teacher Education Unit"
          ],
          [
           "PRA063 - Practice, first period",
           "Teacher Education Unit"
          ],
          [
           "PRA064 - Practice, second period",
           "Teacher Education Unit"
          ],
          [
           "PRA065 - Practice, third period",
           "Teacher Education Unit"
          ],
          [
           "PRA085 - Practice level 8-13",
           "Teacher Education Unit"
          ],
          [
           "PRA087 - Practice level 8-13",
           "Teacher Education Unit"
          ],
          [
           "PRA088 - Practice level 8-13",
           "Teacher Education Unit"
          ],
          [
           "PRA090 - Practice semester 1 and 2",
           "Teacher Education Unit"
          ],
          [
           "PRA091 - Practice semester 3",
           "Teacher Education Unit"
          ],
          [
           "PRA093 - Practice semester 5",
           "Teacher Education Unit"
          ],
          [
           "PRA1-101 - Teaching Practice, 1st year, Autumn",
           "Teacher Education Unit"
          ],
          [
           "PRA1-201 - Teaching Practice, 2nd year, Autumn",
           "Teacher Education Unit"
          ],
          [
           "PRA1-301 - Teaching Practice, 3rd year, Autumn",
           "Teacher Education Unit"
          ],
          [
           "PRA1-401 - Teaching Practice, 4th year, Autumn and Spring",
           "Teacher Education Unit"
          ],
          [
           "PRA2-101 - Teaching Practice, 1st year, Autumn",
           "Teacher Education Unit"
          ],
          [
           "PRA2-201 - Teaching Practice, 2nd year, Autumn",
           "Teacher Education Unit"
          ],
          [
           "PRA2-301 - Teaching Practice, 3rd year, Autumn",
           "Teacher Education Unit"
          ],
          [
           "PRA2-401 - Teaching Practice, 4th year, Autumn and Spring",
           "Teacher Education Unit"
          ],
          [
           "PRA3-101G - Practice 1st semester",
           "Teacher Education Unit"
          ],
          [
           "PRA3-101K - Practice 1st semester",
           "Teacher Education Unit"
          ]
         ],
         "hovertemplate": "<b>Course:</b> %{customdata[0]}<br><b>Faculty:</b> %{customdata[1]}<br><extra></extra>",
         "legendgroup": "Teacher Education Unit",
         "marker": {
          "color": "rgb(128,177,211)",
          "size": 8,
          "symbol": "circle"
         },
         "mode": "markers",
         "name": "Teacher Education Unit",
         "showlegend": true,
         "type": "scattergl",
         "x": [
          23.141334533691406,
          23.051511764526367,
          22.2017822265625,
          22.192365646362305,
          20.576265335083008,
          16.759937286376953,
          20.43263816833496,
          20.45766830444336,
          16.674619674682617,
          21.869548797607422,
          22.225341796875,
          22.543371200561523,
          21.347166061401367,
          21.356346130371094,
          22.017366409301758,
          22.90591049194336,
          22.576135635375977,
          21.769426345825195,
          19.95501708984375,
          18.232995986938477,
          17.995485305786133,
          18.77142906188965,
          19.913450241088867,
          18.206192016601562,
          17.992835998535156,
          18.73210906982422,
          24.153396606445312,
          24.1475830078125
         ],
         "xaxis": "x",
         "y": [
          -24.677669525146484,
          -24.626718521118164,
          -27.427522659301758,
          -27.44463348388672,
          -25.327735900878906,
          -17.71609115600586,
          -18.95244026184082,
          -18.93535614013672,
          -17.7131290435791,
          -20.236417770385742,
          -19.65355682373047,
          -19.891613006591797,
          -16.20755386352539,
          -16.203569412231445,
          -16.23567008972168,
          -23.85088539123535,
          -27.814231872558594,
          -24.09599494934082,
          -20.803796768188477,
          -19.475727081298828,
          -22.026124954223633,
          -17.39832305908203,
          -20.758970260620117,
          -19.454904556274414,
          -22.020092010498047,
          -17.391279220581055,
          -23.667787551879883,
          -23.632020950317383
         ],
         "yaxis": "y"
        },
        {
         "customdata": [
          [
           "BV-100 - Innføring i barnevern",
           "Social Sciences"
          ],
          [
           "BV-201 - Grunnlagstenkning og etikk i barnevernet",
           "Social Sciences"
          ],
          [
           "BV-300 - Barn, familier og barneverntjenesten ",
           "Social Sciences"
          ],
          [
           "BV-301 - Digitalisering, kommunikasjon og etikk",
           "Social Sciences"
          ],
          [
           "BV-305 - Barn, familier og barneverntjenesten",
           "Social Sciences"
          ],
          [
           "BV-400 - Beslutningsprosesser i kontekst",
           "Social Sciences"
          ],
          [
           "BV-500 - Veiledning og myndiggjøring",
           "Social Sciences"
          ],
          [
           "BV-501 - Masteroppgave",
           "Social Sciences"
          ],
          [
           "IS-108 - Hands-on e-Business for Entrepreneurs",
           "Social Sciences"
          ],
          [
           "IS-114 - Introduction to co-creation in Information Systems",
           "Social Sciences"
          ],
          [
           "IS-115 - Web programming in PHP",
           "Social Sciences"
          ],
          [
           "IS-116 - Digital platforms",
           "Social Sciences"
          ],
          [
           "IS-200 - Systems Analysis and Design",
           "Social Sciences"
          ],
          [
           "IS-201 - Data Modelling and Database Systems",
           "Social Sciences"
          ],
          [
           "IS-202 - Programming Project",
           "Social Sciences"
          ],
          [
           "IS-302 - Internship",
           "Social Sciences"
          ],
          [
           "IS-307 - Internship",
           "Social Sciences"
          ],
          [
           "IS-310 - Project Management in Practice",
           "Social Sciences"
          ],
          [
           "IS-311 - Internet of Things",
           "Social Sciences"
          ],
          [
           "IS-312 - Blockchain",
           "Social Sciences"
          ],
          [
           "IS-313 - The Internet of Things",
           "Social Sciences"
          ],
          [
           "IS-403 - Digital Transformation and Business Process Management",
           "Social Sciences"
          ],
          [
           "IS-404 - Research Methods in Information Systems",
           "Social Sciences"
          ],
          [
           "IS-406 - Digital Technologies and Enterprise Systems",
           "Social Sciences"
          ],
          [
           "IS-408 - Internship",
           "Social Sciences"
          ],
          [
           "IS-413 - Software Architecture",
           "Social Sciences"
          ],
          [
           "IS-418 - Working in Virtual Environments",
           "Social Sciences"
          ],
          [
           "IS-420 - Current Topics and Research Areas in Information Systems",
           "Social Sciences"
          ],
          [
           "IS-423 - Ethical and Legal Aspects of Information Security",
           "Social Sciences"
          ],
          [
           "IS-425 - Enterprise Systems and Security Architecture",
           "Social Sciences"
          ],
          [
           "IS-426 - Communication and Teamwork in Cyber Security",
           "Social Sciences"
          ],
          [
           "IS-500 - IT and Management",
           "Social Sciences"
          ],
          [
           "IS-501 - Master Thesis in Information Systems",
           "Social Sciences"
          ],
          [
           "IS-503 - Research Methods in Information Systems",
           "Social Sciences"
          ],
          [
           "IS-504 - Current Topics and Research Areas in Information System Security",
           "Social Sciences"
          ],
          [
           "IS-505 - Security Management in IS Development Projects",
           "Social Sciences"
          ],
          [
           "IS-506 - IS Security Projects",
           "Social Sciences"
          ],
          [
           "IS-909 - Digital Transformation and Management",
           "Social Sciences"
          ],
          [
           "IS-912 - Fremtidens profesjonsfaglig digital kompetanse for lærere del 1",
           "Social Sciences"
          ],
          [
           "IS-915 - Data Science som strategisk verktøy",
           "Social Sciences"
          ],
          [
           "IS-916 - Strategisk bruk av IKT",
           "Social Sciences"
          ],
          [
           "IS-918 - Digitalisering og ledelse - modulbasert videreutdanning for skoleledere",
           "Social Sciences"
          ],
          [
           "IS-921 - Digitalisation and Management",
           "Social Sciences"
          ],
          [
           "IS-922 - Cyber Security Management",
           "Social Sciences"
          ],
          [
           "IS-924 - Master Thesis in Digitalisation ",
           "Social Sciences"
          ],
          [
           "ME-100 - Research Methods in Social Science",
           "Social Sciences"
          ],
          [
           "ME-110 - Practical Social Research",
           "Social Sciences"
          ],
          [
           "ME-416 - Philosophy of Science and Qualitative Research Methods",
           "Social Sciences"
          ],
          [
           "ME-430 - Metode for den forskende lærer",
           "Social Sciences"
          ],
          [
           "ME-502 - Master's Thesis in Political Science and Management",
           "Social Sciences"
          ],
          [
           "ME-527 - Master thesis, sociology",
           "Social Sciences"
          ],
          [
           "ME-529 - Masteroppgave i sosialt arbeid",
           "Social Sciences"
          ],
          [
           "ME-530 - Masteroppgave i sosialt arbeid, 40sp",
           "Social Sciences"
          ],
          [
           "ORG100 - Organisation Theory and Analysis",
           "Social Sciences"
          ],
          [
           "ORG425 - Topics in organization theory",
           "Social Sciences"
          ],
          [
           "ORG447 - Governance and Networks in the Public Sector",
           "Social Sciences"
          ],
          [
           "ORG916 - Transformation and management in public sector",
           "Social Sciences"
          ],
          [
           "ORG917 - Master Thesis",
           "Social Sciences"
          ],
          [
           "ORG929 - Tools of Government",
           "Social Sciences"
          ],
          [
           "ORG934 - Network management",
           "Social Sciences"
          ],
          [
           "ORG936 - Change Management in Healthcare",
           "Social Sciences"
          ],
          [
           "ORG937 - Management and reforms in healthcare",
           "Social Sciences"
          ],
          [
           "ORG946 - Change in working life",
           "Social Sciences"
          ],
          [
           "ORG955 - Organization and management of knowledgebased organizations",
           "Social Sciences"
          ],
          [
           "ORG963 - Rektorutdanningen: Endring og ledelse i skolen",
           "Social Sciences"
          ],
          [
           "ORG964 - Rektorutdanningen: Styring og ledelse i skolen",
           "Social Sciences"
          ],
          [
           "ORG965 - Ledelse og endring i barnehagen",
           "Social Sciences"
          ],
          [
           "ORG966 - Styring og ledelse i barnehagen",
           "Social Sciences"
          ],
          [
           "ORG992 - Livet i og rundt ledelse",
           "Social Sciences"
          ],
          [
           "PS-101 - Psychology",
           "Social Sciences"
          ],
          [
           "SO-105 - Social work and social problems",
           "Social Sciences"
          ],
          [
           "SO-106 - Diversity and minority perspectives in social work",
           "Social Sciences"
          ],
          [
           "SO-108 - Mentoring, diversity and relations",
           "Social Sciences"
          ],
          [
           "SO-204 - Authority, Marginalisation and Inclusion",
           "Social Sciences"
          ],
          [
           "SO-300 - Social Work, Client-related Work Placement",
           "Social Sciences"
          ],
          [
           "SO-305 - Social Work: Field Education for International Students",
           "Social Sciences"
          ],
          [
           "SO-407 - Theory and Practice in Social Work",
           "Social Sciences"
          ],
          [
           "SO-600 - Professions and Professional relations",
           "Social Sciences"
          ],
          [
           "SRE200 - Place, sustainability and Everyday Life",
           "Social Sciences"
          ],
          [
           "ST-100 - Public Policy and Administration I",
           "Social Sciences"
          ],
          [
           "ST-108 - Introduction to Political Science",
           "Social Sciences"
          ],
          [
           "ST-200 - Public Policy and Administration II",
           "Social Sciences"
          ],
          [
           "ST-300 - History, institutions and policies of European integration",
           "Social Sciences"
          ],
          [
           "ST-301 - Current Issues in the European Union (summer semester)",
           "Social Sciences"
          ],
          [
           "ST-412 - Management Tools in Public Administration",
           "Social Sciences"
          ],
          [
           "ST-422 - Political scientists in practice",
           "Social Sciences"
          ],
          [
           "ST-423 - Research Design and Advanced Methods for the Social Sciences",
           "Social Sciences"
          ],
          [
           "ST-600 - Political Systems and Political Governance ",
           "Social Sciences"
          ],
          [
           "ST-601 - Composite Political Systems and Governance",
           "Social Sciences"
          ],
          [
           "ST-901 - Changing Cultural Institutions - between Local and Global Framework Conditions",
           "Social Sciences"
          ],
          [
           "ST-902 - Culture as Political Strategy in Regional Development",
           "Social Sciences"
          ],
          [
           "SV-127 - Mentoring in a Multicultural context",
           "Social Sciences"
          ],
          [
           "SV-133 - Introduction to Sociology",
           "Social Sciences"
          ],
          [
           "SV-143 - Social Institutions",
           "Social Sciences"
          ],
          [
           "SV-144 - Didactics in Social Science, part 1 (8-13)",
           "Social Sciences"
          ],
          [
           "SV-145 - Didactics in Social Science part 1",
           "Social Sciences"
          ],
          [
           "SV-147 - Intorduction to Politics, Social Theory and Methods",
           "Social Sciences"
          ],
          [
           "SV-148 - Sted, demokratiutvikling og historiebevissthet",
           "Social Sciences"
          ],
          [
           "SV-149 - Introduction to social sciences and didactics",
           "Social Sciences"
          ],
          [
           "SV-151 - Introduction to planning",
           "Social Sciences"
          ],
          [
           "SV-153 - Culture-geographical perspectives on planning and social change",
           "Social Sciences"
          ],
          [
           "SV-213 - Urban development and planning",
           "Social Sciences"
          ],
          [
           "SV-218 - Deviance, Crimininality and Punishment ",
           "Social Sciences"
          ],
          [
           "SV-405 - Planning, theory and practice",
           "Social Sciences"
          ],
          [
           "SV-407 - Communication and Crisis in the Digital Age",
           "Social Sciences"
          ],
          [
           "SV-416 - Practice",
           "Social Sciences"
          ],
          [
           "SV-417 - Sustainable development",
           "Social Sciences"
          ],
          [
           "SV-418 - Multicultural Societies",
           "Social Sciences"
          ],
          [
           "SV-420 - Samskaping - teori i praksis",
           "Social Sciences"
          ],
          [
           "SV-422 - Samfunnsvitenskapelige tenkemåter: Aktuelle perspektiv på samfunnsplanlegging",
           "Social Sciences"
          ],
          [
           "SV-428 - UiA Co-creation - OpenLab",
           "Social Sciences"
          ],
          [
           "SV-429 - Specialization assignment for one-subject students",
           "Social Sciences"
          ],
          [
           "SV-437 - Welfare and family policies in the Nordic countries ",
           "Social Sciences"
          ],
          [
           "SV-506 - Theory of science and methodology for teachers",
           "Social Sciences"
          ],
          [
           "SV-509 - Master Thesis in Planning, Place and Process",
           "Social Sciences"
          ],
          [
           "SV-510 - Master Thesis in Planning, Place and Process",
           "Social Sciences"
          ],
          [
           "SV-511 - Master Thesis in Social Science",
           "Social Sciences"
          ],
          [
           "SV-907 - Subject Approach to Early Education in Kindergarten",
           "Social Sciences"
          ],
          [
           "SV-911 - Knowledge Development in the Workplace - Thematic Network",
           "Social Sciences"
          ],
          [
           "SV-916 - Veiledningspedagogikk og egen rolle som veileder",
           "Social Sciences"
          ],
          [
           "SV-917 - Profesjonell veiledning for nyutdannede og nytilsatte i barneverntjenesten",
           "Social Sciences"
          ],
          [
           "SV-920 - Flerkulturell forståelse",
           "Social Sciences"
          ],
          [
           "SV-926 - Supported Employment",
           "Social Sciences"
          ],
          [
           "SV-927 - Innføring i kunnskapsutvikling på arbeidsplassen – temanettverk",
           "Social Sciences"
          ],
          [
           "SV-928 - Professional Skills for Guidance and Inclusion",
           "Social Sciences"
          ],
          [
           "UT-407 - Place, identity and diversity",
           "Social Sciences"
          ],
          [
           "UT-409 - Internship in Global Development and Planning",
           "Social Sciences"
          ],
          [
           "UT-505 - Master thesis in Global Development and Planning",
           "Social Sciences"
          ],
          [
           "UT-601 - Development, Planning and Communication ",
           "Social Sciences"
          ]
         ],
         "hovertemplate": "<b>Course:</b> %{customdata[0]}<br><b>Faculty:</b> %{customdata[1]}<br><extra></extra>",
         "legendgroup": "Social Sciences",
         "marker": {
          "color": "rgb(253,180,98)",
          "size": 8,
          "symbol": "circle"
         },
         "mode": "markers",
         "name": "Social Sciences",
         "showlegend": true,
         "type": "scattergl",
         "x": [
          26.970104217529297,
          27.67621421813965,
          26.4748592376709,
          25.098493576049805,
          25.93394660949707,
          26.213634490966797,
          26.358789443969727,
          -23.457059860229492,
          2.660054922103882,
          -23.343826293945312,
          -34.426124572753906,
          -21.249465942382812,
          -24.361148834228516,
          -24.092283248901367,
          -24.29218864440918,
          5.112391948699951,
          4.963282585144043,
          -23.465288162231445,
          -27.344989776611328,
          -26.298507690429688,
          -27.46288299560547,
          -22.54296875,
          -17.666099548339844,
          -22.709684371948242,
          4.411471843719482,
          -29.895339965820312,
          -21.884490966796875,
          -20.63538360595703,
          -28.308429718017578,
          -27.784223556518555,
          -27.32149314880371,
          -23.718284606933594,
          -23.418773651123047,
          -17.672687530517578,
          -20.86543083190918,
          -26.006650924682617,
          -25.418296813964844,
          -22.204336166381836,
          -25.1689395904541,
          -25.031600952148438,
          -23.28236961364746,
          -24.12325096130371,
          -23.359474182128906,
          -27.859066009521484,
          -22.447296142578125,
          -10.086623191833496,
          -9.578309059143066,
          -8.187928199768066,
          -11.92994213104248,
          -22.113866806030273,
          -21.71521759033203,
          -21.746315002441406,
          -21.772138595581055,
          12.228985786437988,
          12.223894119262695,
          11.226089477539062,
          13.069048881530762,
          -22.474573135375977,
          13.48939323425293,
          11.109627723693848,
          16.4940128326416,
          17.109704971313477,
          13.905635833740234,
          10.680346488952637,
          14.556378364562988,
          14.367339134216309,
          14.829379081726074,
          14.706279754638672,
          15.97428035736084,
          35.781776428222656,
          32.075225830078125,
          32.325782775878906,
          30.125001907348633,
          32.338802337646484,
          31.757631301879883,
          31.527305603027344,
          31.4133358001709,
          14.588006973266602,
          29.93276023864746,
          11.928672790527344,
          11.385612487792969,
          12.049638748168945,
          13.939506530761719,
          13.938546180725098,
          13.319767951965332,
          10.286311149597168,
          -13.732078552246094,
          13.967412948608398,
          14.067315101623535,
          19.59022331237793,
          19.463973999023438,
          30.084699630737305,
          33.82766342163086,
          33.73177719116211,
          10.323787689208984,
          10.353114128112793,
          10.7051420211792,
          9.941805839538574,
          10.911344528198242,
          18.463287353515625,
          19.016908645629883,
          17.947750091552734,
          34.22728729248047,
          17.969093322753906,
          -18.138444900512695,
          10.143794059753418,
          12.438542366027832,
          13.064827919006348,
          7.392295837402344,
          17.3614559173584,
          7.313257217407227,
          -12.625761985778809,
          34.64228820800781,
          -11.553403854370117,
          -23.467994689941406,
          -23.464752197265625,
          -22.861581802368164,
          27.916444778442383,
          33.30043029785156,
          26.818418502807617,
          27.12251091003418,
          13.99062442779541,
          21.458452224731445,
          33.264625549316406,
          21.470905303955078,
          20.344940185546875,
          8.619985580444336,
          -23.406444549560547,
          16.100589752197266
         ],
         "xaxis": "x",
         "y": [
          3.095545768737793,
          2.8004417419433594,
          4.1887712478637695,
          4.356739044189453,
          4.410950183868408,
          3.2076637744903564,
          1.5831708908081055,
          14.398438453674316,
          17.39206314086914,
          -2.2006642818450928,
          -13.369744300842285,
          -9.423053741455078,
          -3.8083670139312744,
          -4.541603088378906,
          -2.156952381134033,
          6.019726276397705,
          6.213934898376465,
          -0.8470556139945984,
          -6.577591896057129,
          -5.712298393249512,
          -6.692267894744873,
          -9.901651382446289,
          5.384922504425049,
          -8.723089218139648,
          5.858952522277832,
          -8.586155891418457,
          -1.9345272779464722,
          5.210212230682373,
          -2.1353156566619873,
          -2.878136396408081,
          -3.0910825729370117,
          -7.427891254425049,
          11.902527809143066,
          5.426845550537109,
          5.079198360443115,
          -1.6499656438827515,
          -1.2150012254714966,
          -11.243042945861816,
          -12.173333168029785,
          -9.227834701538086,
          -8.713403701782227,
          -11.822389602661133,
          -10.461176872253418,
          -3.8906266689300537,
          9.034719467163086,
          6.952245712280273,
          6.63813591003418,
          6.175849914550781,
          4.0480475425720215,
          12.339343070983887,
          13.492915153503418,
          14.49996280670166,
          14.637439727783203,
          19.865734100341797,
          18.900402069091797,
          14.66457462310791,
          14.933847427368164,
          10.37070369720459,
          12.46435546875,
          14.867057800292969,
          22.0740909576416,
          22.004314422607422,
          25.867835998535156,
          15.57702922821045,
          15.431967735290527,
          13.329428672790527,
          15.31307601928711,
          13.527263641357422,
          17.8670654296875,
          4.805749416351318,
          2.54524564743042,
          0.3511546552181244,
          -2.159691333770752,
          0.33311471343040466,
          2.8421177864074707,
          3.4139811992645264,
          2.147368907928467,
          -1.2335193157196045,
          -16.795475006103516,
          8.942081451416016,
          7.825854301452637,
          9.645047187805176,
          3.7890050411224365,
          3.8015072345733643,
          11.899127006530762,
          6.117112636566162,
          6.591035842895508,
          9.085410118103027,
          9.077031135559082,
          9.698063850402832,
          9.48603343963623,
          -2.1925406455993652,
          -4.426301956176758,
          -4.561025142669678,
          -14.57095718383789,
          -14.524227142333984,
          -12.097360610961914,
          -11.724404335021973,
          -12.342774391174316,
          6.146161079406738,
          7.491554260253906,
          7.690173149108887,
          -3.6414010524749756,
          6.23272705078125,
          -14.772128105163574,
          2.95222806930542,
          -10.883973121643066,
          -11.06793212890625,
          11.990288734436035,
          6.428952217102051,
          11.910562515258789,
          -7.195435523986816,
          -7.149961948394775,
          3.107384443283081,
          16.0664119720459,
          15.979848861694336,
          13.118291854858398,
          -15.544219017028809,
          8.517539024353027,
          0.0020868375431746244,
          0.75282222032547,
          -11.090743064880371,
          1.6363998651504517,
          8.570096015930176,
          1.5390783548355103,
          6.374937534332275,
          5.417806148529053,
          17.310199737548828,
          6.329465389251709
         ],
         "yaxis": "y"
        },
        {
         "customdata": [
          [
           "BIO104 - Human Physiology and Anatomy",
           "Engineering and Science"
          ],
          [
           "BIO111 - Cell Biology and Genetics",
           "Engineering and Science"
          ],
          [
           "BIO112 - Introduction to biology",
           "Engineering and Science"
          ],
          [
           "BIO115N - Cell Biology and Genetics",
           "Engineering and Science"
          ],
          [
           "BIO116N -  Vertebrates Physiology and Anatomy",
           "Engineering and Science"
          ],
          [
           "BIO117N - Introduction to biology",
           "Engineering and Science"
          ],
          [
           "BIO201 - Aquatic Ecology",
           "Engineering and Science"
          ],
          [
           "BIO206 - General Ecology",
           "Engineering and Science"
          ],
          [
           "BIO207 - Marine Conservation Biology",
           "Engineering and Science"
          ],
          [
           "BIO406 - Scientific Writing",
           "Engineering and Science"
          ],
          [
           "BIO501 - Master Thesis",
           "Engineering and Science"
          ],
          [
           "BIO600 - Special Syllabus",
           "Engineering and Science"
          ],
          [
           "BIO601 - Marine science",
           "Engineering and Science"
          ],
          [
           "BIO602 - Research in Coastal Ecology",
           "Engineering and Science"
          ],
          [
           "BIO603 - Statistics in Ecological Studies",
           "Engineering and Science"
          ],
          [
           "BIO605 - Advanced topics in Ecology and Evolution ",
           "Engineering and Science"
          ],
          [
           "BYG126 - Construction management and technology",
           "Engineering and Science"
          ],
          [
           "BYG127 - Technical Design",
           "Engineering and Science"
          ],
          [
           "BYG129 - Extra Curriculum",
           "Engineering and Science"
          ],
          [
           "BYG225 - Project Management with Lean construction",
           "Engineering and Science"
          ],
          [
           "BYG226 - Water and Wastewater Engineering",
           "Engineering and Science"
          ],
          [
           "BYG227 - Building Design",
           "Engineering and Science"
          ],
          [
           "BYG228 - Structural Mechanics ll",
           "Engineering and Science"
          ],
          [
           "BYG229 - Applied Building Physics",
           "Engineering and Science"
          ],
          [
           "BYG300 - Bachelor Thesis, Civil Engineering",
           "Engineering and Science"
          ],
          [
           "BYG308 - Structural Design l - Concrete",
           "Engineering and Science"
          ],
          [
           "BYG309 - Structural Design ll - Steel",
           "Engineering and Science"
          ],
          [
           "BYG310 - Structural design lll - Wood ",
           "Engineering and Science"
          ],
          [
           "BYG311 - Concrete Rehabilitation",
           "Engineering and Science"
          ],
          [
           "BYG312 - Areal Planning",
           "Engineering and Science"
          ],
          [
           "BYG313 - Pavement Technology",
           "Engineering and Science"
          ],
          [
           "BYG314 - Bachelor Student in Research",
           "Engineering and Science"
          ],
          [
           "BYG404 - Life-cycle assessment and optimization of constructions",
           "Engineering and Science"
          ],
          [
           "BYG405 - High Performance Materials",
           "Engineering and Science"
          ],
          [
           "BYG504 - Geotechnical Engineering II",
           "Engineering and Science"
          ],
          [
           "BYG508 - Master's Thesis",
           "Engineering and Science"
          ],
          [
           "BYG511 - Advanced Pavement Materials",
           "Engineering and Science"
          ],
          [
           "BYG512 - Area Planning II",
           "Engineering and Science"
          ],
          [
           "BYG513 - Structural Design V – Fatigue and Structural Dynamics",
           "Engineering and Science"
          ],
          [
           "BYG514 - Structural Design VI – Timber",
           "Engineering and Science"
          ],
          [
           "BYG515 - Specialization Project",
           "Engineering and Science"
          ],
          [
           "BYG516 - Specialization Project",
           "Engineering and Science"
          ],
          [
           "BYG517 - Master's Thesis",
           "Engineering and Science"
          ],
          [
           "BYG518 - Master Student in Research",
           "Engineering and Science"
          ],
          [
           "BYG601 - Civil and structural engineering management",
           "Engineering and Science"
          ],
          [
           "BYG702 - Materials in civil engineering ",
           "Engineering and Science"
          ],
          [
           "DAT100 - Computer Science",
           "Engineering and Science"
          ],
          [
           "DAT101 - Introduction to Programming",
           "Engineering and Science"
          ],
          [
           "DAT104 - Multimedia Design",
           "Engineering and Science"
          ],
          [
           "DAT110 - Web Publishing",
           "Engineering and Science"
          ],
          [
           "DAT200 - Computer Graphics",
           "Engineering and Science"
          ],
          [
           "DAT215 - ICT project",
           "Engineering and Science"
          ],
          [
           "DAT227 - Photography",
           "Engineering and Science"
          ],
          [
           "DAT228 - Sound",
           "Engineering and Science"
          ],
          [
           "DAT229 - Video",
           "Engineering and Science"
          ],
          [
           "DAT230 - Authoring Software",
           "Engineering and Science"
          ],
          [
           "ELE113 - Circuit Analysis",
           "Engineering and Science"
          ],
          [
           "ELE216 - Analog Electronics",
           "Engineering and Science"
          ],
          [
           "ELE220 - Microcontrollers and control systems",
           "Engineering and Science"
          ],
          [
           "ELE302 - Access in Wireless Networks",
           "Engineering and Science"
          ],
          [
           "ELE303 - Power Electronics",
           "Engineering and Science"
          ],
          [
           "ELE304 - Advanced embedded systems",
           "Engineering and Science"
          ],
          [
           "ENE109 - Energy lab",
           "Engineering and Science"
          ],
          [
           "ENE112 - Renewable energy and energy lab for Y-vei",
           "Engineering and Science"
          ],
          [
           "ENE231 - Low Voltage and High Voltage Technology",
           "Engineering and Science"
          ],
          [
           "ENE234 - Heating Systems and Energy Effective buildings",
           "Engineering and Science"
          ],
          [
           "ENE235 - Electromagnetism ",
           "Engineering and Science"
          ],
          [
           "ENE236 - Electrical machines",
           "Engineering and Science"
          ],
          [
           "ENE239 - Bioenergy ",
           "Engineering and Science"
          ],
          [
           "ENE240 - Hydro power",
           "Engineering and Science"
          ],
          [
           "ENE241 - Solar energy systems ",
           "Engineering and Science"
          ],
          [
           "ENE242 - Hydrogen, Electrolysis and Fuel Cells",
           "Engineering and Science"
          ],
          [
           "ENE243 - Wind power ",
           "Engineering and Science"
          ],
          [
           "ENE245 - Insights into the battery industry",
           "Engineering and Science"
          ],
          [
           "ENE246 - Batteries",
           "Engineering and Science"
          ],
          [
           "ENE304 - Bachelor Thesis, Renewable Energy",
           "Engineering and Science"
          ],
          [
           "ENE423 - Battery systems",
           "Engineering and Science"
          ],
          [
           "ENE601 - Energy Conversion",
           "Engineering and Science"
          ],
          [
           "ENE602 - Energy Meteorology",
           "Engineering and Science"
          ],
          [
           "ENE603 - Techniques for Characterizing Materials for Energy Systems",
           "Engineering and Science"
          ],
          [
           "ENE604 - Advanced Photovoltaic",
           "Engineering and Science"
          ],
          [
           "ENE605 - Electromagnetic Modelling",
           "Engineering and Science"
          ],
          [
           "ENE606 - Biomass and Bioenergy",
           "Engineering and Science"
          ],
          [
           "ENE607 - Special Syllabus",
           "Engineering and Science"
          ],
          [
           "ENE608 - Advanced Photovoltaic",
           "Engineering and Science"
          ],
          [
           "ENE701 - Applied Statistics Course for Engineering",
           "Engineering and Science"
          ],
          [
           "ENE702 - Rural Electrification",
           "Engineering and Science"
          ],
          [
           "ENE703 - Fuel Cell Design",
           "Engineering and Science"
          ],
          [
           "ENE704 - Wind Turbine Systems",
           "Engineering and Science"
          ],
          [
           "ENE705 - Selected Topics in Engineering",
           "Engineering and Science"
          ],
          [
           "EN-004 - English 0",
           "Engineering and Science"
          ],
          [
           "EX-109 - Philosophy for Students of Media and Technology",
           "Engineering and Science"
          ],
          [
           "EX-602 - Philosophy of Science",
           "Engineering and Science"
          ],
          [
           "EX-603 - Theory of Science and Ethics",
           "Engineering and Science"
          ],
          [
           "FYS009 - Physics in Science and Technology",
           "Engineering and Science"
          ],
          [
           "FYS010 - Physics 0",
           "Engineering and Science"
          ],
          [
           "FYS129 - Fysikk for IKT",
           "Engineering and Science"
          ],
          [
           "FYS131 - Mekanikk",
           "Engineering and Science"
          ],
          [
           "FYS133 - Numerical and experimental methods in physics",
           "Engineering and Science"
          ],
          [
           "FYS134 - Optics, thermodynamics and electrisity",
           "Engineering and Science"
          ],
          [
           "FYS137 - Introduction to Physics",
           "Engineering and Science"
          ],
          [
           "IDR959 - Sports, Ethics and Psychology",
           "Engineering and Science"
          ],
          [
           "IKT100 - Network, Privacy and Security",
           "Engineering and Science"
          ],
          [
           "IKT101 - Fundamental Software Development",
           "Engineering and Science"
          ],
          [
           "IKT102 - Operating Systems",
           "Engineering and Science"
          ],
          [
           "IKT115 - Introduction to Artificial Intelligence Technology",
           "Engineering and Science"
          ],
          [
           "IKT201 - Internet services",
           "Engineering and Science"
          ],
          [
           "IKT202 - Software Engineering",
           "Engineering and Science"
          ],
          [
           "IKT203 - Algorithms and Data Structures ",
           "Engineering and Science"
          ],
          [
           "IKT210 - Cloud Infrastructure",
           "Engineering and Science"
          ],
          [
           "IKT211 - Penetration Testing",
           "Engineering and Science"
          ],
          [
           "IKT212 - Concepts of Programming Languages",
           "Engineering and Science"
          ],
          [
           "IKT213 - Machine Vision",
           "Engineering and Science"
          ],
          [
           "IKT214 - Security and IoT",
           "Engineering and Science"
          ],
          [
           "IKT217 - Risk Management for Cybersecurity",
           "Engineering and Science"
          ],
          [
           "IKT222 - Software security",
           "Engineering and Science"
          ],
          [
           "IKT300 - Software Architecture",
           "Engineering and Science"
          ],
          [
           "IKT301 - Applied Algorithms",
           "Engineering and Science"
          ],
          [
           "IKT447 - Trust, Threats, Risk and Vulnerability",
           "Engineering and Science"
          ],
          [
           "IKT448 - IKT-forskningsmetoder",
           "Engineering and Science"
          ],
          [
           "IKT518 - Security Protocols",
           "Engineering and Science"
          ],
          [
           "IKT521 - Cryptography",
           "Engineering and Science"
          ],
          [
           "IKT522 - Software Security and Ethical Hacking",
           "Engineering and Science"
          ],
          [
           "IKT523 - Master's Thesis, Cyber Security",
           "Engineering and Science"
          ],
          [
           "IKT525 - Master's Thesis, Cyber Security",
           "Engineering and Science"
          ],
          [
           "IKT617 - Formal Descriptions and Related Tools",
           "Engineering and Science"
          ],
          [
           "IKT622 - Introduction to Mobile Fading Channels",
           "Engineering and Science"
          ],
          [
           "IKT624 - ISO/IEC 27000 Family of Security Standards",
           "Engineering and Science"
          ],
          [
           "IKT626 - Main Results and Research Topics in Security",
           "Engineering and Science"
          ],
          [
           "IKT700 - Advanced Mobile Network and Service Architectures",
           "Engineering and Science"
          ],
          [
           "IKT701 - Dynamics of Computer Security Incident Response Teams",
           "Engineering and Science"
          ],
          [
           "IKT702 - Selected Topics in Security for ICT",
           "Engineering and Science"
          ],
          [
           "IKT709 - Advanced Protocols for Mobile Communications",
           "Engineering and Science"
          ],
          [
           "IKT710 - Learning in Random Environments",
           "Engineering and Science"
          ],
          [
           "IKT715 - Advanced Topics on Selected Areas in ICT",
           "Engineering and Science"
          ],
          [
           "IKT718 - Trial lecture",
           "Engineering and Science"
          ],
          [
           "IKT719 - Advanced Optimization",
           "Engineering and Science"
          ],
          [
           "IKT720 - Optimization",
           "Engineering and Science"
          ],
          [
           "IKT726 - Application of Advanced Theory on Selected Topics in ICT",
           "Engineering and Science"
          ],
          [
           "IKT727 - Advanced Theory on Selected Topics in ICT",
           "Engineering and Science"
          ],
          [
           "IKT900 - Introduction to Software Engineering",
           "Engineering and Science"
          ],
          [
           "IKT901 - Introduction to Machine Learning",
           "Engineering and Science"
          ],
          [
           "IND422 - Risk and Opportunity Management",
           "Engineering and Science"
          ],
          [
           "INF120 - Programming with applications in mathematics",
           "Engineering and Science"
          ],
          [
           "ING100 - Programming and ICT Security",
           "Engineering and Science"
          ],
          [
           "ING101 - Technology, Environment and Sustainability",
           "Engineering and Science"
          ],
          [
           "ING400 - Negotiation and agreement processes in engineering projects",
           "Engineering and Science"
          ],
          [
           "KJ-111 - General Chemistry",
           "Engineering and Science"
          ],
          [
           "KJ-115 - Chemistry - The basis for chemical  analysis",
           "Engineering and Science"
          ],
          [
           "KJ-300 - Bachelor´s Thesis in Chemistry",
           "Engineering and Science"
          ],
          [
           "MAS132 - 3D Design",
           "Engineering and Science"
          ],
          [
           "MAS134 - Electrical Circuits and Digital Control",
           "Engineering and Science"
          ],
          [
           "MAS135 - Materials Science",
           "Engineering and Science"
          ],
          [
           "MAS236 - Machine Elements and FEM1",
           "Engineering and Science"
          ],
          [
           "MAS237 - Actuations Systems 1 ",
           "Engineering and Science"
          ],
          [
           "MAS238 - Mechatronic Project 1",
           "Engineering and Science"
          ],
          [
           "MAS239 - Feedback Control Systems 1",
           "Engineering and Science"
          ],
          [
           "MAS242 - Product Development",
           "Engineering and Science"
          ],
          [
           "MAS245 - Embedded systems for mechatronics",
           "Engineering and Science"
          ],
          [
           "MAS246 - Motion control",
           "Engineering and Science"
          ],
          [
           "MAS247 - Industrial IT",
           "Engineering and Science"
          ],
          [
           "MAS248 - Robotics",
           "Engineering and Science"
          ],
          [
           "MAS308 - Machine Elements and FEM 2",
           "Engineering and Science"
          ],
          [
           "MAS410 - Hydraulic Components and Systems",
           "Engineering and Science"
          ],
          [
           "MAS412 - Machine Elements and Hydraulics",
           "Engineering and Science"
          ],
          [
           "MAS416 - Modelling and Simulation of Mechatronic Systems",
           "Engineering and Science"
          ],
          [
           "MAS417 - Programming and Software Development",
           "Engineering and Science"
          ],
          [
           "MAS419 - Modelling and Simulation of Mechatronic Systems",
           "Engineering and Science"
          ],
          [
           "MAS500 - Master's Thesis in Mechatronics",
           "Engineering and Science"
          ],
          [
           "MAS512 - Computer Vision and Embedded AI",
           "Engineering and Science"
          ],
          [
           "MAS513 - Advanced Robotics",
           "Engineering and Science"
          ],
          [
           "MAS514 - Robotics and Instrumentation",
           "Engineering and Science"
          ],
          [
           "MAS515 - Mechanical Systems 3",
           "Engineering and Science"
          ],
          [
           "MAS516 - Project – Design of industrial mechatronic systems",
           "Engineering and Science"
          ],
          [
           "MAS517 - Master's Thesis in Mechatronics",
           "Engineering and Science"
          ],
          [
           "MAS601 - Design, Modelling and Simulation of Mechatronic Systems",
           "Engineering and Science"
          ],
          [
           "MAS602 - Advanced Control and Robotics",
           "Engineering and Science"
          ],
          [
           "MAS702 - Electromagnetic Modelling",
           "Engineering and Science"
          ],
          [
           "MAS703 - Analysis of Dynamic Mechanical Systems",
           "Engineering and Science"
          ],
          [
           "MAS902 - Introduction to Robotics",
           "Engineering and Science"
          ],
          [
           "MAS903 - Machine Vision",
           "Engineering and Science"
          ],
          [
           "MA-006 - Pre-Course in Mathematics 1",
           "Engineering and Science"
          ],
          [
           "MA-006N - Pre-Course in Mathematics 1",
           "Engineering and Science"
          ],
          [
           "MA-007 - Pre-Course in Mathematics 2",
           "Engineering and Science"
          ],
          [
           "MA-017 - Mathematics 0",
           "Engineering and Science"
          ],
          [
           "MA-018 - Mathematics 0",
           "Engineering and Science"
          ],
          [
           "MA-167 - Practical Mathematical Didactics part 1",
           "Engineering and Science"
          ],
          [
           "MA-175 - Practical Mathematical Didactics part 1",
           "Engineering and Science"
          ],
          [
           "MA-178 - Mathematics 1",
           "Engineering and Science"
          ],
          [
           "MA-181 - Innføringsemne 1 i matematikk",
           "Engineering and Science"
          ],
          [
           "MA-183 - Calculus 1",
           "Engineering and Science"
          ],
          [
           "MA-187 - Core Elements of Mathematics 1 ",
           "Engineering and Science"
          ],
          [
           "MA-190 - Introductory course in mathematics for primary school",
           "Engineering and Science"
          ],
          [
           "MA-219 - Geometry, functions and didactics in teacher education",
           "Engineering and Science"
          ],
          [
           "MA-220 - Number theory, algebra, geometry and statistics in primary school",
           "Engineering and Science"
          ],
          [
           "MA-222 - Mathematics 3",
           "Engineering and Science"
          ],
          [
           "MA-223 - Statistics",
           "Engineering and Science"
          ],
          [
           "MA-224 - Discrete mathematics 2",
           "Engineering and Science"
          ],
          [
           "MA-225 - Statistical machine learning",
           "Engineering and Science"
          ],
          [
           "MA-226 - Differential Equations",
           "Engineering and Science"
          ],
          [
           "MA-307 - Mathematics 4",
           "Engineering and Science"
          ],
          [
           "MA-308 - Numeriske metoder",
           "Engineering and Science"
          ],
          [
           "MA-309 - Integration and probability",
           "Engineering and Science"
          ],
          [
           "MA-310 - Nonlinear Differential Equations and Dynamic Systems ",
           "Engineering and Science"
          ],
          [
           "MA-312 - Stochastic Processes ",
           "Engineering and Science"
          ],
          [
           "MA-313 - Fourier Analysis",
           "Engineering and Science"
          ],
          [
           "MA-438 - Mathematics Education in Early School Years",
           "Engineering and Science"
          ],
          [
           "MA-439 - Mathematics Education in Early School Years",
           "Engineering and Science"
          ],
          [
           "MA-440 - Problem Based Mathematics Education",
           "Engineering and Science"
          ],
          [
           "MA-441 - Statistics for Primary School Teachers",
           "Engineering and Science"
          ],
          [
           "MA-443 - Algebra and Number Theory ",
           "Engineering and Science"
          ],
          [
           "MA-444 - Didactics of algebra and number theory",
           "Engineering and Science"
          ],
          [
           "MA-445 - Statistics for Secondary School Teachers",
           "Engineering and Science"
          ],
          [
           "MA-448 - Specialization assignment for one-subject students – mathematics",
           "Engineering and Science"
          ],
          [
           "MA-449 - Topology and Measure Theory ",
           "Engineering and Science"
          ],
          [
           "MA-453 - Teaching high school mathematics",
           "Engineering and Science"
          ],
          [
           "MA-454 - Teaching with digital tools in school mathematics",
           "Engineering and Science"
          ],
          [
           "MA-455 -  Research Method",
           "Engineering and Science"
          ],
          [
           "MA-456 - Theoretical perspectives on Teaching of Mathematics",
           "Engineering and Science"
          ],
          [
           "MA-457 - Basic Algebra",
           "Engineering and Science"
          ],
          [
           "MA-500 - Master Thesis",
           "Engineering and Science"
          ],
          [
           "MA-502 - Master Thesis",
           "Engineering and Science"
          ],
          [
           "MA-503 - Master's Thesis in Mathematics",
           "Engineering and Science"
          ],
          [
           "MA-505 - Vitenskapsteori og metode for den forskende lærer, Matematikk",
           "Engineering and Science"
          ],
          [
           "MA-506 - Master Thesis in Mathematics Education",
           "Engineering and Science"
          ],
          [
           "MA-602 - Theories in the Learning and Teaching of Mathematics",
           "Engineering and Science"
          ],
          [
           "MA-621 - Complex Variable Theory",
           "Engineering and Science"
          ],
          [
           "MA-622 - Partial Differential Equations",
           "Engineering and Science"
          ],
          [
           "MA-623 - Stochastic Systems",
           "Engineering and Science"
          ],
          [
           "MA-624 - Differential Equations and Dynamical Systems",
           "Engineering and Science"
          ],
          [
           "MA-920 - Geometry, Statistics, Probability and Didactics",
           "Engineering and Science"
          ],
          [
           "MA-922 - Algebra, Number theory and Geometry I",
           "Engineering and Science"
          ],
          [
           "MA-924 - Algebra, Number theory and Geometry II",
           "Engineering and Science"
          ],
          [
           "MA-926 - Numbers, Algebra and Functions",
           "Engineering and Science"
          ],
          [
           "MA-930 - Utvalgte profesjonsrelevante metoder og perspektiver på læring",
           "Engineering and Science"
          ],
          [
           "MA-931 - Algebra i skolen",
           "Engineering and Science"
          ],
          [
           "MA-932 - Matematikkundervisning med digitalt preg ",
           "Engineering and Science"
          ],
          [
           "MA-933 - Funksjoner og ulike undervisningsmetoder i matematikk",
           "Engineering and Science"
          ],
          [
           "MA-934 - Master's Thesis",
           "Engineering and Science"
          ],
          [
           "MA-935 - Primary Education in Mathematics",
           "Engineering and Science"
          ],
          [
           "MA-936 - Teaching and assessment in mathematics in light of the core elements",
           "Engineering and Science"
          ],
          [
           "MA-937 - Teaching with digital tools in school mathematics",
           "Engineering and Science"
          ],
          [
           "ML-113 - Introduction to biomedical laboratory science",
           "Engineering and Science"
          ],
          [
           "ML-114 - Physiology, anatomy, histology",
           "Engineering and Science"
          ],
          [
           "ML-208 - Molecular Biology",
           "Engineering and Science"
          ],
          [
           "ML-211 - Biomedical laboratory science and the society",
           "Engineering and Science"
          ],
          [
           "ML-306 - Pathology",
           "Engineering and Science"
          ],
          [
           "ML-317 - Molecular Diagnostics and Bioinformatics",
           "Engineering and Science"
          ],
          [
           "ML-318 - Medical microbiology 2",
           "Engineering and Science"
          ],
          [
           "ML-320 - Practical Training in Biomedical Laboratory Sciences 1 – Medical biochemistry",
           "Engineering and Science"
          ],
          [
           "ML-321 - Practical Training in Biomedical Laboratory Sciences 2 – Medical laboratories",
           "Engineering and Science"
          ],
          [
           "MM-108 - Sound",
           "Engineering and Science"
          ],
          [
           "MM-206 - Application Development 1",
           "Engineering and Science"
          ],
          [
           "MM-900 - Video and Graphic design",
           "Engineering and Science"
          ],
          [
           "MM-901 - Web and Computer Awareness",
           "Engineering and Science"
          ],
          [
           "MM-903 - Pedagogical use of digital tools",
           "Engineering and Science"
          ],
          [
           "MM-905 - Game History",
           "Engineering and Science"
          ],
          [
           "MM-906 - Video and Audio",
           "Engineering and Science"
          ],
          [
           "MM-907 - E-sports 1 - Practice",
           "Engineering and Science"
          ],
          [
           "MM-909 - E-sports in Education and Society",
           "Engineering and Science"
          ],
          [
           "MM-912 - Programming for teachers 2",
           "Engineering and Science"
          ],
          [
           "MM-913 - Basic programming 1",
           "Engineering and Science"
          ],
          [
           "MM-915 - Games and education - practical and theoretical",
           "Engineering and Science"
          ],
          [
           "MM-917 - Digital practices in kindergarten",
           "Engineering and Science"
          ],
          [
           "MM-918 - Introduction to e-sport",
           "Engineering and Science"
          ],
          [
           "MM-919 - Introduction to Artifical Intelligence for teachers",
           "Engineering and Science"
          ],
          [
           "MM-920 - Programming for teachers",
           "Engineering and Science"
          ],
          [
           "NAT111 - Natural Science Education, part 1",
           "Engineering and Science"
          ],
          [
           "NAT116 - Natural Science 1C",
           "Engineering and Science"
          ],
          [
           "NAT117 - Natural Science Education, part 1",
           "Engineering and Science"
          ],
          [
           "NAT119 - The History and Nature of Science ",
           "Engineering and Science"
          ],
          [
           "NAT406 - Specialization assignment for one-subject students – Natural Science",
           "Engineering and Science"
          ],
          [
           "NAT902 - Natural Science for Teachers for years 5-10",
           "Engineering and Science"
          ],
          [
           "NO-007 - Norwegian",
           "Engineering and Science"
          ],
          [
           "NO-010 - Norwegian 0",
           "Engineering and Science"
          ],
          [
           "ORG001 - Health, Safety and Environment",
           "Engineering and Science"
          ],
          [
           "ORG9005 - HMS og arbeidsmiljøutvikling",
           "Engineering and Science"
          ],
          [
           "PRA204 - Internship for bachelor student's in engineering and science",
           "Engineering and Science"
          ],
          [
           "PRA205 - Internship for bachelor student's in engineering and science",
           "Engineering and Science"
          ],
          [
           "PRA400 - Internship for master’s students in engineering and science",
           "Engineering and Science"
          ],
          [
           "PRA401 - Internship for master's students in Engineering and Science",
           "Engineering and Science"
          ],
          [
           "PRA910 - Kjøretøy Praktisk opplæring (TKS500)",
           "Engineering and Science"
          ],
          [
           "PRA918 - Tilsyn kjøretøy, praktisk opplæring (TKS350)",
           "Engineering and Science"
          ],
          [
           "PS-102 - Psychologi",
           "Engineering and Science"
          ],
          [
           "PS-900 - Psychology and Ethics",
           "Engineering and Science"
          ],
          [
           "STM100D - Language, text and mathematics",
           "Engineering and Science"
          ],
          [
           "STM100G - Language, text and mathematics",
           "Engineering and Science"
          ],
          [
           "STM100K - Language, text and mathematics",
           "Engineering and Science"
          ],
          [
           "STM102G - Language, text and mathematics",
           "Engineering and Science"
          ],
          [
           "STM102K - Language, text and mathematics",
           "Engineering and Science"
          ],
          [
           "TFL011 - Technology and Society",
           "Engineering and Science"
          ],
          [
           "TFL300 - Research and Development Project",
           "Engineering and Science"
          ],
          [
           "TFL600 - Scientific Project Creation & Management",
           "Engineering and Science"
          ],
          [
           "TFL919 - Utekontroll - Grunnutdanning (TKS400)",
           "Engineering and Science"
          ],
          [
           "TFL930 - Kjøretøy - Grunnutdanning (TKS500)",
           "Engineering and Science"
          ],
          [
           "TFL936 - Tilsyn kjøretøy (TKS350)",
           "Engineering and Science"
          ]
         ],
         "hovertemplate": "<b>Course:</b> %{customdata[0]}<br><b>Faculty:</b> %{customdata[1]}<br><extra></extra>",
         "legendgroup": "Engineering and Science",
         "marker": {
          "color": "rgb(179,222,105)",
          "size": 8,
          "symbol": "circle"
         },
         "mode": "markers",
         "name": "Engineering and Science",
         "showlegend": true,
         "type": "scattergl",
         "x": [
          49.79757308959961,
          50.27229690551758,
          -1.9758641719818115,
          50.26389694213867,
          48.8527717590332,
          -1.9592524766921997,
          -11.455997467041016,
          -2.1723976135253906,
          -11.765413284301758,
          -2.7060775756835938,
          -26.60966682434082,
          -16.170761108398438,
          -14.698850631713867,
          -13.37923812866211,
          -11.340190887451172,
          -15.906439781188965,
          -32.03115463256836,
          -31.310274124145508,
          -30.606334686279297,
          -29.456405639648438,
          -29.96856689453125,
          -31.114919662475586,
          -36.30990982055664,
          -31.085437774658203,
          -24.961210250854492,
          -34.76648712158203,
          -35.32499694824219,
          -34.735172271728516,
          -33.7230339050293,
          -9.411413192749023,
          -33.7977409362793,
          -23.786678314208984,
          -29.216094970703125,
          -35.97663497924805,
          -35.19208908081055,
          -26.60487937927246,
          -34.21723937988281,
          -9.389388084411621,
          -36.435569763183594,
          -34.77499771118164,
          -27.696853637695312,
          -27.699443817138672,
          -26.606273651123047,
          -23.789527893066406,
          -28.171661376953125,
          -35.47518539428711,
          -33.030548095703125,
          -35.069610595703125,
          -34.10316467285156,
          -33.825401306152344,
          -35.104740142822266,
          -25.32622718811035,
          -34.85403823852539,
          -34.57345962524414,
          -33.85111999511719,
          -34.611328125,
          -47.892478942871094,
          -48.59898376464844,
          -44.413726806640625,
          -36.486507415771484,
          -48.2786750793457,
          -44.46654510498047,
          -19.691991806030273,
          -19.74960708618164,
          -47.26716995239258,
          -23.91595458984375,
          -46.45969009399414,
          -46.17595672607422,
          -23.56300163269043,
          -25.4241943359375,
          -24.134328842163086,
          -22.89223861694336,
          -24.691200256347656,
          -24.429054260253906,
          -24.44159698486328,
          -22.561800003051758,
          -24.729028701782227,
          -21.888402938842773,
          -21.631589889526367,
          -20.2529354095459,
          -18.953264236450195,
          -44.3319091796875,
          -21.93854331970215,
          -17.073627471923828,
          -18.929412841796875,
          -11.648639678955078,
          -21.94821548461914,
          -21.524761199951172,
          -23.960325241088867,
          -17.683868408203125,
          -0.805844783782959,
          -4.383716106414795,
          -1.7587780952453613,
          -2.1530632972717285,
          -44.79332733154297,
          -44.791202545166016,
          -45.10085678100586,
          -44.98676681518555,
          -45.23945999145508,
          -42.49531936645508,
          -42.67416763305664,
          34.19724655151367,
          -31.414222717285156,
          -34.38496780395508,
          -33.216461181640625,
          -28.610919952392578,
          -32.00389099121094,
          -31.532793045043945,
          -36.45303726196289,
          -30.285219192504883,
          -33.961456298828125,
          -34.981849670410156,
          -40.64521408081055,
          -31.258420944213867,
          -29.495121002197266,
          -33.07106018066406,
          -30.8124942779541,
          -36.73508071899414,
          -30.111339569091797,
          -22.121889114379883,
          -32.90193176269531,
          -31.941083908081055,
          -33.69095230102539,
          -24.388599395751953,
          -24.386119842529297,
          -35.98786544799805,
          -36.0999870300293,
          -29.517078399658203,
          -32.53583526611328,
          -34.433441162109375,
          -30.062408447265625,
          -32.83613967895508,
          -35.0274543762207,
          -38.97374725341797,
          -31.24039649963379,
          -36.514129638671875,
          -36.47399139404297,
          -36.34389114379883,
          -30.809284210205078,
          -30.87677574157715,
          -31.524503707885742,
          -40.1930046081543,
          -4.719741344451904,
          -36.21755599975586,
          -32.45387268066406,
          -5.8145575523376465,
          -6.585455417633057,
          54.21221160888672,
          54.3057861328125,
          -24.314485549926758,
          -38.93156051635742,
          -47.650474548339844,
          -40.626556396484375,
          -40.699981689453125,
          -44.02231979370117,
          -42.2823371887207,
          -43.09210205078125,
          -35.764427185058594,
          -43.08030700683594,
          -42.86722946166992,
          -41.664794921875,
          -40.13343048095703,
          -40.9764518737793,
          -43.512508392333984,
          -40.15955352783203,
          -41.812076568603516,
          -35.82857894897461,
          -41.85562515258789,
          -33.21440124511719,
          -40.39421463012695,
          -38.04831314086914,
          -39.064945220947266,
          -40.48469161987305,
          -37.58055877685547,
          -33.27712631225586,
          -41.16816711425781,
          -39.31821823120117,
          -44.28245162963867,
          -39.78424072265625,
          -40.03340530395508,
          -40.66399002075195,
          -51.64723205566406,
          -51.66644287109375,
          -49.26862335205078,
          -48.8925666809082,
          -48.90012741088867,
          -46.4839973449707,
          -46.49890899658203,
          -50.89278793334961,
          -48.10984420776367,
          -51.252586364746094,
          -49.24641418457031,
          -47.27131271362305,
          -44.96489715576172,
          -45.74711990356445,
          -51.253658294677734,
          -12.744001388549805,
          -46.26756286621094,
          -40.562137603759766,
          -48.96330261230469,
          -50.3983268737793,
          -48.70314407348633,
          -45.435855865478516,
          -48.68205642700195,
          -45.21348571777344,
          -51.85340118408203,
          -49.01357650756836,
          -49.047760009765625,
          -44.827789306640625,
          -12.951488494873047,
          -46.888893127441406,
          -47.19545364379883,
          -12.797653198242188,
          -12.74923038482666,
          -45.63347244262695,
          -50.94671630859375,
          -42.37125015258789,
          -15.720588684082031,
          -42.159908294677734,
          -47.953453063964844,
          -28.934650421142578,
          -29.169103622436523,
          -29.41756248474121,
          -15.498740196228027,
          -28.656482696533203,
          -42.2034912109375,
          -51.260711669921875,
          -50.71137619018555,
          -44.39878845214844,
          -48.741519927978516,
          -45.16237258911133,
          -46.047874450683594,
          -45.7531623840332,
          -47.075897216796875,
          -16.629194259643555,
          -48.1284065246582,
          -43.499656677246094,
          -44.711605072021484,
          -29.819377899169922,
          -48.582603454589844,
          -50.876094818115234,
          -42.466941833496094,
          55.369178771972656,
          50.32944869995117,
          53.49971389770508,
          55.10173416137695,
          55.08641052246094,
          53.790401458740234,
          56.02986526489258,
          56.60797882080078,
          56.556583404541016,
          -34.57148361206055,
          -35.332950592041016,
          -33.028438568115234,
          -32.06048583984375,
          -30.762866973876953,
          8.842679977416992,
          -31.829193115234375,
          8.210051536560059,
          9.105035781860352,
          -33.255863189697266,
          -34.639949798583984,
          8.929121017456055,
          -30.479494094848633,
          8.884771347045898,
          -28.73528480529785,
          -33.51742935180664,
          6.94545316696167,
          6.820591926574707,
          6.912041664123535,
          5.878192901611328,
          -12.142550468444824,
          5.730018138885498,
          -2.1025137901306152,
          -1.3309288024902344,
          18.760847091674805,
          17.726011276245117,
          6.312466144561768,
          6.387538909912109,
          7.087822437286377,
          7.047229290008545,
          38.82512283325195,
          39.73353576660156,
          35.33155822753906,
          34.29180145263672,
          27.02202606201172,
          27.592042922973633,
          26.90435218811035,
          27.932315826416016,
          27.485111236572266,
          -5.555644989013672,
          -22.523948669433594,
          -14.071903228759766,
          38.732749938964844,
          39.37025451660156,
          39.78249740600586
         ],
         "xaxis": "x",
         "y": [
          -6.362551689147949,
          -9.447256088256836,
          13.113667488098145,
          -9.448817253112793,
          -6.664222717285156,
          13.155424118041992,
          24.22640037536621,
          14.158744812011719,
          24.409326553344727,
          11.71810531616211,
          13.500672340393066,
          25.56022071838379,
          25.267702102661133,
          24.853450775146484,
          22.015541076660156,
          25.383682250976562,
          27.67369270324707,
          27.047222137451172,
          25.610605239868164,
          27.866291046142578,
          30.22085189819336,
          27.4549503326416,
          27.34424591064453,
          28.850460052490234,
          22.22308921813965,
          28.051403045654297,
          27.07502555847168,
          26.213666915893555,
          28.968708038330078,
          32.8339958190918,
          30.650407791137695,
          23.490856170654297,
          28.830242156982422,
          31.20542335510254,
          29.710330963134766,
          17.691162109375,
          30.72601318359375,
          32.835418701171875,
          26.263612747192383,
          26.154930114746094,
          21.378202438354492,
          21.374258041381836,
          17.689241409301758,
          23.515453338623047,
          26.21457862854004,
          31.515871047973633,
          -15.12263011932373,
          -12.06212329864502,
          -17.61849021911621,
          -15.868812561035156,
          -17.225448608398438,
          2.300117254257202,
          -22.322412490844727,
          -25.005586624145508,
          -20.342864990234375,
          -19.93465805053711,
          16.68189239501953,
          16.692855834960938,
          12.173375129699707,
          0.1727447211742401,
          18.09027671813965,
          12.137809753417969,
          31.60014533996582,
          31.529495239257812,
          21.09300422668457,
          33.462032318115234,
          19.90447998046875,
          19.499778747558594,
          33.69236755371094,
          31.643177032470703,
          32.46369552612305,
          35.64146041870117,
          31.628225326538086,
          37.68299102783203,
          37.23126983642578,
          28.811077117919922,
          37.0635871887207,
          33.234580993652344,
          31.773958206176758,
          33.680171966552734,
          34.96792221069336,
          20.68865203857422,
          33.767032623291016,
          26.739957809448242,
          35.004817962646484,
          18.16917610168457,
          30.27826499938965,
          35.638275146484375,
          30.844802856445312,
          25.55765724182129,
          -19.081239700317383,
          -7.160109996795654,
          4.924741744995117,
          4.956935405731201,
          26.86296844482422,
          26.850950241088867,
          25.284832000732422,
          25.08729362487793,
          27.86222267150879,
          25.56791114807129,
          25.63838768005371,
          14.785487174987793,
          -4.035678386688232,
          -9.583627700805664,
          -7.866718292236328,
          -11.932212829589844,
          -6.312676906585693,
          -8.917398452758789,
          -7.271184921264648,
          -5.449667930603027,
          -3.5937106609344482,
          -8.260258674621582,
          7.973433971405029,
          -2.8410658836364746,
          -3.833017110824585,
          -3.5077288150787354,
          -8.593172073364258,
          -7.046455383300781,
          -3.496098279953003,
          3.279433250427246,
          -1.309356689453125,
          -1.231960415840149,
          -3.3218328952789307,
          5.568893909454346,
          5.5566725730896,
          2.008769989013672,
          1.161655068397522,
          -1.3102961778640747,
          -0.07520581036806107,
          1.1318678855895996,
          0.685600221157074,
          0.46587517857551575,
          0.8962094783782959,
          2.9258058071136475,
          4.221710681915283,
          6.477128505706787,
          6.354869842529297,
          5.83095121383667,
          5.11644172668457,
          5.001227378845215,
          -9.036126136779785,
          4.229905128479004,
          24.219696044921875,
          -10.522636413574219,
          -4.402149200439453,
          -11.792664527893066,
          -12.51196575164795,
          -12.356226921081543,
          -11.979887008666992,
          20.841922760009766,
          21.40106201171875,
          16.46118927001953,
          23.982288360595703,
          19.913034439086914,
          17.84845542907715,
          18.189165115356445,
          15.95279598236084,
          14.0748929977417,
          12.512145042419434,
          13.729963302612305,
          12.19037914276123,
          13.197209358215332,
          20.44331932067871,
          17.37173080444336,
          20.107234954833984,
          16.905019760131836,
          -9.802790641784668,
          16.778162002563477,
          14.450984001159668,
          8.949763298034668,
          13.331136703491211,
          12.477892875671387,
          18.000858306884766,
          13.927836418151855,
          14.447444915771484,
          16.273000717163086,
          14.580187797546387,
          20.64520835876465,
          16.587013244628906,
          12.945531845092773,
          8.059814453125,
          -2.596954822540283,
          -2.610245943069458,
          -0.22196683287620544,
          -1.342932105064392,
          -1.3464993238449097,
          -10.830862045288086,
          -10.74396800994873,
          0.02055758610367775,
          -8.18099308013916,
          -0.5344735383987427,
          -4.272420883178711,
          -8.59363079071045,
          -8.031044960021973,
          -6.973061561584473,
          1.887441635131836,
          17.213655471801758,
          -2.603421449661255,
          4.422140121459961,
          3.8064873218536377,
          1.4826897382736206,
          2.433122396469116,
          3.550480365753174,
          5.2253737449646,
          4.4558424949646,
          2.4052600860595703,
          -9.871122360229492,
          -9.925237655639648,
          -11.343186378479004,
          15.862061500549316,
          -3.636762857437134,
          -5.58524227142334,
          16.124008178710938,
          -6.415689945220947,
          3.006819248199463,
          -6.372157573699951,
          -6.332131385803223,
          2.108938217163086,
          -9.817948341369629,
          -4.363112449645996,
          11.513973236083984,
          11.586615562438965,
          12.232263565063477,
          1.6958359479904175,
          10.506478309631348,
          -9.842881202697754,
          5.096712112426758,
          5.110578536987305,
          5.166641712188721,
          5.4099249839782715,
          -7.001800537109375,
          -5.432975769042969,
          -4.995070934295654,
          -6.566841125488281,
          1.2962044477462769,
          -5.000626564025879,
          -6.111952781677246,
          -9.20623779296875,
          11.118303298950195,
          -9.081295013427734,
          -6.614588260650635,
          -6.31826114654541,
          -9.757429122924805,
          -6.499019145965576,
          -8.762436866760254,
          -9.705780982971191,
          -7.440307140350342,
          -8.661823272705078,
          -7.602466583251953,
          -8.7428560256958,
          -8.600469589233398,
          -25.289104461669922,
          -13.09498405456543,
          -19.659645080566406,
          -15.34747314453125,
          -16.344335556030273,
          -37.83744430541992,
          -20.14971351623535,
          -39.961177825927734,
          -38.83405303955078,
          -11.636428833007812,
          -10.595561981201172,
          -38.30724334716797,
          -16.358366012573242,
          -39.32457733154297,
          -12.128130912780762,
          -11.449600219726562,
          -9.140814781188965,
          -7.391290664672852,
          -8.995598793029785,
          -7.32496452331543,
          -5.661698341369629,
          -7.2531256675720215,
          -20.014265060424805,
          -19.61785125732422,
          26.26265525817871,
          25.839075088500977,
          2.911115884780884,
          2.826598644256592,
          3.531787633895874,
          3.5893304347991943,
          -31.32794761657715,
          -30.272613525390625,
          4.6242289543151855,
          14.307546615600586,
          -28.98240852355957,
          -29.05229377746582,
          -29.560638427734375,
          -29.703702926635742,
          -30.066974639892578,
          -11.376492500305176,
          23.24462890625,
          11.607589721679688,
          -30.32159423828125,
          -31.547107696533203,
          -30.287647247314453
         ],
         "yaxis": "y"
        }
       ],
       "layout": {
        "height": 700,
        "hovermode": "closest",
        "legend": {
         "title": {
          "text": "Faculty Color Codes"
         },
         "tracegroupgap": 0
        },
        "template": {
         "data": {
          "bar": [
           {
            "error_x": {
             "color": "rgb(36,36,36)"
            },
            "error_y": {
             "color": "rgb(36,36,36)"
            },
            "marker": {
             "line": {
              "color": "white",
              "width": 0.5
             },
             "pattern": {
              "fillmode": "overlay",
              "size": 10,
              "solidity": 0.2
             }
            },
            "type": "bar"
           }
          ],
          "barpolar": [
           {
            "marker": {
             "line": {
              "color": "white",
              "width": 0.5
             },
             "pattern": {
              "fillmode": "overlay",
              "size": 10,
              "solidity": 0.2
             }
            },
            "type": "barpolar"
           }
          ],
          "carpet": [
           {
            "aaxis": {
             "endlinecolor": "rgb(36,36,36)",
             "gridcolor": "white",
             "linecolor": "white",
             "minorgridcolor": "white",
             "startlinecolor": "rgb(36,36,36)"
            },
            "baxis": {
             "endlinecolor": "rgb(36,36,36)",
             "gridcolor": "white",
             "linecolor": "white",
             "minorgridcolor": "white",
             "startlinecolor": "rgb(36,36,36)"
            },
            "type": "carpet"
           }
          ],
          "choropleth": [
           {
            "colorbar": {
             "outlinewidth": 1,
             "tickcolor": "rgb(36,36,36)",
             "ticks": "outside"
            },
            "type": "choropleth"
           }
          ],
          "contour": [
           {
            "colorbar": {
             "outlinewidth": 1,
             "tickcolor": "rgb(36,36,36)",
             "ticks": "outside"
            },
            "colorscale": [
             [
              0,
              "#440154"
             ],
             [
              0.1111111111111111,
              "#482878"
             ],
             [
              0.2222222222222222,
              "#3e4989"
             ],
             [
              0.3333333333333333,
              "#31688e"
             ],
             [
              0.4444444444444444,
              "#26828e"
             ],
             [
              0.5555555555555556,
              "#1f9e89"
             ],
             [
              0.6666666666666666,
              "#35b779"
             ],
             [
              0.7777777777777778,
              "#6ece58"
             ],
             [
              0.8888888888888888,
              "#b5de2b"
             ],
             [
              1,
              "#fde725"
             ]
            ],
            "type": "contour"
           }
          ],
          "contourcarpet": [
           {
            "colorbar": {
             "outlinewidth": 1,
             "tickcolor": "rgb(36,36,36)",
             "ticks": "outside"
            },
            "type": "contourcarpet"
           }
          ],
          "heatmap": [
           {
            "colorbar": {
             "outlinewidth": 1,
             "tickcolor": "rgb(36,36,36)",
             "ticks": "outside"
            },
            "colorscale": [
             [
              0,
              "#440154"
             ],
             [
              0.1111111111111111,
              "#482878"
             ],
             [
              0.2222222222222222,
              "#3e4989"
             ],
             [
              0.3333333333333333,
              "#31688e"
             ],
             [
              0.4444444444444444,
              "#26828e"
             ],
             [
              0.5555555555555556,
              "#1f9e89"
             ],
             [
              0.6666666666666666,
              "#35b779"
             ],
             [
              0.7777777777777778,
              "#6ece58"
             ],
             [
              0.8888888888888888,
              "#b5de2b"
             ],
             [
              1,
              "#fde725"
             ]
            ],
            "type": "heatmap"
           }
          ],
          "heatmapgl": [
           {
            "colorbar": {
             "outlinewidth": 1,
             "tickcolor": "rgb(36,36,36)",
             "ticks": "outside"
            },
            "colorscale": [
             [
              0,
              "#440154"
             ],
             [
              0.1111111111111111,
              "#482878"
             ],
             [
              0.2222222222222222,
              "#3e4989"
             ],
             [
              0.3333333333333333,
              "#31688e"
             ],
             [
              0.4444444444444444,
              "#26828e"
             ],
             [
              0.5555555555555556,
              "#1f9e89"
             ],
             [
              0.6666666666666666,
              "#35b779"
             ],
             [
              0.7777777777777778,
              "#6ece58"
             ],
             [
              0.8888888888888888,
              "#b5de2b"
             ],
             [
              1,
              "#fde725"
             ]
            ],
            "type": "heatmapgl"
           }
          ],
          "histogram": [
           {
            "marker": {
             "line": {
              "color": "white",
              "width": 0.6
             }
            },
            "type": "histogram"
           }
          ],
          "histogram2d": [
           {
            "colorbar": {
             "outlinewidth": 1,
             "tickcolor": "rgb(36,36,36)",
             "ticks": "outside"
            },
            "colorscale": [
             [
              0,
              "#440154"
             ],
             [
              0.1111111111111111,
              "#482878"
             ],
             [
              0.2222222222222222,
              "#3e4989"
             ],
             [
              0.3333333333333333,
              "#31688e"
             ],
             [
              0.4444444444444444,
              "#26828e"
             ],
             [
              0.5555555555555556,
              "#1f9e89"
             ],
             [
              0.6666666666666666,
              "#35b779"
             ],
             [
              0.7777777777777778,
              "#6ece58"
             ],
             [
              0.8888888888888888,
              "#b5de2b"
             ],
             [
              1,
              "#fde725"
             ]
            ],
            "type": "histogram2d"
           }
          ],
          "histogram2dcontour": [
           {
            "colorbar": {
             "outlinewidth": 1,
             "tickcolor": "rgb(36,36,36)",
             "ticks": "outside"
            },
            "colorscale": [
             [
              0,
              "#440154"
             ],
             [
              0.1111111111111111,
              "#482878"
             ],
             [
              0.2222222222222222,
              "#3e4989"
             ],
             [
              0.3333333333333333,
              "#31688e"
             ],
             [
              0.4444444444444444,
              "#26828e"
             ],
             [
              0.5555555555555556,
              "#1f9e89"
             ],
             [
              0.6666666666666666,
              "#35b779"
             ],
             [
              0.7777777777777778,
              "#6ece58"
             ],
             [
              0.8888888888888888,
              "#b5de2b"
             ],
             [
              1,
              "#fde725"
             ]
            ],
            "type": "histogram2dcontour"
           }
          ],
          "mesh3d": [
           {
            "colorbar": {
             "outlinewidth": 1,
             "tickcolor": "rgb(36,36,36)",
             "ticks": "outside"
            },
            "type": "mesh3d"
           }
          ],
          "parcoords": [
           {
            "line": {
             "colorbar": {
              "outlinewidth": 1,
              "tickcolor": "rgb(36,36,36)",
              "ticks": "outside"
             }
            },
            "type": "parcoords"
           }
          ],
          "pie": [
           {
            "automargin": true,
            "type": "pie"
           }
          ],
          "scatter": [
           {
            "fillpattern": {
             "fillmode": "overlay",
             "size": 10,
             "solidity": 0.2
            },
            "type": "scatter"
           }
          ],
          "scatter3d": [
           {
            "line": {
             "colorbar": {
              "outlinewidth": 1,
              "tickcolor": "rgb(36,36,36)",
              "ticks": "outside"
             }
            },
            "marker": {
             "colorbar": {
              "outlinewidth": 1,
              "tickcolor": "rgb(36,36,36)",
              "ticks": "outside"
             }
            },
            "type": "scatter3d"
           }
          ],
          "scattercarpet": [
           {
            "marker": {
             "colorbar": {
              "outlinewidth": 1,
              "tickcolor": "rgb(36,36,36)",
              "ticks": "outside"
             }
            },
            "type": "scattercarpet"
           }
          ],
          "scattergeo": [
           {
            "marker": {
             "colorbar": {
              "outlinewidth": 1,
              "tickcolor": "rgb(36,36,36)",
              "ticks": "outside"
             }
            },
            "type": "scattergeo"
           }
          ],
          "scattergl": [
           {
            "marker": {
             "colorbar": {
              "outlinewidth": 1,
              "tickcolor": "rgb(36,36,36)",
              "ticks": "outside"
             }
            },
            "type": "scattergl"
           }
          ],
          "scattermapbox": [
           {
            "marker": {
             "colorbar": {
              "outlinewidth": 1,
              "tickcolor": "rgb(36,36,36)",
              "ticks": "outside"
             }
            },
            "type": "scattermapbox"
           }
          ],
          "scatterpolar": [
           {
            "marker": {
             "colorbar": {
              "outlinewidth": 1,
              "tickcolor": "rgb(36,36,36)",
              "ticks": "outside"
             }
            },
            "type": "scatterpolar"
           }
          ],
          "scatterpolargl": [
           {
            "marker": {
             "colorbar": {
              "outlinewidth": 1,
              "tickcolor": "rgb(36,36,36)",
              "ticks": "outside"
             }
            },
            "type": "scatterpolargl"
           }
          ],
          "scatterternary": [
           {
            "marker": {
             "colorbar": {
              "outlinewidth": 1,
              "tickcolor": "rgb(36,36,36)",
              "ticks": "outside"
             }
            },
            "type": "scatterternary"
           }
          ],
          "surface": [
           {
            "colorbar": {
             "outlinewidth": 1,
             "tickcolor": "rgb(36,36,36)",
             "ticks": "outside"
            },
            "colorscale": [
             [
              0,
              "#440154"
             ],
             [
              0.1111111111111111,
              "#482878"
             ],
             [
              0.2222222222222222,
              "#3e4989"
             ],
             [
              0.3333333333333333,
              "#31688e"
             ],
             [
              0.4444444444444444,
              "#26828e"
             ],
             [
              0.5555555555555556,
              "#1f9e89"
             ],
             [
              0.6666666666666666,
              "#35b779"
             ],
             [
              0.7777777777777778,
              "#6ece58"
             ],
             [
              0.8888888888888888,
              "#b5de2b"
             ],
             [
              1,
              "#fde725"
             ]
            ],
            "type": "surface"
           }
          ],
          "table": [
           {
            "cells": {
             "fill": {
              "color": "rgb(237,237,237)"
             },
             "line": {
              "color": "white"
             }
            },
            "header": {
             "fill": {
              "color": "rgb(217,217,217)"
             },
             "line": {
              "color": "white"
             }
            },
            "type": "table"
           }
          ]
         },
         "layout": {
          "annotationdefaults": {
           "arrowhead": 0,
           "arrowwidth": 1
          },
          "autotypenumbers": "strict",
          "coloraxis": {
           "colorbar": {
            "outlinewidth": 1,
            "tickcolor": "rgb(36,36,36)",
            "ticks": "outside"
           }
          },
          "colorscale": {
           "diverging": [
            [
             0,
             "rgb(103,0,31)"
            ],
            [
             0.1,
             "rgb(178,24,43)"
            ],
            [
             0.2,
             "rgb(214,96,77)"
            ],
            [
             0.3,
             "rgb(244,165,130)"
            ],
            [
             0.4,
             "rgb(253,219,199)"
            ],
            [
             0.5,
             "rgb(247,247,247)"
            ],
            [
             0.6,
             "rgb(209,229,240)"
            ],
            [
             0.7,
             "rgb(146,197,222)"
            ],
            [
             0.8,
             "rgb(67,147,195)"
            ],
            [
             0.9,
             "rgb(33,102,172)"
            ],
            [
             1,
             "rgb(5,48,97)"
            ]
           ],
           "sequential": [
            [
             0,
             "#440154"
            ],
            [
             0.1111111111111111,
             "#482878"
            ],
            [
             0.2222222222222222,
             "#3e4989"
            ],
            [
             0.3333333333333333,
             "#31688e"
            ],
            [
             0.4444444444444444,
             "#26828e"
            ],
            [
             0.5555555555555556,
             "#1f9e89"
            ],
            [
             0.6666666666666666,
             "#35b779"
            ],
            [
             0.7777777777777778,
             "#6ece58"
            ],
            [
             0.8888888888888888,
             "#b5de2b"
            ],
            [
             1,
             "#fde725"
            ]
           ],
           "sequentialminus": [
            [
             0,
             "#440154"
            ],
            [
             0.1111111111111111,
             "#482878"
            ],
            [
             0.2222222222222222,
             "#3e4989"
            ],
            [
             0.3333333333333333,
             "#31688e"
            ],
            [
             0.4444444444444444,
             "#26828e"
            ],
            [
             0.5555555555555556,
             "#1f9e89"
            ],
            [
             0.6666666666666666,
             "#35b779"
            ],
            [
             0.7777777777777778,
             "#6ece58"
            ],
            [
             0.8888888888888888,
             "#b5de2b"
            ],
            [
             1,
             "#fde725"
            ]
           ]
          },
          "colorway": [
           "#1F77B4",
           "#FF7F0E",
           "#2CA02C",
           "#D62728",
           "#9467BD",
           "#8C564B",
           "#E377C2",
           "#7F7F7F",
           "#BCBD22",
           "#17BECF"
          ],
          "font": {
           "color": "rgb(36,36,36)"
          },
          "geo": {
           "bgcolor": "white",
           "lakecolor": "white",
           "landcolor": "white",
           "showlakes": true,
           "showland": true,
           "subunitcolor": "white"
          },
          "hoverlabel": {
           "align": "left"
          },
          "hovermode": "closest",
          "mapbox": {
           "style": "light"
          },
          "paper_bgcolor": "white",
          "plot_bgcolor": "white",
          "polar": {
           "angularaxis": {
            "gridcolor": "rgb(232,232,232)",
            "linecolor": "rgb(36,36,36)",
            "showgrid": false,
            "showline": true,
            "ticks": "outside"
           },
           "bgcolor": "white",
           "radialaxis": {
            "gridcolor": "rgb(232,232,232)",
            "linecolor": "rgb(36,36,36)",
            "showgrid": false,
            "showline": true,
            "ticks": "outside"
           }
          },
          "scene": {
           "xaxis": {
            "backgroundcolor": "white",
            "gridcolor": "rgb(232,232,232)",
            "gridwidth": 2,
            "linecolor": "rgb(36,36,36)",
            "showbackground": true,
            "showgrid": false,
            "showline": true,
            "ticks": "outside",
            "zeroline": false,
            "zerolinecolor": "rgb(36,36,36)"
           },
           "yaxis": {
            "backgroundcolor": "white",
            "gridcolor": "rgb(232,232,232)",
            "gridwidth": 2,
            "linecolor": "rgb(36,36,36)",
            "showbackground": true,
            "showgrid": false,
            "showline": true,
            "ticks": "outside",
            "zeroline": false,
            "zerolinecolor": "rgb(36,36,36)"
           },
           "zaxis": {
            "backgroundcolor": "white",
            "gridcolor": "rgb(232,232,232)",
            "gridwidth": 2,
            "linecolor": "rgb(36,36,36)",
            "showbackground": true,
            "showgrid": false,
            "showline": true,
            "ticks": "outside",
            "zeroline": false,
            "zerolinecolor": "rgb(36,36,36)"
           }
          },
          "shapedefaults": {
           "fillcolor": "black",
           "line": {
            "width": 0
           },
           "opacity": 0.3
          },
          "ternary": {
           "aaxis": {
            "gridcolor": "rgb(232,232,232)",
            "linecolor": "rgb(36,36,36)",
            "showgrid": false,
            "showline": true,
            "ticks": "outside"
           },
           "baxis": {
            "gridcolor": "rgb(232,232,232)",
            "linecolor": "rgb(36,36,36)",
            "showgrid": false,
            "showline": true,
            "ticks": "outside"
           },
           "bgcolor": "white",
           "caxis": {
            "gridcolor": "rgb(232,232,232)",
            "linecolor": "rgb(36,36,36)",
            "showgrid": false,
            "showline": true,
            "ticks": "outside"
           }
          },
          "title": {
           "x": 0.05
          },
          "xaxis": {
           "automargin": true,
           "gridcolor": "rgb(232,232,232)",
           "linecolor": "rgb(36,36,36)",
           "showgrid": false,
           "showline": true,
           "ticks": "outside",
           "title": {
            "standoff": 15
           },
           "zeroline": false,
           "zerolinecolor": "rgb(36,36,36)"
          },
          "yaxis": {
           "automargin": true,
           "gridcolor": "rgb(232,232,232)",
           "linecolor": "rgb(36,36,36)",
           "showgrid": false,
           "showline": true,
           "ticks": "outside",
           "title": {
            "standoff": 15
           },
           "zeroline": false,
           "zerolinecolor": "rgb(36,36,36)"
          }
         }
        },
        "title": {
         "font": {
          "size": 20
         },
         "text": "UiA Course Embeddings Interactive Plot",
         "x": 0.5,
         "xanchor": "center",
         "y": 0.95,
         "yanchor": "top"
        },
        "width": 1000,
        "xaxis": {
         "anchor": "y",
         "domain": [
          0,
          1
         ],
         "showgrid": false,
         "showline": false,
         "showticklabels": false,
         "ticks": "",
         "title": {
          "text": ""
         },
         "zeroline": false
        },
        "yaxis": {
         "anchor": "x",
         "domain": [
          0,
          1
         ],
         "showgrid": false,
         "showline": false,
         "showticklabels": false,
         "ticks": "",
         "title": {
          "text": ""
         },
         "zeroline": false
        }
       }
      }
     },
     "metadata": {},
     "output_type": "display_data"
    }
   ],
   "source": [
    "import numpy as np\n",
    "from sklearn.manifold import TSNE\n",
    "import plotly.express as px\n",
    "import pandas as pd\n",
    "\n",
    "FACULTY_CODE_TO_NAME = {\n",
    "    \"TR\": \"Engineering and Science\",\n",
    "    \"HI\": \"Health and Sport Science\",\n",
    "    \"SV\": \"Social Sciences\",\n",
    "    \"LU\": \"Teacher Education Unit\",\n",
    "    \"KU\": \"Fine Arts\",\n",
    "    \"HH\": \"School of Business and Law\",\n",
    "    \"HP\": \"Humanities and Education\",\n",
    "}\n",
    "\n",
    "# Build a function to plot an interactive t-SNE visualization\n",
    "def plot_interactive_tsne(embeddings, faculty_codes, course_names, title=\"UiA Course Embeddings Interactive Plot\"):\n",
    "    # The embeddings are high-dimensional, we need to reduce them to 2D for visualization\n",
    "    tsne = TSNE(n_components=2, perplexity=30, random_state=41)\n",
    "    tsne_results = tsne.fit_transform(embeddings)\n",
    "    \n",
    "    df = pd.DataFrame({\n",
    "        \"x\": tsne_results[:, 0],\n",
    "        \"y\": tsne_results[:, 1],\n",
    "        \"Faculty\": faculty_codes,\n",
    "        \"Course\": course_names\n",
    "    })\n",
    "    \n",
    "    # Create interactive scatter plot\n",
    "    fig = px.scatter(\n",
    "        df,\n",
    "        x=\"x\",\n",
    "        y=\"y\",\n",
    "        color=\"Faculty\",\n",
    "        hover_data=[\"Course\", \"Faculty\"],\n",
    "        title=title,\n",
    "        color_discrete_sequence=px.colors.qualitative.Set3,\n",
    "        labels={\n",
    "            \"x\": \"\",\n",
    "            \"y\": \"\"\n",
    "        } # Hide axis labels, in a t-SNE diagram these are essentially arbitrary\n",
    "    )\n",
    "    \n",
    "    # Customize the layout, we\"ll be color coding by faculty but there\"s no reason we can\"t use \n",
    "    fig.update_layout(\n",
    "        title={\n",
    "            \"y\":0.95,\n",
    "            \"x\":0.5,\n",
    "            \"xanchor\": \"center\",\n",
    "            \"yanchor\": \"top\",\n",
    "            \"font\": {\"size\": 20}\n",
    "        },\n",
    "        legend_title_text=\"Faculty Color Codes\",\n",
    "        width=1000,\n",
    "        height=700,\n",
    "        template=\"simple_white\",\n",
    "        hovermode=\"closest\",\n",
    "        # Similarly to the labels, there's no reason to show the axes in a t-SNE diagram\n",
    "        xaxis=dict(showgrid=False, zeroline=False, showticklabels=False, showline=False, ticks=\"\"), \n",
    "        yaxis=dict(showgrid=False, zeroline=False, showticklabels=False, showline=False, ticks=\"\"),\n",
    "    )\n",
    "    \n",
    "    # Customize hover template\n",
    "    fig.update_traces(\n",
    "        hovertemplate=\"<br>\".join([\n",
    "            \"<b>Course:</b> %{customdata[0]}\",\n",
    "            \"<b>Faculty:</b> %{customdata[1]}\",\n",
    "            \"<extra></extra>\"\n",
    "        ]),\n",
    "        marker=dict(size=8)\n",
    "    )\n",
    "    \n",
    "    return fig\n",
    "\n",
    "# How we choose to represent course names in the plot\n",
    "def build_course_string(row):\n",
    "    return f\"{row['emne_id']} - {row['emne_navn_eng']}\"\n",
    "\n",
    "course_embeddings = np.stack(course_df[\"embedding\"])\n",
    "course_faculties = course_df[\"faculty_code\"].apply(lambda x: FACULTY_CODE_TO_NAME[x]).values\n",
    "course_names = course_df.apply(build_course_string, axis=1).values\n",
    "fig = plot_interactive_tsne(course_embeddings, course_faculties, course_names)\n",
    "fig.show()\n"
   ]
  },
  {
   "cell_type": "code",
   "execution_count": null,
   "metadata": {},
   "outputs": [],
   "source": [
    "# Saving the plot to html handily retains the interactivity via Javascript, simply open the file in any browser\n",
    "# (Aside from Firefox at the time of writing)\n",
    "fig.write_html(\"data/course_similarity.html\")"
   ]
  }
 ],
 "metadata": {
  "kernelspec": {
   "display_name": "course_similarity",
   "language": "python",
   "name": "python3"
  },
  "language_info": {
   "codemirror_mode": {
    "name": "ipython",
    "version": 3
   },
   "file_extension": ".py",
   "mimetype": "text/x-python",
   "name": "python",
   "nbconvert_exporter": "python",
   "pygments_lexer": "ipython3",
   "version": "3.10.15"
  }
 },
 "nbformat": 4,
 "nbformat_minor": 2
}
